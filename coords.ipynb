{
 "cells": [
  {
   "cell_type": "code",
   "execution_count": 5,
   "metadata": {},
   "outputs": [],
   "source": [
    "import cv2\n",
    "import mediapipe as mp\n",
    "import time\n",
    "import numpy as np\n",
    "import pandas as pd"
   ]
  },
  {
   "cell_type": "code",
   "execution_count": 6,
   "metadata": {},
   "outputs": [],
   "source": [
    "mp_drawing = mp.solutions.drawing_utils\n",
    "mp_drawing_styles = mp.solutions.drawing_styles\n",
    "mp_hands = mp.solutions.hands"
   ]
  },
  {
   "cell_type": "code",
   "execution_count": 7,
   "metadata": {},
   "outputs": [],
   "source": [
    "cap = cv2.VideoCapture(0)\n",
    "ls = []\n",
    "\n",
    "with mp_hands.Hands(\n",
    "    model_complexity = 0,\n",
    "    min_detection_confidence = 0.5,\n",
    "    min_tracking_confidence = 0.5\n",
    ") as hands:\n",
    "    \n",
    "    while cap.isOpened():\n",
    "        lmk_x, lmk_y, lmk_z = 0, 0, 0\n",
    "        wlmk_x, wlmk_y, wlmk_z = 0, 0, 0\n",
    "\n",
    "        time_start = time.time()\n",
    "\n",
    "        retval, frame = cap.read()\n",
    "\n",
    "        if not retval:\n",
    "            print(\"Camera Error; Exiting\")\n",
    "            break\n",
    "\n",
    "        frame.flags.writeable = False\n",
    "        frame = cv2.cvtColor(frame, cv2.COLOR_BGR2RGB)\n",
    "        results = hands.process(frame)\n",
    "        frame = cv2.cvtColor(frame, cv2.COLOR_RGB2BGR)\n",
    "\n",
    "        if results.multi_hand_landmarks:\n",
    "            for hand_landmarks in results.multi_hand_landmarks:\n",
    "\n",
    "                lmk_x, lmk_y, lmk_z = [[lmk.x, lmk.y, lmk.z] for lmk in hand_landmarks.landmark][0]\n",
    "\n",
    "                mp_drawing.draw_landmarks(\n",
    "                    frame,\n",
    "                    hand_landmarks,\n",
    "                    mp_hands.HAND_CONNECTIONS,\n",
    "                    mp_drawing_styles.get_default_hand_landmarks_style(),\n",
    "                    mp_drawing_styles.get_default_hand_connections_style()\n",
    "                )\n",
    "\n",
    "        if results.multi_hand_world_landmarks:\n",
    "            for hand_landmarks in results.multi_hand_world_landmarks:\n",
    "                wlmk_x, wlmk_y, wlmk_z = [[lmk.x, lmk.y, lmk.z] for lmk in hand_landmarks.landmark][0]\n",
    "\n",
    "                ls.append([[lmk.x, lmk.y] for lmk in hand_landmarks.landmark])\n",
    "\n",
    "\n",
    "        frame = cv2.copyMakeBorder(frame, 0, 80, 0, 0, cv2.BORDER_CONSTANT)\n",
    "\n",
    "        fps = 1 / (time.time() - time_start)\n",
    "\n",
    "        frame = cv2.putText(frame, f\"FPS: {round(fps)}\", (10,30), cv2.FONT_HERSHEY_SIMPLEX, 1, (255, 0, 0), 3)\n",
    "        frame = cv2.putText(frame, f\"L: {lmk_x:.4f}, {lmk_y:.4f}, {lmk_z:.4f}\", (10,frame.shape[1]-90), cv2.FONT_HERSHEY_SIMPLEX, 1, (255, 255, 255), 3)\n",
    "        frame = cv2.putText(frame, f\"WL: {wlmk_x:.4f}, {wlmk_y:.4f}, {wlmk_z:.4f}\", (10,frame.shape[1]-130), cv2.FONT_HERSHEY_SIMPLEX, 1, (255, 255, 255), 3)\n",
    "\n",
    "        cv2.imshow(\"Hand Landmarks\", frame)\n",
    "\n",
    "        if cv2.waitKey(1) == ord('q'):\n",
    "            break\n",
    "\n",
    "cap.release()\n",
    "cv2.destroyAllWindows()"
   ]
  },
  {
   "cell_type": "code",
   "execution_count": 8,
   "metadata": {},
   "outputs": [],
   "source": [
    "cap.release()\n",
    "cv2.destroyAllWindows()"
   ]
  },
  {
   "cell_type": "code",
   "execution_count": 9,
   "metadata": {},
   "outputs": [
    {
     "data": {
      "text/plain": [
       "array([[ 0.00772233,  0.05999971,  0.02454698,  0.03208907,  0.03864972,\n",
       "         0.01176152,  0.04836433, -0.00705937,  0.05084202, -0.02124037,\n",
       "         0.01635749, -0.01222288,  0.01467768, -0.03438256,  0.01513621,\n",
       "        -0.05426402,  0.01637551, -0.07467087,  0.00234061, -0.00325448,\n",
       "        -0.00113547, -0.03003502, -0.00151018, -0.05382849, -0.00557284,\n",
       "        -0.07519286, -0.01080897,  0.00696477, -0.01770475, -0.01380248,\n",
       "        -0.02173349, -0.03673345, -0.02356342, -0.05413804, -0.02203409,\n",
       "         0.02285602, -0.03350209,  0.00668956, -0.03987806, -0.01081933,\n",
       "        -0.03980641, -0.02102102],\n",
       "       [ 0.00612337,  0.06467301,  0.02599587,  0.03669615,  0.04021929,\n",
       "         0.01832211,  0.05451439, -0.00329753,  0.06222405, -0.01819393,\n",
       "         0.01622401, -0.01247538,  0.01826414, -0.03846272,  0.02234804,\n",
       "        -0.05927929,  0.02842454, -0.07561393,  0.0020321 , -0.0037099 ,\n",
       "        -0.0012313 , -0.03338096, -0.00010826, -0.06045076, -0.00232293,\n",
       "        -0.08238319, -0.01179258,  0.00699755, -0.0198983 , -0.0172302 ,\n",
       "        -0.02527559, -0.03982039, -0.02754465, -0.05690387, -0.0234437 ,\n",
       "         0.0238379 , -0.03360352,  0.00623665, -0.03946112, -0.01108457,\n",
       "        -0.04110503, -0.02246193],\n",
       "       [ 0.01183812,  0.07831323,  0.03445121,  0.04951674,  0.05318955,\n",
       "         0.03135578,  0.07118835,  0.00676399,  0.08770812, -0.00876302,\n",
       "         0.01985703, -0.00789682,  0.02068163, -0.03309938,  0.02675604,\n",
       "        -0.04917386,  0.03528992, -0.06344035,  0.00098366, -0.00470445,\n",
       "        -0.00166088, -0.0303576 , -0.00023461, -0.05120585,  0.00468713,\n",
       "        -0.06624544, -0.01411501,  0.00397834, -0.02234997, -0.0193819 ,\n",
       "        -0.02161767, -0.04068727, -0.01800144, -0.05870381, -0.02225546,\n",
       "         0.01918793, -0.03593969,  0.00372609, -0.04252306, -0.01209421,\n",
       "        -0.04401644, -0.02888053],\n",
       "       [ 0.00474205,  0.07898986,  0.02746342,  0.05268858,  0.04872959,\n",
       "         0.03426711,  0.06983556,  0.01222353,  0.08795913,  0.00073763,\n",
       "         0.01759906, -0.01148106,  0.01975392, -0.03537879,  0.0286974 ,\n",
       "        -0.05035384,  0.03976232, -0.0638571 ,  0.00031288, -0.00619931,\n",
       "        -0.00052748, -0.03676887,  0.00302279, -0.05891041,  0.00915699,\n",
       "        -0.07405014, -0.01245496,  0.00571034, -0.02035725, -0.0215245 ,\n",
       "        -0.02146551, -0.04493672, -0.01814416, -0.06504212, -0.0199246 ,\n",
       "         0.02480556, -0.03210045,  0.0080562 , -0.03825866, -0.00914047,\n",
       "        -0.03982846, -0.02608906],\n",
       "       [ 0.00462457,  0.08504795,  0.02986492,  0.05822039,  0.05057543,\n",
       "         0.03959002,  0.07208187,  0.01730618,  0.08951649,  0.00306914,\n",
       "         0.019563  , -0.00901814,  0.02483942, -0.03601632,  0.03134395,\n",
       "        -0.05209596,  0.04227137, -0.06834935,  0.00106707, -0.00675207,\n",
       "        -0.00021577, -0.0386916 ,  0.00365747, -0.06225291,  0.01008568,\n",
       "        -0.079448  , -0.01361356,  0.00512927, -0.02165657, -0.02363552,\n",
       "        -0.02366944, -0.04710325, -0.02077631, -0.06599868, -0.02157613,\n",
       "         0.02425688, -0.0348015 ,  0.00587539, -0.04145265, -0.01142001,\n",
       "        -0.04175252, -0.02422808]])"
      ]
     },
     "execution_count": 9,
     "metadata": {},
     "output_type": "execute_result"
    }
   ],
   "source": [
    "ls = np.array(ls)\n",
    "ls = ls.reshape(-1, 42)\n",
    "ls[:5]"
   ]
  },
  {
   "cell_type": "code",
   "execution_count": 10,
   "metadata": {},
   "outputs": [],
   "source": [
    "df_columns = []\n",
    "for i in range(21):\n",
    "    df_columns.append(f\"Landmark {i} x\")\n",
    "    df_columns.append(f\"Landmark {i} y\")"
   ]
  },
  {
   "cell_type": "code",
   "execution_count": 12,
   "metadata": {},
   "outputs": [
    {
     "data": {
      "text/plain": [
       "(89, 42)"
      ]
     },
     "execution_count": 12,
     "metadata": {},
     "output_type": "execute_result"
    }
   ],
   "source": [
    "# create dataframe where rows are frames and columns are coordinates of all 21 landmarks (x, y have distinct columns)\n",
    "df = pd.DataFrame(ls, columns=df_columns)\n",
    "df.shape"
   ]
  },
  {
   "cell_type": "code",
   "execution_count": 13,
   "metadata": {},
   "outputs": [],
   "source": [
    "df.to_csv(\"test_lattices.csv\", index=False)"
   ]
  }
 ],
 "metadata": {
  "kernelspec": {
   "display_name": "base",
   "language": "python",
   "name": "python3"
  },
  "language_info": {
   "codemirror_mode": {
    "name": "ipython",
    "version": 3
   },
   "file_extension": ".py",
   "mimetype": "text/x-python",
   "name": "python",
   "nbconvert_exporter": "python",
   "pygments_lexer": "ipython3",
   "version": "3.9.19"
  }
 },
 "nbformat": 4,
 "nbformat_minor": 2
}
