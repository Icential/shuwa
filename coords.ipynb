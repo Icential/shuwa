{
 "cells": [
  {
   "cell_type": "code",
   "execution_count": 27,
   "metadata": {},
   "outputs": [],
   "source": [
    "import cv2\n",
    "import mediapipe as mp\n",
    "import time\n",
    "import numpy as np\n",
    "import pandas as pd"
   ]
  },
  {
   "cell_type": "code",
   "execution_count": 28,
   "metadata": {},
   "outputs": [],
   "source": [
    "mp_drawing = mp.solutions.drawing_utils\n",
    "mp_drawing_styles = mp.solutions.drawing_styles\n",
    "mp_hands = mp.solutions.hands"
   ]
  },
  {
   "cell_type": "code",
   "execution_count": 34,
   "metadata": {},
   "outputs": [],
   "source": [
    "cap = cv2.VideoCapture(0)\n",
    "\n",
    "with mp_hands.Hands(\n",
    "    model_complexity = 0,\n",
    "    min_detection_confidence = 0.5,\n",
    "    min_tracking_confidence = 0.5\n",
    ") as hands:\n",
    "    \n",
    "    while cap.isOpened():\n",
    "        lmk_x, lmk_y, lmk_z = 0, 0, 0\n",
    "        wlmk_x, wlmk_y, wlmk_z = 0, 0, 0\n",
    "\n",
    "        time_start = time.time()\n",
    "\n",
    "        retval, frame = cap.read()\n",
    "\n",
    "        if not retval:\n",
    "            print(\"Camera Error; Exiting\")\n",
    "            break\n",
    "\n",
    "        frame.flags.writeable = False\n",
    "        frame = cv2.cvtColor(frame, cv2.COLOR_BGR2RGB)\n",
    "        results = hands.process(frame)\n",
    "        frame = cv2.cvtColor(frame, cv2.COLOR_RGB2BGR)\n",
    "\n",
    "        if results.multi_hand_landmarks:\n",
    "            for hand_landmarks in results.multi_hand_landmarks:\n",
    "\n",
    "                lmk_x, lmk_y, lmk_z = [[lmk.x, lmk.y, lmk.z] for lmk in hand_landmarks.landmark][0]\n",
    "\n",
    "                mp_drawing.draw_landmarks(\n",
    "                    frame,\n",
    "                    hand_landmarks,\n",
    "                    mp_hands.HAND_CONNECTIONS,\n",
    "                    mp_drawing_styles.get_default_hand_landmarks_style(),\n",
    "                    mp_drawing_styles.get_default_hand_connections_style()\n",
    "                )\n",
    "\n",
    "        if results.multi_hand_world_landmarks:\n",
    "            for hand_landmarks in results.multi_hand_world_landmarks:\n",
    "                wlmk_x, wlmk_y, wlmk_z = [[lmk.x, lmk.y, lmk.z] for lmk in hand_landmarks.landmark][0]\n",
    "\n",
    "\n",
    "        frame = cv2.copyMakeBorder(frame, 0, 80, 0, 0, cv2.BORDER_CONSTANT)\n",
    "\n",
    "        fps = 1 / (time.time() - time_start)\n",
    "\n",
    "        frame = cv2.putText(frame, f\"FPS: {round(fps)}\", (10,30), cv2.FONT_HERSHEY_SIMPLEX, 1, (255, 0, 0), 3)\n",
    "        frame = cv2.putText(frame, f\"L: {lmk_x:.4f}, {lmk_y:.4f}, {lmk_z:.4f}\", (10,frame.shape[1]-90), cv2.FONT_HERSHEY_SIMPLEX, 1, (255, 255, 255), 3)\n",
    "        frame = cv2.putText(frame, f\"WL: {wlmk_x:.4f}, {wlmk_y:.4f}, {wlmk_z:.4f}\", (10,frame.shape[1]-130), cv2.FONT_HERSHEY_SIMPLEX, 1, (255, 255, 255), 3)\n",
    "\n",
    "        cv2.imshow(\"Hand Landmarks\", frame)\n",
    "\n",
    "        if cv2.waitKey(1) == ord('q'):\n",
    "            break\n",
    "\n",
    "cap.release()\n",
    "cv2.destroyAllWindows()"
   ]
  },
  {
   "cell_type": "code",
   "execution_count": 30,
   "metadata": {},
   "outputs": [],
   "source": [
    "cap.release()\n",
    "cv2.destroyAllWindows()"
   ]
  }
 ],
 "metadata": {
  "kernelspec": {
   "display_name": "base",
   "language": "python",
   "name": "python3"
  },
  "language_info": {
   "codemirror_mode": {
    "name": "ipython",
    "version": 3
   },
   "file_extension": ".py",
   "mimetype": "text/x-python",
   "name": "python",
   "nbconvert_exporter": "python",
   "pygments_lexer": "ipython3",
   "version": "3.9.19"
  }
 },
 "nbformat": 4,
 "nbformat_minor": 2
}
