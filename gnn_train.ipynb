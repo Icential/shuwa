{
 "cells": [
  {
   "cell_type": "code",
   "execution_count": 26,
   "metadata": {},
   "outputs": [],
   "source": [
    "import pandas as pd\n",
    "import joblib\n",
    "import matplotlib.pyplot as plt\n",
    "import seaborn as sns\n",
    "from sklearn.preprocessing import LabelEncoder\n",
    "import torch\n",
    "import torch.nn as nn\n",
    "import torch.nn.functional as F\n",
    "from torch_geometric.nn import GraphConv, global_mean_pool\n",
    "from torch_geometric.utils import to_undirected\n",
    "from torch_geometric.data import Data\n",
    "from torch_geometric.loader import DataLoader\n",
    "from tqdm import tqdm\n",
    "from safetensors.torch import save_model"
   ]
  },
  {
   "cell_type": "code",
   "execution_count": 27,
   "metadata": {},
   "outputs": [],
   "source": [
    "# device = 'cuda' if torch.cuda.is_available() else 'cpu'\n",
    "device = \"cpu\""
   ]
  },
  {
   "cell_type": "markdown",
   "metadata": {},
   "source": [
    "### Data Processing"
   ]
  },
  {
   "cell_type": "code",
   "execution_count": 28,
   "metadata": {},
   "outputs": [
    {
     "data": {
      "text/html": [
       "<div>\n",
       "<style scoped>\n",
       "    .dataframe tbody tr th:only-of-type {\n",
       "        vertical-align: middle;\n",
       "    }\n",
       "\n",
       "    .dataframe tbody tr th {\n",
       "        vertical-align: top;\n",
       "    }\n",
       "\n",
       "    .dataframe thead th {\n",
       "        text-align: right;\n",
       "    }\n",
       "</style>\n",
       "<table border=\"1\" class=\"dataframe\">\n",
       "  <thead>\n",
       "    <tr style=\"text-align: right;\">\n",
       "      <th></th>\n",
       "      <th>Unnamed: 0.1</th>\n",
       "      <th>Unnamed: 0</th>\n",
       "      <th>Landmark 1 x</th>\n",
       "      <th>Landmark 1 y</th>\n",
       "      <th>Landmark 2 x</th>\n",
       "      <th>Landmark 2 y</th>\n",
       "      <th>Landmark 3 x</th>\n",
       "      <th>Landmark 3 y</th>\n",
       "      <th>Landmark 4 x</th>\n",
       "      <th>Landmark 4 y</th>\n",
       "      <th>...</th>\n",
       "      <th>Landmark 16 y</th>\n",
       "      <th>Landmark 17 x</th>\n",
       "      <th>Landmark 17 y</th>\n",
       "      <th>Landmark 18 x</th>\n",
       "      <th>Landmark 18 y</th>\n",
       "      <th>Landmark 19 x</th>\n",
       "      <th>Landmark 19 y</th>\n",
       "      <th>Landmark 20 x</th>\n",
       "      <th>Landmark 20 y</th>\n",
       "      <th>Label</th>\n",
       "    </tr>\n",
       "  </thead>\n",
       "  <tbody>\n",
       "    <tr>\n",
       "      <th>0</th>\n",
       "      <td>0</td>\n",
       "      <td>0.0</td>\n",
       "      <td>0.447142</td>\n",
       "      <td>0.590708</td>\n",
       "      <td>0.469595</td>\n",
       "      <td>0.513098</td>\n",
       "      <td>0.471293</td>\n",
       "      <td>0.451205</td>\n",
       "      <td>0.455870</td>\n",
       "      <td>0.405068</td>\n",
       "      <td>...</td>\n",
       "      <td>0.630833</td>\n",
       "      <td>0.518164</td>\n",
       "      <td>0.645377</td>\n",
       "      <td>0.555401</td>\n",
       "      <td>0.660619</td>\n",
       "      <td>0.535724</td>\n",
       "      <td>0.671495</td>\n",
       "      <td>0.516766</td>\n",
       "      <td>0.669519</td>\n",
       "      <td>good</td>\n",
       "    </tr>\n",
       "    <tr>\n",
       "      <th>1</th>\n",
       "      <td>1</td>\n",
       "      <td>1.0</td>\n",
       "      <td>0.447354</td>\n",
       "      <td>0.598270</td>\n",
       "      <td>0.470890</td>\n",
       "      <td>0.518473</td>\n",
       "      <td>0.474211</td>\n",
       "      <td>0.456242</td>\n",
       "      <td>0.458783</td>\n",
       "      <td>0.407200</td>\n",
       "      <td>...</td>\n",
       "      <td>0.634632</td>\n",
       "      <td>0.518493</td>\n",
       "      <td>0.648955</td>\n",
       "      <td>0.557850</td>\n",
       "      <td>0.663069</td>\n",
       "      <td>0.536107</td>\n",
       "      <td>0.673253</td>\n",
       "      <td>0.514505</td>\n",
       "      <td>0.670299</td>\n",
       "      <td>good</td>\n",
       "    </tr>\n",
       "    <tr>\n",
       "      <th>2</th>\n",
       "      <td>2</td>\n",
       "      <td>2.0</td>\n",
       "      <td>0.447751</td>\n",
       "      <td>0.594389</td>\n",
       "      <td>0.471821</td>\n",
       "      <td>0.516508</td>\n",
       "      <td>0.474668</td>\n",
       "      <td>0.455287</td>\n",
       "      <td>0.459516</td>\n",
       "      <td>0.407649</td>\n",
       "      <td>...</td>\n",
       "      <td>0.634539</td>\n",
       "      <td>0.519102</td>\n",
       "      <td>0.647704</td>\n",
       "      <td>0.561070</td>\n",
       "      <td>0.663423</td>\n",
       "      <td>0.539275</td>\n",
       "      <td>0.672495</td>\n",
       "      <td>0.516909</td>\n",
       "      <td>0.668556</td>\n",
       "      <td>good</td>\n",
       "    </tr>\n",
       "    <tr>\n",
       "      <th>3</th>\n",
       "      <td>3</td>\n",
       "      <td>3.0</td>\n",
       "      <td>0.447579</td>\n",
       "      <td>0.594926</td>\n",
       "      <td>0.471340</td>\n",
       "      <td>0.515999</td>\n",
       "      <td>0.474191</td>\n",
       "      <td>0.453736</td>\n",
       "      <td>0.458233</td>\n",
       "      <td>0.405407</td>\n",
       "      <td>...</td>\n",
       "      <td>0.636172</td>\n",
       "      <td>0.520290</td>\n",
       "      <td>0.647888</td>\n",
       "      <td>0.561078</td>\n",
       "      <td>0.664179</td>\n",
       "      <td>0.539073</td>\n",
       "      <td>0.673748</td>\n",
       "      <td>0.516713</td>\n",
       "      <td>0.669505</td>\n",
       "      <td>good</td>\n",
       "    </tr>\n",
       "    <tr>\n",
       "      <th>4</th>\n",
       "      <td>4</td>\n",
       "      <td>4.0</td>\n",
       "      <td>0.448942</td>\n",
       "      <td>0.590661</td>\n",
       "      <td>0.472229</td>\n",
       "      <td>0.511420</td>\n",
       "      <td>0.474214</td>\n",
       "      <td>0.448855</td>\n",
       "      <td>0.457358</td>\n",
       "      <td>0.401411</td>\n",
       "      <td>...</td>\n",
       "      <td>0.629209</td>\n",
       "      <td>0.520169</td>\n",
       "      <td>0.637428</td>\n",
       "      <td>0.560247</td>\n",
       "      <td>0.658442</td>\n",
       "      <td>0.537632</td>\n",
       "      <td>0.668001</td>\n",
       "      <td>0.514961</td>\n",
       "      <td>0.662070</td>\n",
       "      <td>good</td>\n",
       "    </tr>\n",
       "  </tbody>\n",
       "</table>\n",
       "<p>5 rows × 43 columns</p>\n",
       "</div>"
      ],
      "text/plain": [
       "   Unnamed: 0.1  Unnamed: 0  Landmark 1 x  Landmark 1 y  Landmark 2 x  \\\n",
       "0             0         0.0      0.447142      0.590708      0.469595   \n",
       "1             1         1.0      0.447354      0.598270      0.470890   \n",
       "2             2         2.0      0.447751      0.594389      0.471821   \n",
       "3             3         3.0      0.447579      0.594926      0.471340   \n",
       "4             4         4.0      0.448942      0.590661      0.472229   \n",
       "\n",
       "   Landmark 2 y  Landmark 3 x  Landmark 3 y  Landmark 4 x  Landmark 4 y  ...  \\\n",
       "0      0.513098      0.471293      0.451205      0.455870      0.405068  ...   \n",
       "1      0.518473      0.474211      0.456242      0.458783      0.407200  ...   \n",
       "2      0.516508      0.474668      0.455287      0.459516      0.407649  ...   \n",
       "3      0.515999      0.474191      0.453736      0.458233      0.405407  ...   \n",
       "4      0.511420      0.474214      0.448855      0.457358      0.401411  ...   \n",
       "\n",
       "   Landmark 16 y  Landmark 17 x  Landmark 17 y  Landmark 18 x  Landmark 18 y  \\\n",
       "0       0.630833       0.518164       0.645377       0.555401       0.660619   \n",
       "1       0.634632       0.518493       0.648955       0.557850       0.663069   \n",
       "2       0.634539       0.519102       0.647704       0.561070       0.663423   \n",
       "3       0.636172       0.520290       0.647888       0.561078       0.664179   \n",
       "4       0.629209       0.520169       0.637428       0.560247       0.658442   \n",
       "\n",
       "   Landmark 19 x  Landmark 19 y  Landmark 20 x  Landmark 20 y  Label  \n",
       "0       0.535724       0.671495       0.516766       0.669519   good  \n",
       "1       0.536107       0.673253       0.514505       0.670299   good  \n",
       "2       0.539275       0.672495       0.516909       0.668556   good  \n",
       "3       0.539073       0.673748       0.516713       0.669505   good  \n",
       "4       0.537632       0.668001       0.514961       0.662070   good  \n",
       "\n",
       "[5 rows x 43 columns]"
      ]
     },
     "execution_count": 28,
     "metadata": {},
     "output_type": "execute_result"
    }
   ],
   "source": [
    "df = pd.read_csv('signs_en.csv')\n",
    "df.head()"
   ]
  },
  {
   "cell_type": "code",
   "execution_count": 29,
   "metadata": {},
   "outputs": [
    {
     "data": {
      "text/html": [
       "<div>\n",
       "<style scoped>\n",
       "    .dataframe tbody tr th:only-of-type {\n",
       "        vertical-align: middle;\n",
       "    }\n",
       "\n",
       "    .dataframe tbody tr th {\n",
       "        vertical-align: top;\n",
       "    }\n",
       "\n",
       "    .dataframe thead th {\n",
       "        text-align: right;\n",
       "    }\n",
       "</style>\n",
       "<table border=\"1\" class=\"dataframe\">\n",
       "  <thead>\n",
       "    <tr style=\"text-align: right;\">\n",
       "      <th></th>\n",
       "      <th>Unnamed: 0.1</th>\n",
       "      <th>Unnamed: 0</th>\n",
       "      <th>Landmark 0 x</th>\n",
       "      <th>Landmark 0 y</th>\n",
       "      <th>Landmark 1 x</th>\n",
       "      <th>Landmark 1 y</th>\n",
       "      <th>Landmark 2 x</th>\n",
       "      <th>Landmark 2 y</th>\n",
       "      <th>Landmark 3 x</th>\n",
       "      <th>Landmark 3 y</th>\n",
       "      <th>...</th>\n",
       "      <th>Landmark 16 y</th>\n",
       "      <th>Landmark 17 x</th>\n",
       "      <th>Landmark 17 y</th>\n",
       "      <th>Landmark 18 x</th>\n",
       "      <th>Landmark 18 y</th>\n",
       "      <th>Landmark 19 x</th>\n",
       "      <th>Landmark 19 y</th>\n",
       "      <th>Landmark 20 x</th>\n",
       "      <th>Landmark 20 y</th>\n",
       "      <th>Label</th>\n",
       "    </tr>\n",
       "  </thead>\n",
       "  <tbody>\n",
       "    <tr>\n",
       "      <th>0</th>\n",
       "      <td>0</td>\n",
       "      <td>0.0</td>\n",
       "      <td>0</td>\n",
       "      <td>0</td>\n",
       "      <td>0.447142</td>\n",
       "      <td>0.590708</td>\n",
       "      <td>0.469595</td>\n",
       "      <td>0.513098</td>\n",
       "      <td>0.471293</td>\n",
       "      <td>0.451205</td>\n",
       "      <td>...</td>\n",
       "      <td>0.630833</td>\n",
       "      <td>0.518164</td>\n",
       "      <td>0.645377</td>\n",
       "      <td>0.555401</td>\n",
       "      <td>0.660619</td>\n",
       "      <td>0.535724</td>\n",
       "      <td>0.671495</td>\n",
       "      <td>0.516766</td>\n",
       "      <td>0.669519</td>\n",
       "      <td>good</td>\n",
       "    </tr>\n",
       "    <tr>\n",
       "      <th>1</th>\n",
       "      <td>1</td>\n",
       "      <td>1.0</td>\n",
       "      <td>0</td>\n",
       "      <td>0</td>\n",
       "      <td>0.447354</td>\n",
       "      <td>0.598270</td>\n",
       "      <td>0.470890</td>\n",
       "      <td>0.518473</td>\n",
       "      <td>0.474211</td>\n",
       "      <td>0.456242</td>\n",
       "      <td>...</td>\n",
       "      <td>0.634632</td>\n",
       "      <td>0.518493</td>\n",
       "      <td>0.648955</td>\n",
       "      <td>0.557850</td>\n",
       "      <td>0.663069</td>\n",
       "      <td>0.536107</td>\n",
       "      <td>0.673253</td>\n",
       "      <td>0.514505</td>\n",
       "      <td>0.670299</td>\n",
       "      <td>good</td>\n",
       "    </tr>\n",
       "    <tr>\n",
       "      <th>2</th>\n",
       "      <td>2</td>\n",
       "      <td>2.0</td>\n",
       "      <td>0</td>\n",
       "      <td>0</td>\n",
       "      <td>0.447751</td>\n",
       "      <td>0.594389</td>\n",
       "      <td>0.471821</td>\n",
       "      <td>0.516508</td>\n",
       "      <td>0.474668</td>\n",
       "      <td>0.455287</td>\n",
       "      <td>...</td>\n",
       "      <td>0.634539</td>\n",
       "      <td>0.519102</td>\n",
       "      <td>0.647704</td>\n",
       "      <td>0.561070</td>\n",
       "      <td>0.663423</td>\n",
       "      <td>0.539275</td>\n",
       "      <td>0.672495</td>\n",
       "      <td>0.516909</td>\n",
       "      <td>0.668556</td>\n",
       "      <td>good</td>\n",
       "    </tr>\n",
       "    <tr>\n",
       "      <th>3</th>\n",
       "      <td>3</td>\n",
       "      <td>3.0</td>\n",
       "      <td>0</td>\n",
       "      <td>0</td>\n",
       "      <td>0.447579</td>\n",
       "      <td>0.594926</td>\n",
       "      <td>0.471340</td>\n",
       "      <td>0.515999</td>\n",
       "      <td>0.474191</td>\n",
       "      <td>0.453736</td>\n",
       "      <td>...</td>\n",
       "      <td>0.636172</td>\n",
       "      <td>0.520290</td>\n",
       "      <td>0.647888</td>\n",
       "      <td>0.561078</td>\n",
       "      <td>0.664179</td>\n",
       "      <td>0.539073</td>\n",
       "      <td>0.673748</td>\n",
       "      <td>0.516713</td>\n",
       "      <td>0.669505</td>\n",
       "      <td>good</td>\n",
       "    </tr>\n",
       "    <tr>\n",
       "      <th>4</th>\n",
       "      <td>4</td>\n",
       "      <td>4.0</td>\n",
       "      <td>0</td>\n",
       "      <td>0</td>\n",
       "      <td>0.448942</td>\n",
       "      <td>0.590661</td>\n",
       "      <td>0.472229</td>\n",
       "      <td>0.511420</td>\n",
       "      <td>0.474214</td>\n",
       "      <td>0.448855</td>\n",
       "      <td>...</td>\n",
       "      <td>0.629209</td>\n",
       "      <td>0.520169</td>\n",
       "      <td>0.637428</td>\n",
       "      <td>0.560247</td>\n",
       "      <td>0.658442</td>\n",
       "      <td>0.537632</td>\n",
       "      <td>0.668001</td>\n",
       "      <td>0.514961</td>\n",
       "      <td>0.662070</td>\n",
       "      <td>good</td>\n",
       "    </tr>\n",
       "    <tr>\n",
       "      <th>...</th>\n",
       "      <td>...</td>\n",
       "      <td>...</td>\n",
       "      <td>...</td>\n",
       "      <td>...</td>\n",
       "      <td>...</td>\n",
       "      <td>...</td>\n",
       "      <td>...</td>\n",
       "      <td>...</td>\n",
       "      <td>...</td>\n",
       "      <td>...</td>\n",
       "      <td>...</td>\n",
       "      <td>...</td>\n",
       "      <td>...</td>\n",
       "      <td>...</td>\n",
       "      <td>...</td>\n",
       "      <td>...</td>\n",
       "      <td>...</td>\n",
       "      <td>...</td>\n",
       "      <td>...</td>\n",
       "      <td>...</td>\n",
       "      <td>...</td>\n",
       "    </tr>\n",
       "    <tr>\n",
       "      <th>3639</th>\n",
       "      <td>1300</td>\n",
       "      <td>NaN</td>\n",
       "      <td>0</td>\n",
       "      <td>0</td>\n",
       "      <td>0.426360</td>\n",
       "      <td>0.724562</td>\n",
       "      <td>0.461132</td>\n",
       "      <td>0.709521</td>\n",
       "      <td>0.488471</td>\n",
       "      <td>0.700905</td>\n",
       "      <td>...</td>\n",
       "      <td>0.597029</td>\n",
       "      <td>0.414894</td>\n",
       "      <td>0.626698</td>\n",
       "      <td>0.426728</td>\n",
       "      <td>0.582988</td>\n",
       "      <td>0.445991</td>\n",
       "      <td>0.584739</td>\n",
       "      <td>0.455846</td>\n",
       "      <td>0.601655</td>\n",
       "      <td>c</td>\n",
       "    </tr>\n",
       "    <tr>\n",
       "      <th>3640</th>\n",
       "      <td>1301</td>\n",
       "      <td>NaN</td>\n",
       "      <td>0</td>\n",
       "      <td>0</td>\n",
       "      <td>0.449642</td>\n",
       "      <td>0.615772</td>\n",
       "      <td>0.466218</td>\n",
       "      <td>0.597665</td>\n",
       "      <td>0.476489</td>\n",
       "      <td>0.588239</td>\n",
       "      <td>...</td>\n",
       "      <td>0.604166</td>\n",
       "      <td>0.424647</td>\n",
       "      <td>0.572171</td>\n",
       "      <td>0.444889</td>\n",
       "      <td>0.579529</td>\n",
       "      <td>0.455239</td>\n",
       "      <td>0.592205</td>\n",
       "      <td>0.460785</td>\n",
       "      <td>0.602678</td>\n",
       "      <td>c</td>\n",
       "    </tr>\n",
       "    <tr>\n",
       "      <th>3641</th>\n",
       "      <td>1302</td>\n",
       "      <td>NaN</td>\n",
       "      <td>0</td>\n",
       "      <td>0</td>\n",
       "      <td>0.425549</td>\n",
       "      <td>0.727048</td>\n",
       "      <td>0.460003</td>\n",
       "      <td>0.712052</td>\n",
       "      <td>0.487133</td>\n",
       "      <td>0.702744</td>\n",
       "      <td>...</td>\n",
       "      <td>0.595984</td>\n",
       "      <td>0.414058</td>\n",
       "      <td>0.627085</td>\n",
       "      <td>0.425565</td>\n",
       "      <td>0.583809</td>\n",
       "      <td>0.444934</td>\n",
       "      <td>0.585648</td>\n",
       "      <td>0.455613</td>\n",
       "      <td>0.602743</td>\n",
       "      <td>c</td>\n",
       "    </tr>\n",
       "    <tr>\n",
       "      <th>3642</th>\n",
       "      <td>1303</td>\n",
       "      <td>NaN</td>\n",
       "      <td>0</td>\n",
       "      <td>0</td>\n",
       "      <td>0.448296</td>\n",
       "      <td>0.616143</td>\n",
       "      <td>0.466066</td>\n",
       "      <td>0.598424</td>\n",
       "      <td>0.477857</td>\n",
       "      <td>0.589754</td>\n",
       "      <td>...</td>\n",
       "      <td>0.603929</td>\n",
       "      <td>0.424749</td>\n",
       "      <td>0.571958</td>\n",
       "      <td>0.444960</td>\n",
       "      <td>0.578938</td>\n",
       "      <td>0.455473</td>\n",
       "      <td>0.591537</td>\n",
       "      <td>0.461400</td>\n",
       "      <td>0.602296</td>\n",
       "      <td>c</td>\n",
       "    </tr>\n",
       "    <tr>\n",
       "      <th>3643</th>\n",
       "      <td>1304</td>\n",
       "      <td>NaN</td>\n",
       "      <td>0</td>\n",
       "      <td>0</td>\n",
       "      <td>0.424904</td>\n",
       "      <td>0.726998</td>\n",
       "      <td>0.459803</td>\n",
       "      <td>0.711761</td>\n",
       "      <td>0.487291</td>\n",
       "      <td>0.702356</td>\n",
       "      <td>...</td>\n",
       "      <td>0.596008</td>\n",
       "      <td>0.413996</td>\n",
       "      <td>0.627434</td>\n",
       "      <td>0.425285</td>\n",
       "      <td>0.584062</td>\n",
       "      <td>0.444677</td>\n",
       "      <td>0.585607</td>\n",
       "      <td>0.455726</td>\n",
       "      <td>0.602457</td>\n",
       "      <td>c</td>\n",
       "    </tr>\n",
       "  </tbody>\n",
       "</table>\n",
       "<p>3644 rows × 45 columns</p>\n",
       "</div>"
      ],
      "text/plain": [
       "      Unnamed: 0.1  Unnamed: 0  Landmark 0 x  Landmark 0 y  Landmark 1 x  \\\n",
       "0                0         0.0             0             0      0.447142   \n",
       "1                1         1.0             0             0      0.447354   \n",
       "2                2         2.0             0             0      0.447751   \n",
       "3                3         3.0             0             0      0.447579   \n",
       "4                4         4.0             0             0      0.448942   \n",
       "...            ...         ...           ...           ...           ...   \n",
       "3639          1300         NaN             0             0      0.426360   \n",
       "3640          1301         NaN             0             0      0.449642   \n",
       "3641          1302         NaN             0             0      0.425549   \n",
       "3642          1303         NaN             0             0      0.448296   \n",
       "3643          1304         NaN             0             0      0.424904   \n",
       "\n",
       "      Landmark 1 y  Landmark 2 x  Landmark 2 y  Landmark 3 x  Landmark 3 y  \\\n",
       "0         0.590708      0.469595      0.513098      0.471293      0.451205   \n",
       "1         0.598270      0.470890      0.518473      0.474211      0.456242   \n",
       "2         0.594389      0.471821      0.516508      0.474668      0.455287   \n",
       "3         0.594926      0.471340      0.515999      0.474191      0.453736   \n",
       "4         0.590661      0.472229      0.511420      0.474214      0.448855   \n",
       "...            ...           ...           ...           ...           ...   \n",
       "3639      0.724562      0.461132      0.709521      0.488471      0.700905   \n",
       "3640      0.615772      0.466218      0.597665      0.476489      0.588239   \n",
       "3641      0.727048      0.460003      0.712052      0.487133      0.702744   \n",
       "3642      0.616143      0.466066      0.598424      0.477857      0.589754   \n",
       "3643      0.726998      0.459803      0.711761      0.487291      0.702356   \n",
       "\n",
       "      ...  Landmark 16 y  Landmark 17 x  Landmark 17 y  Landmark 18 x  \\\n",
       "0     ...       0.630833       0.518164       0.645377       0.555401   \n",
       "1     ...       0.634632       0.518493       0.648955       0.557850   \n",
       "2     ...       0.634539       0.519102       0.647704       0.561070   \n",
       "3     ...       0.636172       0.520290       0.647888       0.561078   \n",
       "4     ...       0.629209       0.520169       0.637428       0.560247   \n",
       "...   ...            ...            ...            ...            ...   \n",
       "3639  ...       0.597029       0.414894       0.626698       0.426728   \n",
       "3640  ...       0.604166       0.424647       0.572171       0.444889   \n",
       "3641  ...       0.595984       0.414058       0.627085       0.425565   \n",
       "3642  ...       0.603929       0.424749       0.571958       0.444960   \n",
       "3643  ...       0.596008       0.413996       0.627434       0.425285   \n",
       "\n",
       "      Landmark 18 y  Landmark 19 x  Landmark 19 y  Landmark 20 x  \\\n",
       "0          0.660619       0.535724       0.671495       0.516766   \n",
       "1          0.663069       0.536107       0.673253       0.514505   \n",
       "2          0.663423       0.539275       0.672495       0.516909   \n",
       "3          0.664179       0.539073       0.673748       0.516713   \n",
       "4          0.658442       0.537632       0.668001       0.514961   \n",
       "...             ...            ...            ...            ...   \n",
       "3639       0.582988       0.445991       0.584739       0.455846   \n",
       "3640       0.579529       0.455239       0.592205       0.460785   \n",
       "3641       0.583809       0.444934       0.585648       0.455613   \n",
       "3642       0.578938       0.455473       0.591537       0.461400   \n",
       "3643       0.584062       0.444677       0.585607       0.455726   \n",
       "\n",
       "      Landmark 20 y  Label  \n",
       "0          0.669519   good  \n",
       "1          0.670299   good  \n",
       "2          0.668556   good  \n",
       "3          0.669505   good  \n",
       "4          0.662070   good  \n",
       "...             ...    ...  \n",
       "3639       0.601655      c  \n",
       "3640       0.602678      c  \n",
       "3641       0.602743      c  \n",
       "3642       0.602296      c  \n",
       "3643       0.602457      c  \n",
       "\n",
       "[3644 rows x 45 columns]"
      ]
     },
     "execution_count": 29,
     "metadata": {},
     "output_type": "execute_result"
    }
   ],
   "source": [
    "df.insert(2, \"Landmark 0 x\", 0)\n",
    "df.insert(3, \"Landmark 0 y\", 0)\n",
    "df"
   ]
  },
  {
   "cell_type": "code",
   "execution_count": 30,
   "metadata": {},
   "outputs": [
    {
     "data": {
      "text/html": [
       "<div>\n",
       "<style scoped>\n",
       "    .dataframe tbody tr th:only-of-type {\n",
       "        vertical-align: middle;\n",
       "    }\n",
       "\n",
       "    .dataframe tbody tr th {\n",
       "        vertical-align: top;\n",
       "    }\n",
       "\n",
       "    .dataframe thead th {\n",
       "        text-align: right;\n",
       "    }\n",
       "</style>\n",
       "<table border=\"1\" class=\"dataframe\">\n",
       "  <thead>\n",
       "    <tr style=\"text-align: right;\">\n",
       "      <th></th>\n",
       "      <th>Unnamed: 0.1</th>\n",
       "      <th>Unnamed: 0</th>\n",
       "      <th>Landmark 0 x</th>\n",
       "      <th>Landmark 0 y</th>\n",
       "      <th>Landmark 1 x</th>\n",
       "      <th>Landmark 1 y</th>\n",
       "      <th>Landmark 2 x</th>\n",
       "      <th>Landmark 2 y</th>\n",
       "      <th>Landmark 3 x</th>\n",
       "      <th>Landmark 3 y</th>\n",
       "      <th>...</th>\n",
       "      <th>Landmark 16 y</th>\n",
       "      <th>Landmark 17 x</th>\n",
       "      <th>Landmark 17 y</th>\n",
       "      <th>Landmark 18 x</th>\n",
       "      <th>Landmark 18 y</th>\n",
       "      <th>Landmark 19 x</th>\n",
       "      <th>Landmark 19 y</th>\n",
       "      <th>Landmark 20 x</th>\n",
       "      <th>Landmark 20 y</th>\n",
       "      <th>Label</th>\n",
       "    </tr>\n",
       "  </thead>\n",
       "  <tbody>\n",
       "    <tr>\n",
       "      <th>415</th>\n",
       "      <td>415</td>\n",
       "      <td>86.0</td>\n",
       "      <td>0</td>\n",
       "      <td>0</td>\n",
       "      <td>0.326569</td>\n",
       "      <td>0.674404</td>\n",
       "      <td>0.357834</td>\n",
       "      <td>0.703072</td>\n",
       "      <td>0.375689</td>\n",
       "      <td>0.741255</td>\n",
       "      <td>...</td>\n",
       "      <td>0.606782</td>\n",
       "      <td>0.336321</td>\n",
       "      <td>0.575292</td>\n",
       "      <td>0.347091</td>\n",
       "      <td>0.577000</td>\n",
       "      <td>0.336864</td>\n",
       "      <td>0.592053</td>\n",
       "      <td>0.330558</td>\n",
       "      <td>0.594813</td>\n",
       "      <td>not good</td>\n",
       "    </tr>\n",
       "    <tr>\n",
       "      <th>2927</th>\n",
       "      <td>588</td>\n",
       "      <td>NaN</td>\n",
       "      <td>0</td>\n",
       "      <td>0</td>\n",
       "      <td>0.456985</td>\n",
       "      <td>0.661305</td>\n",
       "      <td>0.467504</td>\n",
       "      <td>0.639797</td>\n",
       "      <td>0.480497</td>\n",
       "      <td>0.630084</td>\n",
       "      <td>...</td>\n",
       "      <td>0.629676</td>\n",
       "      <td>0.457430</td>\n",
       "      <td>0.617761</td>\n",
       "      <td>0.481457</td>\n",
       "      <td>0.615641</td>\n",
       "      <td>0.491817</td>\n",
       "      <td>0.621171</td>\n",
       "      <td>0.497802</td>\n",
       "      <td>0.628334</td>\n",
       "      <td>c</td>\n",
       "    </tr>\n",
       "    <tr>\n",
       "      <th>3194</th>\n",
       "      <td>855</td>\n",
       "      <td>NaN</td>\n",
       "      <td>0</td>\n",
       "      <td>0</td>\n",
       "      <td>0.431389</td>\n",
       "      <td>0.722176</td>\n",
       "      <td>0.459923</td>\n",
       "      <td>0.701749</td>\n",
       "      <td>0.483064</td>\n",
       "      <td>0.689345</td>\n",
       "      <td>...</td>\n",
       "      <td>0.582822</td>\n",
       "      <td>0.423682</td>\n",
       "      <td>0.622943</td>\n",
       "      <td>0.434341</td>\n",
       "      <td>0.581182</td>\n",
       "      <td>0.455356</td>\n",
       "      <td>0.578791</td>\n",
       "      <td>0.470810</td>\n",
       "      <td>0.590627</td>\n",
       "      <td>c</td>\n",
       "    </tr>\n",
       "    <tr>\n",
       "      <th>298</th>\n",
       "      <td>298</td>\n",
       "      <td>298.0</td>\n",
       "      <td>0</td>\n",
       "      <td>0</td>\n",
       "      <td>0.378981</td>\n",
       "      <td>0.597129</td>\n",
       "      <td>0.397010</td>\n",
       "      <td>0.543736</td>\n",
       "      <td>0.398701</td>\n",
       "      <td>0.502422</td>\n",
       "      <td>...</td>\n",
       "      <td>0.610331</td>\n",
       "      <td>0.440011</td>\n",
       "      <td>0.626854</td>\n",
       "      <td>0.469402</td>\n",
       "      <td>0.634171</td>\n",
       "      <td>0.454586</td>\n",
       "      <td>0.641440</td>\n",
       "      <td>0.438621</td>\n",
       "      <td>0.639632</td>\n",
       "      <td>good</td>\n",
       "    </tr>\n",
       "    <tr>\n",
       "      <th>1874</th>\n",
       "      <td>634</td>\n",
       "      <td>NaN</td>\n",
       "      <td>0</td>\n",
       "      <td>0</td>\n",
       "      <td>0.443326</td>\n",
       "      <td>0.806144</td>\n",
       "      <td>0.465649</td>\n",
       "      <td>0.758831</td>\n",
       "      <td>0.444961</td>\n",
       "      <td>0.711449</td>\n",
       "      <td>...</td>\n",
       "      <td>0.541464</td>\n",
       "      <td>0.397769</td>\n",
       "      <td>0.688573</td>\n",
       "      <td>0.404561</td>\n",
       "      <td>0.640295</td>\n",
       "      <td>0.408814</td>\n",
       "      <td>0.610057</td>\n",
       "      <td>0.412891</td>\n",
       "      <td>0.581599</td>\n",
       "      <td>b</td>\n",
       "    </tr>\n",
       "  </tbody>\n",
       "</table>\n",
       "<p>5 rows × 45 columns</p>\n",
       "</div>"
      ],
      "text/plain": [
       "      Unnamed: 0.1  Unnamed: 0  Landmark 0 x  Landmark 0 y  Landmark 1 x  \\\n",
       "415            415        86.0             0             0      0.326569   \n",
       "2927           588         NaN             0             0      0.456985   \n",
       "3194           855         NaN             0             0      0.431389   \n",
       "298            298       298.0             0             0      0.378981   \n",
       "1874           634         NaN             0             0      0.443326   \n",
       "\n",
       "      Landmark 1 y  Landmark 2 x  Landmark 2 y  Landmark 3 x  Landmark 3 y  \\\n",
       "415       0.674404      0.357834      0.703072      0.375689      0.741255   \n",
       "2927      0.661305      0.467504      0.639797      0.480497      0.630084   \n",
       "3194      0.722176      0.459923      0.701749      0.483064      0.689345   \n",
       "298       0.597129      0.397010      0.543736      0.398701      0.502422   \n",
       "1874      0.806144      0.465649      0.758831      0.444961      0.711449   \n",
       "\n",
       "      ...  Landmark 16 y  Landmark 17 x  Landmark 17 y  Landmark 18 x  \\\n",
       "415   ...       0.606782       0.336321       0.575292       0.347091   \n",
       "2927  ...       0.629676       0.457430       0.617761       0.481457   \n",
       "3194  ...       0.582822       0.423682       0.622943       0.434341   \n",
       "298   ...       0.610331       0.440011       0.626854       0.469402   \n",
       "1874  ...       0.541464       0.397769       0.688573       0.404561   \n",
       "\n",
       "      Landmark 18 y  Landmark 19 x  Landmark 19 y  Landmark 20 x  \\\n",
       "415        0.577000       0.336864       0.592053       0.330558   \n",
       "2927       0.615641       0.491817       0.621171       0.497802   \n",
       "3194       0.581182       0.455356       0.578791       0.470810   \n",
       "298        0.634171       0.454586       0.641440       0.438621   \n",
       "1874       0.640295       0.408814       0.610057       0.412891   \n",
       "\n",
       "      Landmark 20 y     Label  \n",
       "415        0.594813  not good  \n",
       "2927       0.628334         c  \n",
       "3194       0.590627         c  \n",
       "298        0.639632      good  \n",
       "1874       0.581599         b  \n",
       "\n",
       "[5 rows x 45 columns]"
      ]
     },
     "execution_count": 30,
     "metadata": {},
     "output_type": "execute_result"
    }
   ],
   "source": [
    "df = df.sample(frac=1, ignore_index=True, random_state=42)\n",
    "df.head()"
   ]
  },
  {
   "cell_type": "code",
   "execution_count": 31,
   "metadata": {},
   "outputs": [
    {
     "data": {
      "text/plain": [
       "(3644, 42)"
      ]
     },
     "execution_count": 31,
     "metadata": {},
     "output_type": "execute_result"
    }
   ],
   "source": [
    "features = df.drop(columns=['Label', 'Unnamed: 0.1', 'Unnamed: 0'])\n",
    "features.shape"
   ]
  },
  {
   "cell_type": "code",
   "execution_count": 32,
   "metadata": {},
   "outputs": [
    {
     "data": {
      "text/plain": [
       "array(['not good', 'c', 'good', 'b', 'okay', 'a'], dtype=object)"
      ]
     },
     "execution_count": 32,
     "metadata": {},
     "output_type": "execute_result"
    }
   ],
   "source": [
    "labels = df['Label']\n",
    "labels.unique()"
   ]
  },
  {
   "cell_type": "code",
   "execution_count": 33,
   "metadata": {},
   "outputs": [
    {
     "data": {
      "text/plain": [
       "(3644,)"
      ]
     },
     "execution_count": 33,
     "metadata": {},
     "output_type": "execute_result"
    }
   ],
   "source": [
    "le = LabelEncoder()\n",
    "labels = le.fit_transform(labels)\n",
    "joblib.dump(le, 'label_encoder.pkl')\n",
    "\n",
    "labels.shape"
   ]
  },
  {
   "cell_type": "markdown",
   "metadata": {},
   "source": [
    "![](hand_landmarks.png)"
   ]
  },
  {
   "cell_type": "markdown",
   "metadata": {},
   "source": [
    "Edge index of hand landmarks are constant. Edge index is a 2D matrix with 2 rows. First row represents origin and second row represents end. Per column, it lists all the connections the graph makes. Essentially it is one of the matrix representations of a graph. Undirected does both a to b and b to a."
   ]
  },
  {
   "cell_type": "code",
   "execution_count": 34,
   "metadata": {},
   "outputs": [],
   "source": [
    "# make edge index\n",
    "edge_index = torch.tensor([\n",
    "    [0, 0, 0, 1, 2, 3, 5, 5, 6, 7, 9, 9, 10, 11, 13, 13, 14, 15, 17, 18, 19],\n",
    "    [1, 5, 17, 2, 3, 4, 6, 9, 7, 8, 10, 13, 11, 12, 17, 14, 15, 16, 18, 19, 20]\n",
    "    ], dtype=torch.long).to(device)\n",
    "\n",
    "# make it undirected\n",
    "edge_index = to_undirected(edge_index)"
   ]
  },
  {
   "cell_type": "code",
   "execution_count": 35,
   "metadata": {},
   "outputs": [],
   "source": [
    "features = features.to_numpy()\n",
    "features = features.reshape(-1, 21, 2)"
   ]
  },
  {
   "cell_type": "code",
   "execution_count": 36,
   "metadata": {},
   "outputs": [],
   "source": [
    "datas = []\n",
    "for i in range(len(features)):\n",
    "    data = Data(\n",
    "        x=torch.tensor(features[i], dtype=torch.float).to(device), \n",
    "        edge_index=edge_index,\n",
    "        y=torch.tensor(labels[i], dtype=torch.long).to(device)\n",
    "    )\n",
    "    datas.append(data)"
   ]
  },
  {
   "cell_type": "code",
   "execution_count": 37,
   "metadata": {},
   "outputs": [],
   "source": [
    "split = int(len(datas) * 0.8)\n",
    "\n",
    "train_dl = DataLoader(datas[:split], batch_size=32)\n",
    "test_dl = DataLoader(datas[split:], batch_size=32)"
   ]
  },
  {
   "cell_type": "code",
   "execution_count": 38,
   "metadata": {},
   "outputs": [
    {
     "data": {
      "text/plain": [
       "DataBatch(x=[672, 2], edge_index=[2, 1344], y=[32], batch=[672], ptr=[33])"
      ]
     },
     "execution_count": 38,
     "metadata": {},
     "output_type": "execute_result"
    }
   ],
   "source": [
    "sample = next(iter(train_dl))\n",
    "sample"
   ]
  },
  {
   "cell_type": "markdown",
   "metadata": {},
   "source": [
    "### Model Creation"
   ]
  },
  {
   "cell_type": "code",
   "execution_count": 39,
   "metadata": {},
   "outputs": [
    {
     "name": "stdout",
     "output_type": "stream",
     "text": [
      "GCN(\n",
      "  (conv1): GraphConv(2, 32)\n",
      "  (conv2): GraphConv(32, 32)\n",
      "  (lin): Linear(in_features=32, out_features=6, bias=True)\n",
      ")\n"
     ]
    }
   ],
   "source": [
    "class GCN(nn.Module):\n",
    "    def __init__(self, input_channels, hidden_channels, output_channels):\n",
    "        super(GCN, self).__init__()\n",
    "        self.conv1 = GraphConv(input_channels, hidden_channels)\n",
    "        self.conv2 = GraphConv(hidden_channels, hidden_channels)\n",
    "        self.lin = nn.Linear(hidden_channels, output_channels)\n",
    "        \n",
    "    def forward(self, x, edge_index, batch):\n",
    "        x = self.conv1(x, edge_index)\n",
    "        x = x.relu()\n",
    "        x = self.conv2(x, edge_index)\n",
    "\n",
    "        x = global_mean_pool(x, batch)\n",
    "\n",
    "        x = F.dropout(x, p=0.5, training=self.training)\n",
    "        x = self.lin(x)\n",
    "\n",
    "        return x\n",
    "\n",
    "model = GCN(2, 32, 6).to(device)\n",
    "print(model)"
   ]
  },
  {
   "cell_type": "code",
   "execution_count": 40,
   "metadata": {},
   "outputs": [
    {
     "data": {
      "text/plain": [
       "tensor([[-0.4153, -0.0482, -0.0963, -0.1331,  0.0136, -0.0410],\n",
       "        [-0.8985, -0.1455, -0.4098,  0.0053,  0.5865,  0.5314],\n",
       "        [-1.1732,  0.1063, -0.4931, -0.1252, -0.2787,  0.5843],\n",
       "        [-1.2553,  0.3896, -0.6103, -0.0244, -0.1840, -0.2734],\n",
       "        [-1.1255,  0.4341, -0.5516,  0.7144,  0.2965, -0.4611],\n",
       "        [-0.9749, -0.2528, -0.2257, -0.0187,  0.0345, -0.5669],\n",
       "        [-0.6510, -0.2727, -0.2384,  0.2401,  0.0228,  0.5314],\n",
       "        [-1.1023,  0.7889, -0.4015, -0.0380,  0.0873,  0.1668],\n",
       "        [-0.6723,  0.0842, -0.1950, -0.2902, -0.0146,  0.0063],\n",
       "        [-1.2917,  0.4196, -1.1168, -0.0607, -0.2344,  0.2758],\n",
       "        [-0.5642, -0.1571, -0.1602,  0.0298, -0.0810, -0.1124],\n",
       "        [-0.2586,  0.0434,  0.3264,  0.5010,  0.1850,  0.1120],\n",
       "        [-1.1588,  0.8247, -0.6088,  0.1119,  0.4512,  0.0498],\n",
       "        [-0.8436, -0.0511, -0.8244,  0.2506,  0.0855,  0.3398],\n",
       "        [-0.2171,  0.6512, -0.0673,  0.2207,  0.3030,  0.7480],\n",
       "        [-0.5829,  0.8057, -0.1107,  0.1888,  0.1711,  0.9971],\n",
       "        [-1.5154, -0.1825, -1.0261,  0.3303,  0.3773, -0.6057],\n",
       "        [-0.4190, -0.3218, -0.0948, -0.2149, -0.2281, -0.3688],\n",
       "        [-1.0696,  0.4411, -0.0058, -0.2469,  0.1700, -0.4257],\n",
       "        [ 0.0228,  0.2022, -0.1876,  0.0333,  0.2754,  0.0385],\n",
       "        [-0.9510,  0.5708, -0.0029,  0.4753,  0.0325, -0.2989],\n",
       "        [-0.9135, -0.1827,  0.3686, -0.0735,  0.0244,  0.0909],\n",
       "        [-0.0682,  0.6489, -0.4898, -0.0093,  0.2519,  0.9656],\n",
       "        [-0.0735, -0.0366,  0.0687, -0.1935,  0.3422,  0.3087],\n",
       "        [-0.3918, -0.1299,  0.2903,  0.0910,  0.3275,  0.1285],\n",
       "        [-1.8195,  0.1373, -0.5274,  0.3872, -0.0667, -0.0195],\n",
       "        [-1.0498,  0.0990, -0.7427, -0.1022,  0.0361,  0.4573],\n",
       "        [-1.2774,  0.5618, -0.6864, -0.3457,  0.5334, -0.0310],\n",
       "        [-1.0828,  0.6297, -0.2836, -0.4423, -0.0466, -0.2475],\n",
       "        [-0.9486,  0.0453, -0.4921,  0.2077,  0.3079,  0.0389],\n",
       "        [-1.2197,  0.8508, -0.2261,  0.1838,  0.2238, -0.0243],\n",
       "        [-1.7321,  0.1036, -0.8666, -0.0477,  0.0254, -0.0025]],\n",
       "       grad_fn=<AddmmBackward0>)"
      ]
     },
     "execution_count": 40,
     "metadata": {},
     "output_type": "execute_result"
    }
   ],
   "source": [
    "model(sample.x, sample.edge_index, sample.batch)"
   ]
  },
  {
   "cell_type": "code",
   "execution_count": 41,
   "metadata": {},
   "outputs": [
    {
     "data": {
      "text/plain": [
       "tensor([4, 2, 2, 3, 1, 2, 3, 2, 2, 2, 5, 2, 2, 0, 1, 5, 0, 5, 5, 2, 5, 2, 3, 4,\n",
       "        2, 3, 1, 3, 5, 0, 3, 1])"
      ]
     },
     "execution_count": 41,
     "metadata": {},
     "output_type": "execute_result"
    }
   ],
   "source": [
    "sample.y"
   ]
  },
  {
   "cell_type": "code",
   "execution_count": 42,
   "metadata": {},
   "outputs": [],
   "source": [
    "loss_fn = nn.CrossEntropyLoss()\n",
    "optimizer = torch.optim.Adam(model.parameters(), lr=2e-2)"
   ]
  },
  {
   "cell_type": "markdown",
   "metadata": {},
   "source": [
    "### Model Training"
   ]
  },
  {
   "cell_type": "code",
   "execution_count": 43,
   "metadata": {},
   "outputs": [
    {
     "name": "stderr",
     "output_type": "stream",
     "text": [
      "  0%|          | 0/80 [00:00<?, ?it/s]"
     ]
    },
    {
     "name": "stdout",
     "output_type": "stream",
     "text": [
      "Epoch: 0\n",
      "------\n"
     ]
    },
    {
     "name": "stderr",
     "output_type": "stream",
     "text": [
      "  1%|▏         | 1/80 [00:00<00:38,  2.03it/s]"
     ]
    },
    {
     "name": "stdout",
     "output_type": "stream",
     "text": [
      "Train Loss: 1.4108, Train Accuracy: 0.45\n",
      "Test Loss: 1.1933, Test Accuracy: 0.55\n",
      "Epoch: 1\n",
      "------\n"
     ]
    },
    {
     "name": "stderr",
     "output_type": "stream",
     "text": [
      "  2%|▎         | 2/80 [00:00<00:37,  2.06it/s]"
     ]
    },
    {
     "name": "stdout",
     "output_type": "stream",
     "text": [
      "Train Loss: 1.1380, Train Accuracy: 0.57\n",
      "Test Loss: 0.9985, Test Accuracy: 0.59\n",
      "Epoch: 2\n",
      "------\n"
     ]
    },
    {
     "name": "stderr",
     "output_type": "stream",
     "text": [
      "  4%|▍         | 3/80 [00:01<00:33,  2.27it/s]"
     ]
    },
    {
     "name": "stdout",
     "output_type": "stream",
     "text": [
      "Train Loss: 1.0617, Train Accuracy: 0.61\n",
      "Test Loss: 0.9543, Test Accuracy: 0.56\n",
      "Epoch: 3\n",
      "------\n"
     ]
    },
    {
     "name": "stderr",
     "output_type": "stream",
     "text": [
      "  5%|▌         | 4/80 [00:01<00:35,  2.16it/s]"
     ]
    },
    {
     "name": "stdout",
     "output_type": "stream",
     "text": [
      "Train Loss: 0.9744, Train Accuracy: 0.65\n",
      "Test Loss: 0.8239, Test Accuracy: 0.65\n",
      "Epoch: 4\n",
      "------\n"
     ]
    },
    {
     "name": "stderr",
     "output_type": "stream",
     "text": [
      "  6%|▋         | 5/80 [00:02<00:32,  2.33it/s]"
     ]
    },
    {
     "name": "stdout",
     "output_type": "stream",
     "text": [
      "Train Loss: 0.9409, Train Accuracy: 0.66\n",
      "Test Loss: 0.8651, Test Accuracy: 0.67\n",
      "Epoch: 5\n",
      "------\n"
     ]
    },
    {
     "name": "stderr",
     "output_type": "stream",
     "text": [
      "  8%|▊         | 6/80 [00:02<00:30,  2.40it/s]"
     ]
    },
    {
     "name": "stdout",
     "output_type": "stream",
     "text": [
      "Train Loss: 0.8992, Train Accuracy: 0.68\n",
      "Test Loss: 0.7422, Test Accuracy: 0.74\n",
      "Epoch: 6\n",
      "------\n"
     ]
    },
    {
     "name": "stderr",
     "output_type": "stream",
     "text": [
      "  9%|▉         | 7/80 [00:03<00:31,  2.33it/s]"
     ]
    },
    {
     "name": "stdout",
     "output_type": "stream",
     "text": [
      "Train Loss: 0.8555, Train Accuracy: 0.70\n",
      "Test Loss: 0.7332, Test Accuracy: 0.70\n",
      "Epoch: 7\n",
      "------\n"
     ]
    },
    {
     "name": "stderr",
     "output_type": "stream",
     "text": [
      " 10%|█         | 8/80 [00:03<00:30,  2.38it/s]"
     ]
    },
    {
     "name": "stdout",
     "output_type": "stream",
     "text": [
      "Train Loss: 0.8324, Train Accuracy: 0.72\n",
      "Test Loss: 0.6879, Test Accuracy: 0.75\n",
      "Epoch: 8\n",
      "------\n"
     ]
    },
    {
     "name": "stderr",
     "output_type": "stream",
     "text": [
      " 11%|█▏        | 9/80 [00:03<00:28,  2.46it/s]"
     ]
    },
    {
     "name": "stdout",
     "output_type": "stream",
     "text": [
      "Train Loss: 0.7912, Train Accuracy: 0.73\n",
      "Test Loss: 0.7115, Test Accuracy: 0.77\n",
      "Epoch: 9\n",
      "------\n"
     ]
    },
    {
     "name": "stderr",
     "output_type": "stream",
     "text": [
      " 12%|█▎        | 10/80 [00:04<00:28,  2.46it/s]"
     ]
    },
    {
     "name": "stdout",
     "output_type": "stream",
     "text": [
      "Train Loss: 0.7830, Train Accuracy: 0.73\n",
      "Test Loss: 0.6887, Test Accuracy: 0.75\n",
      "Epoch: 10\n",
      "------\n"
     ]
    },
    {
     "name": "stderr",
     "output_type": "stream",
     "text": [
      " 14%|█▍        | 11/80 [00:04<00:27,  2.52it/s]"
     ]
    },
    {
     "name": "stdout",
     "output_type": "stream",
     "text": [
      "Train Loss: 0.7348, Train Accuracy: 0.76\n",
      "Test Loss: 0.6510, Test Accuracy: 0.78\n",
      "Epoch: 11\n",
      "------\n"
     ]
    },
    {
     "name": "stderr",
     "output_type": "stream",
     "text": [
      " 15%|█▌        | 12/80 [00:05<00:26,  2.57it/s]"
     ]
    },
    {
     "name": "stdout",
     "output_type": "stream",
     "text": [
      "Train Loss: 0.8025, Train Accuracy: 0.72\n",
      "Test Loss: 0.6502, Test Accuracy: 0.75\n",
      "Epoch: 12\n",
      "------\n"
     ]
    },
    {
     "name": "stderr",
     "output_type": "stream",
     "text": [
      " 16%|█▋        | 13/80 [00:05<00:25,  2.61it/s]"
     ]
    },
    {
     "name": "stdout",
     "output_type": "stream",
     "text": [
      "Train Loss: 0.7013, Train Accuracy: 0.76\n",
      "Test Loss: 0.6421, Test Accuracy: 0.82\n",
      "Epoch: 13\n",
      "------\n"
     ]
    },
    {
     "name": "stderr",
     "output_type": "stream",
     "text": [
      " 18%|█▊        | 14/80 [00:05<00:27,  2.44it/s]"
     ]
    },
    {
     "name": "stdout",
     "output_type": "stream",
     "text": [
      "Train Loss: 0.6888, Train Accuracy: 0.77\n",
      "Test Loss: 0.5976, Test Accuracy: 0.78\n",
      "Epoch: 14\n",
      "------\n"
     ]
    },
    {
     "name": "stderr",
     "output_type": "stream",
     "text": [
      " 19%|█▉        | 15/80 [00:06<00:27,  2.41it/s]"
     ]
    },
    {
     "name": "stdout",
     "output_type": "stream",
     "text": [
      "Train Loss: 0.6825, Train Accuracy: 0.76\n",
      "Test Loss: 0.5981, Test Accuracy: 0.78\n",
      "Epoch: 15\n",
      "------\n"
     ]
    },
    {
     "name": "stderr",
     "output_type": "stream",
     "text": [
      " 20%|██        | 16/80 [00:06<00:26,  2.40it/s]"
     ]
    },
    {
     "name": "stdout",
     "output_type": "stream",
     "text": [
      "Train Loss: 0.7013, Train Accuracy: 0.76\n",
      "Test Loss: 0.5151, Test Accuracy: 0.85\n",
      "Epoch: 16\n",
      "------\n"
     ]
    },
    {
     "name": "stderr",
     "output_type": "stream",
     "text": [
      " 21%|██▏       | 17/80 [00:07<00:25,  2.46it/s]"
     ]
    },
    {
     "name": "stdout",
     "output_type": "stream",
     "text": [
      "Train Loss: 0.6347, Train Accuracy: 0.78\n",
      "Test Loss: 0.5077, Test Accuracy: 0.80\n",
      "Epoch: 17\n",
      "------\n"
     ]
    },
    {
     "name": "stderr",
     "output_type": "stream",
     "text": [
      " 22%|██▎       | 18/80 [00:07<00:24,  2.53it/s]"
     ]
    },
    {
     "name": "stdout",
     "output_type": "stream",
     "text": [
      "Train Loss: 0.6551, Train Accuracy: 0.78\n",
      "Test Loss: 0.6346, Test Accuracy: 0.76\n",
      "Epoch: 18\n",
      "------\n"
     ]
    },
    {
     "name": "stderr",
     "output_type": "stream",
     "text": [
      " 24%|██▍       | 19/80 [00:07<00:24,  2.51it/s]"
     ]
    },
    {
     "name": "stdout",
     "output_type": "stream",
     "text": [
      "Train Loss: 0.6936, Train Accuracy: 0.77\n",
      "Test Loss: 0.5455, Test Accuracy: 0.78\n",
      "Epoch: 19\n",
      "------\n"
     ]
    },
    {
     "name": "stderr",
     "output_type": "stream",
     "text": [
      " 25%|██▌       | 20/80 [00:08<00:23,  2.57it/s]"
     ]
    },
    {
     "name": "stdout",
     "output_type": "stream",
     "text": [
      "Train Loss: 0.6025, Train Accuracy: 0.81\n",
      "Test Loss: 0.4742, Test Accuracy: 0.83\n",
      "Epoch: 20\n",
      "------\n"
     ]
    },
    {
     "name": "stderr",
     "output_type": "stream",
     "text": [
      " 26%|██▋       | 21/80 [00:08<00:22,  2.61it/s]"
     ]
    },
    {
     "name": "stdout",
     "output_type": "stream",
     "text": [
      "Train Loss: 0.6147, Train Accuracy: 0.80\n",
      "Test Loss: 0.4314, Test Accuracy: 0.86\n",
      "Epoch: 21\n",
      "------\n"
     ]
    },
    {
     "name": "stderr",
     "output_type": "stream",
     "text": [
      " 28%|██▊       | 22/80 [00:08<00:22,  2.61it/s]"
     ]
    },
    {
     "name": "stdout",
     "output_type": "stream",
     "text": [
      "Train Loss: 0.5569, Train Accuracy: 0.83\n",
      "Test Loss: 0.3924, Test Accuracy: 0.88\n",
      "Epoch: 22\n",
      "------\n"
     ]
    },
    {
     "name": "stderr",
     "output_type": "stream",
     "text": [
      " 29%|██▉       | 23/80 [00:09<00:21,  2.61it/s]"
     ]
    },
    {
     "name": "stdout",
     "output_type": "stream",
     "text": [
      "Train Loss: 0.5421, Train Accuracy: 0.84\n",
      "Test Loss: 0.4616, Test Accuracy: 0.85\n",
      "Epoch: 23\n",
      "------\n"
     ]
    },
    {
     "name": "stderr",
     "output_type": "stream",
     "text": [
      " 30%|███       | 24/80 [00:09<00:21,  2.61it/s]"
     ]
    },
    {
     "name": "stdout",
     "output_type": "stream",
     "text": [
      "Train Loss: 0.5869, Train Accuracy: 0.80\n",
      "Test Loss: 0.5158, Test Accuracy: 0.79\n",
      "Epoch: 24\n",
      "------\n"
     ]
    },
    {
     "name": "stderr",
     "output_type": "stream",
     "text": [
      " 31%|███▏      | 25/80 [00:10<00:20,  2.63it/s]"
     ]
    },
    {
     "name": "stdout",
     "output_type": "stream",
     "text": [
      "Train Loss: 0.5368, Train Accuracy: 0.84\n",
      "Test Loss: 0.4257, Test Accuracy: 0.87\n",
      "Epoch: 25\n",
      "------\n"
     ]
    },
    {
     "name": "stderr",
     "output_type": "stream",
     "text": [
      " 32%|███▎      | 26/80 [00:10<00:20,  2.67it/s]"
     ]
    },
    {
     "name": "stdout",
     "output_type": "stream",
     "text": [
      "Train Loss: 0.4869, Train Accuracy: 0.85\n",
      "Test Loss: 0.4199, Test Accuracy: 0.85\n",
      "Epoch: 26\n",
      "------\n"
     ]
    },
    {
     "name": "stderr",
     "output_type": "stream",
     "text": [
      " 34%|███▍      | 27/80 [00:10<00:19,  2.67it/s]"
     ]
    },
    {
     "name": "stdout",
     "output_type": "stream",
     "text": [
      "Train Loss: 0.4740, Train Accuracy: 0.85\n",
      "Test Loss: 0.4951, Test Accuracy: 0.83\n",
      "Epoch: 27\n",
      "------\n"
     ]
    },
    {
     "name": "stderr",
     "output_type": "stream",
     "text": [
      " 35%|███▌      | 28/80 [00:11<00:19,  2.63it/s]"
     ]
    },
    {
     "name": "stdout",
     "output_type": "stream",
     "text": [
      "Train Loss: 0.5025, Train Accuracy: 0.84\n",
      "Test Loss: 0.5188, Test Accuracy: 0.82\n",
      "Epoch: 28\n",
      "------\n"
     ]
    },
    {
     "name": "stderr",
     "output_type": "stream",
     "text": [
      " 36%|███▋      | 29/80 [00:11<00:19,  2.61it/s]"
     ]
    },
    {
     "name": "stdout",
     "output_type": "stream",
     "text": [
      "Train Loss: 0.4661, Train Accuracy: 0.85\n",
      "Test Loss: 0.2990, Test Accuracy: 0.92\n",
      "Epoch: 29\n",
      "------\n"
     ]
    },
    {
     "name": "stderr",
     "output_type": "stream",
     "text": [
      " 38%|███▊      | 30/80 [00:11<00:18,  2.64it/s]"
     ]
    },
    {
     "name": "stdout",
     "output_type": "stream",
     "text": [
      "Train Loss: 0.4800, Train Accuracy: 0.85\n",
      "Test Loss: 0.4031, Test Accuracy: 0.86\n",
      "Epoch: 30\n",
      "------\n"
     ]
    },
    {
     "name": "stderr",
     "output_type": "stream",
     "text": [
      " 39%|███▉      | 31/80 [00:12<00:18,  2.60it/s]"
     ]
    },
    {
     "name": "stdout",
     "output_type": "stream",
     "text": [
      "Train Loss: 0.5295, Train Accuracy: 0.83\n",
      "Test Loss: 0.3722, Test Accuracy: 0.89\n",
      "Epoch: 31\n",
      "------\n"
     ]
    },
    {
     "name": "stderr",
     "output_type": "stream",
     "text": [
      " 40%|████      | 32/80 [00:12<00:18,  2.63it/s]"
     ]
    },
    {
     "name": "stdout",
     "output_type": "stream",
     "text": [
      "Train Loss: 0.4437, Train Accuracy: 0.85\n",
      "Test Loss: 0.3045, Test Accuracy: 0.90\n",
      "Epoch: 32\n",
      "------\n"
     ]
    },
    {
     "name": "stderr",
     "output_type": "stream",
     "text": [
      " 41%|████▏     | 33/80 [00:13<00:18,  2.60it/s]"
     ]
    },
    {
     "name": "stdout",
     "output_type": "stream",
     "text": [
      "Train Loss: 0.4190, Train Accuracy: 0.87\n",
      "Test Loss: 0.3116, Test Accuracy: 0.91\n",
      "Epoch: 33\n",
      "------\n"
     ]
    },
    {
     "name": "stderr",
     "output_type": "stream",
     "text": [
      " 42%|████▎     | 34/80 [00:13<00:17,  2.61it/s]"
     ]
    },
    {
     "name": "stdout",
     "output_type": "stream",
     "text": [
      "Train Loss: 0.3897, Train Accuracy: 0.87\n",
      "Test Loss: 0.3455, Test Accuracy: 0.89\n",
      "Epoch: 34\n",
      "------\n"
     ]
    },
    {
     "name": "stderr",
     "output_type": "stream",
     "text": [
      " 44%|████▍     | 35/80 [00:13<00:17,  2.63it/s]"
     ]
    },
    {
     "name": "stdout",
     "output_type": "stream",
     "text": [
      "Train Loss: 0.3903, Train Accuracy: 0.87\n",
      "Test Loss: 0.3208, Test Accuracy: 0.90\n",
      "Epoch: 35\n",
      "------\n"
     ]
    },
    {
     "name": "stderr",
     "output_type": "stream",
     "text": [
      " 45%|████▌     | 36/80 [00:14<00:16,  2.61it/s]"
     ]
    },
    {
     "name": "stdout",
     "output_type": "stream",
     "text": [
      "Train Loss: 0.3858, Train Accuracy: 0.87\n",
      "Test Loss: 0.3567, Test Accuracy: 0.86\n",
      "Epoch: 36\n",
      "------\n"
     ]
    },
    {
     "name": "stderr",
     "output_type": "stream",
     "text": [
      " 46%|████▋     | 37/80 [00:14<00:16,  2.61it/s]"
     ]
    },
    {
     "name": "stdout",
     "output_type": "stream",
     "text": [
      "Train Loss: 0.3691, Train Accuracy: 0.88\n",
      "Test Loss: 0.2287, Test Accuracy: 0.93\n",
      "Epoch: 37\n",
      "------\n"
     ]
    },
    {
     "name": "stderr",
     "output_type": "stream",
     "text": [
      " 48%|████▊     | 38/80 [00:15<00:16,  2.56it/s]"
     ]
    },
    {
     "name": "stdout",
     "output_type": "stream",
     "text": [
      "Train Loss: 0.3603, Train Accuracy: 0.88\n",
      "Test Loss: 0.5702, Test Accuracy: 0.84\n",
      "Epoch: 38\n",
      "------\n"
     ]
    },
    {
     "name": "stderr",
     "output_type": "stream",
     "text": [
      " 49%|████▉     | 39/80 [00:15<00:16,  2.56it/s]"
     ]
    },
    {
     "name": "stdout",
     "output_type": "stream",
     "text": [
      "Train Loss: 0.4020, Train Accuracy: 0.87\n",
      "Test Loss: 0.2193, Test Accuracy: 0.93\n",
      "Epoch: 39\n",
      "------\n"
     ]
    },
    {
     "name": "stderr",
     "output_type": "stream",
     "text": [
      " 50%|█████     | 40/80 [00:15<00:15,  2.59it/s]"
     ]
    },
    {
     "name": "stdout",
     "output_type": "stream",
     "text": [
      "Train Loss: 0.3305, Train Accuracy: 0.89\n",
      "Test Loss: 0.3457, Test Accuracy: 0.89\n",
      "Epoch: 40\n",
      "------\n"
     ]
    },
    {
     "name": "stderr",
     "output_type": "stream",
     "text": [
      " 51%|█████▏    | 41/80 [00:16<00:15,  2.55it/s]"
     ]
    },
    {
     "name": "stdout",
     "output_type": "stream",
     "text": [
      "Train Loss: 0.3189, Train Accuracy: 0.89\n",
      "Test Loss: 0.2259, Test Accuracy: 0.92\n",
      "Epoch: 41\n",
      "------\n"
     ]
    },
    {
     "name": "stderr",
     "output_type": "stream",
     "text": [
      " 52%|█████▎    | 42/80 [00:16<00:15,  2.47it/s]"
     ]
    },
    {
     "name": "stdout",
     "output_type": "stream",
     "text": [
      "Train Loss: 0.3569, Train Accuracy: 0.88\n",
      "Test Loss: 0.3621, Test Accuracy: 0.87\n",
      "Epoch: 42\n",
      "------\n"
     ]
    },
    {
     "name": "stderr",
     "output_type": "stream",
     "text": [
      " 54%|█████▍    | 43/80 [00:17<00:14,  2.55it/s]"
     ]
    },
    {
     "name": "stdout",
     "output_type": "stream",
     "text": [
      "Train Loss: 0.4068, Train Accuracy: 0.86\n",
      "Test Loss: 0.2765, Test Accuracy: 0.91\n",
      "Epoch: 43\n",
      "------\n"
     ]
    },
    {
     "name": "stderr",
     "output_type": "stream",
     "text": [
      " 55%|█████▌    | 44/80 [00:17<00:13,  2.59it/s]"
     ]
    },
    {
     "name": "stdout",
     "output_type": "stream",
     "text": [
      "Train Loss: 0.3340, Train Accuracy: 0.89\n",
      "Test Loss: 0.2363, Test Accuracy: 0.92\n",
      "Epoch: 44\n",
      "------\n"
     ]
    },
    {
     "name": "stderr",
     "output_type": "stream",
     "text": [
      " 56%|█████▋    | 45/80 [00:17<00:13,  2.55it/s]"
     ]
    },
    {
     "name": "stdout",
     "output_type": "stream",
     "text": [
      "Train Loss: 0.3701, Train Accuracy: 0.87\n",
      "Test Loss: 0.3595, Test Accuracy: 0.88\n",
      "Epoch: 45\n",
      "------\n"
     ]
    },
    {
     "name": "stderr",
     "output_type": "stream",
     "text": [
      " 57%|█████▊    | 46/80 [00:18<00:13,  2.58it/s]"
     ]
    },
    {
     "name": "stdout",
     "output_type": "stream",
     "text": [
      "Train Loss: 0.3428, Train Accuracy: 0.88\n",
      "Test Loss: 0.2476, Test Accuracy: 0.91\n",
      "Epoch: 46\n",
      "------\n"
     ]
    },
    {
     "name": "stderr",
     "output_type": "stream",
     "text": [
      " 59%|█████▉    | 47/80 [00:18<00:13,  2.52it/s]"
     ]
    },
    {
     "name": "stdout",
     "output_type": "stream",
     "text": [
      "Train Loss: 0.3001, Train Accuracy: 0.90\n",
      "Test Loss: 0.2276, Test Accuracy: 0.92\n",
      "Epoch: 47\n",
      "------\n"
     ]
    },
    {
     "name": "stderr",
     "output_type": "stream",
     "text": [
      " 60%|██████    | 48/80 [00:19<00:12,  2.55it/s]"
     ]
    },
    {
     "name": "stdout",
     "output_type": "stream",
     "text": [
      "Train Loss: 0.3786, Train Accuracy: 0.87\n",
      "Test Loss: 0.2753, Test Accuracy: 0.91\n",
      "Epoch: 48\n",
      "------\n"
     ]
    },
    {
     "name": "stderr",
     "output_type": "stream",
     "text": [
      " 61%|██████▏   | 49/80 [00:19<00:12,  2.58it/s]"
     ]
    },
    {
     "name": "stdout",
     "output_type": "stream",
     "text": [
      "Train Loss: 0.3086, Train Accuracy: 0.90\n",
      "Test Loss: 0.3424, Test Accuracy: 0.88\n",
      "Epoch: 49\n",
      "------\n"
     ]
    },
    {
     "name": "stderr",
     "output_type": "stream",
     "text": [
      " 62%|██████▎   | 50/80 [00:19<00:11,  2.61it/s]"
     ]
    },
    {
     "name": "stdout",
     "output_type": "stream",
     "text": [
      "Train Loss: 0.2920, Train Accuracy: 0.91\n",
      "Test Loss: 0.2098, Test Accuracy: 0.93\n",
      "Epoch: 50\n",
      "------\n"
     ]
    },
    {
     "name": "stderr",
     "output_type": "stream",
     "text": [
      " 64%|██████▍   | 51/80 [00:20<00:11,  2.57it/s]"
     ]
    },
    {
     "name": "stdout",
     "output_type": "stream",
     "text": [
      "Train Loss: 0.3479, Train Accuracy: 0.89\n",
      "Test Loss: 0.3525, Test Accuracy: 0.86\n",
      "Epoch: 51\n",
      "------\n"
     ]
    },
    {
     "name": "stderr",
     "output_type": "stream",
     "text": [
      " 65%|██████▌   | 52/80 [00:20<00:10,  2.61it/s]"
     ]
    },
    {
     "name": "stdout",
     "output_type": "stream",
     "text": [
      "Train Loss: 0.3458, Train Accuracy: 0.88\n",
      "Test Loss: 0.3384, Test Accuracy: 0.87\n",
      "Epoch: 52\n",
      "------\n"
     ]
    },
    {
     "name": "stderr",
     "output_type": "stream",
     "text": [
      " 66%|██████▋   | 53/80 [00:20<00:10,  2.63it/s]"
     ]
    },
    {
     "name": "stdout",
     "output_type": "stream",
     "text": [
      "Train Loss: 0.3395, Train Accuracy: 0.88\n",
      "Test Loss: 0.2196, Test Accuracy: 0.93\n",
      "Epoch: 53\n",
      "------\n"
     ]
    },
    {
     "name": "stderr",
     "output_type": "stream",
     "text": [
      " 68%|██████▊   | 54/80 [00:21<00:09,  2.64it/s]"
     ]
    },
    {
     "name": "stdout",
     "output_type": "stream",
     "text": [
      "Train Loss: 0.3515, Train Accuracy: 0.89\n",
      "Test Loss: 0.2540, Test Accuracy: 0.92\n",
      "Epoch: 54\n",
      "------\n"
     ]
    },
    {
     "name": "stderr",
     "output_type": "stream",
     "text": [
      " 69%|██████▉   | 55/80 [00:21<00:09,  2.61it/s]"
     ]
    },
    {
     "name": "stdout",
     "output_type": "stream",
     "text": [
      "Train Loss: 0.3568, Train Accuracy: 0.89\n",
      "Test Loss: 0.2455, Test Accuracy: 0.93\n",
      "Epoch: 55\n",
      "------\n"
     ]
    },
    {
     "name": "stderr",
     "output_type": "stream",
     "text": [
      " 70%|███████   | 56/80 [00:22<00:09,  2.53it/s]"
     ]
    },
    {
     "name": "stdout",
     "output_type": "stream",
     "text": [
      "Train Loss: 0.2979, Train Accuracy: 0.90\n",
      "Test Loss: 0.1931, Test Accuracy: 0.95\n",
      "Epoch: 56\n",
      "------\n"
     ]
    },
    {
     "name": "stderr",
     "output_type": "stream",
     "text": [
      " 71%|███████▏  | 57/80 [00:22<00:09,  2.55it/s]"
     ]
    },
    {
     "name": "stdout",
     "output_type": "stream",
     "text": [
      "Train Loss: 0.3186, Train Accuracy: 0.90\n",
      "Test Loss: 0.1683, Test Accuracy: 0.95\n",
      "Epoch: 57\n",
      "------\n"
     ]
    },
    {
     "name": "stderr",
     "output_type": "stream",
     "text": [
      " 72%|███████▎  | 58/80 [00:22<00:08,  2.59it/s]"
     ]
    },
    {
     "name": "stdout",
     "output_type": "stream",
     "text": [
      "Train Loss: 0.3533, Train Accuracy: 0.88\n",
      "Test Loss: 0.1931, Test Accuracy: 0.93\n",
      "Epoch: 58\n",
      "------\n"
     ]
    },
    {
     "name": "stderr",
     "output_type": "stream",
     "text": [
      " 74%|███████▍  | 59/80 [00:23<00:08,  2.61it/s]"
     ]
    },
    {
     "name": "stdout",
     "output_type": "stream",
     "text": [
      "Train Loss: 0.3033, Train Accuracy: 0.89\n",
      "Test Loss: 0.1680, Test Accuracy: 0.96\n",
      "Epoch: 59\n",
      "------\n"
     ]
    },
    {
     "name": "stderr",
     "output_type": "stream",
     "text": [
      " 75%|███████▌  | 60/80 [00:23<00:07,  2.63it/s]"
     ]
    },
    {
     "name": "stdout",
     "output_type": "stream",
     "text": [
      "Train Loss: 0.3901, Train Accuracy: 0.88\n",
      "Test Loss: 0.1793, Test Accuracy: 0.94\n",
      "Epoch: 60\n",
      "------\n"
     ]
    },
    {
     "name": "stderr",
     "output_type": "stream",
     "text": [
      " 76%|███████▋  | 61/80 [00:24<00:07,  2.60it/s]"
     ]
    },
    {
     "name": "stdout",
     "output_type": "stream",
     "text": [
      "Train Loss: 0.2632, Train Accuracy: 0.91\n",
      "Test Loss: 0.1540, Test Accuracy: 0.95\n",
      "Epoch: 61\n",
      "------\n"
     ]
    },
    {
     "name": "stderr",
     "output_type": "stream",
     "text": [
      " 78%|███████▊  | 62/80 [00:24<00:06,  2.60it/s]"
     ]
    },
    {
     "name": "stdout",
     "output_type": "stream",
     "text": [
      "Train Loss: 0.2956, Train Accuracy: 0.90\n",
      "Test Loss: 0.1628, Test Accuracy: 0.95\n",
      "Epoch: 62\n",
      "------\n"
     ]
    },
    {
     "name": "stderr",
     "output_type": "stream",
     "text": [
      " 79%|███████▉  | 63/80 [00:24<00:06,  2.63it/s]"
     ]
    },
    {
     "name": "stdout",
     "output_type": "stream",
     "text": [
      "Train Loss: 0.2679, Train Accuracy: 0.92\n",
      "Test Loss: 0.1651, Test Accuracy: 0.96\n",
      "Epoch: 63\n",
      "------\n"
     ]
    },
    {
     "name": "stderr",
     "output_type": "stream",
     "text": [
      " 80%|████████  | 64/80 [00:25<00:06,  2.64it/s]"
     ]
    },
    {
     "name": "stdout",
     "output_type": "stream",
     "text": [
      "Train Loss: 0.2857, Train Accuracy: 0.91\n",
      "Test Loss: 0.1647, Test Accuracy: 0.96\n",
      "Epoch: 64\n",
      "------\n"
     ]
    },
    {
     "name": "stderr",
     "output_type": "stream",
     "text": [
      " 81%|████████▏ | 65/80 [00:25<00:05,  2.59it/s]"
     ]
    },
    {
     "name": "stdout",
     "output_type": "stream",
     "text": [
      "Train Loss: 0.2973, Train Accuracy: 0.90\n",
      "Test Loss: 0.1817, Test Accuracy: 0.94\n",
      "Epoch: 65\n",
      "------\n"
     ]
    },
    {
     "name": "stderr",
     "output_type": "stream",
     "text": [
      " 82%|████████▎ | 66/80 [00:25<00:05,  2.61it/s]"
     ]
    },
    {
     "name": "stdout",
     "output_type": "stream",
     "text": [
      "Train Loss: 0.2606, Train Accuracy: 0.92\n",
      "Test Loss: 0.1607, Test Accuracy: 0.95\n",
      "Epoch: 66\n",
      "------\n"
     ]
    },
    {
     "name": "stderr",
     "output_type": "stream",
     "text": [
      " 84%|████████▍ | 67/80 [00:26<00:04,  2.65it/s]"
     ]
    },
    {
     "name": "stdout",
     "output_type": "stream",
     "text": [
      "Train Loss: 0.2929, Train Accuracy: 0.90\n",
      "Test Loss: 0.2304, Test Accuracy: 0.92\n",
      "Epoch: 67\n",
      "------\n"
     ]
    },
    {
     "name": "stderr",
     "output_type": "stream",
     "text": [
      " 85%|████████▌ | 68/80 [00:26<00:04,  2.61it/s]"
     ]
    },
    {
     "name": "stdout",
     "output_type": "stream",
     "text": [
      "Train Loss: 0.2952, Train Accuracy: 0.90\n",
      "Test Loss: 0.1711, Test Accuracy: 0.95\n",
      "Epoch: 68\n",
      "------\n"
     ]
    },
    {
     "name": "stderr",
     "output_type": "stream",
     "text": [
      " 86%|████████▋ | 69/80 [00:27<00:04,  2.50it/s]"
     ]
    },
    {
     "name": "stdout",
     "output_type": "stream",
     "text": [
      "Train Loss: 0.3411, Train Accuracy: 0.89\n",
      "Test Loss: 0.2946, Test Accuracy: 0.91\n",
      "Epoch: 69\n",
      "------\n"
     ]
    },
    {
     "name": "stderr",
     "output_type": "stream",
     "text": [
      " 88%|████████▊ | 70/80 [00:27<00:04,  2.50it/s]"
     ]
    },
    {
     "name": "stdout",
     "output_type": "stream",
     "text": [
      "Train Loss: 0.2985, Train Accuracy: 0.91\n",
      "Test Loss: 0.1680, Test Accuracy: 0.95\n",
      "Epoch: 70\n",
      "------\n"
     ]
    },
    {
     "name": "stderr",
     "output_type": "stream",
     "text": [
      " 89%|████████▉ | 71/80 [00:27<00:03,  2.55it/s]"
     ]
    },
    {
     "name": "stdout",
     "output_type": "stream",
     "text": [
      "Train Loss: 0.4198, Train Accuracy: 0.88\n",
      "Test Loss: 0.2342, Test Accuracy: 0.92\n",
      "Epoch: 71\n",
      "------\n"
     ]
    },
    {
     "name": "stderr",
     "output_type": "stream",
     "text": [
      " 90%|█████████ | 72/80 [00:28<00:03,  2.60it/s]"
     ]
    },
    {
     "name": "stdout",
     "output_type": "stream",
     "text": [
      "Train Loss: 0.2585, Train Accuracy: 0.92\n",
      "Test Loss: 0.1590, Test Accuracy: 0.96\n",
      "Epoch: 72\n",
      "------\n"
     ]
    },
    {
     "name": "stderr",
     "output_type": "stream",
     "text": [
      " 91%|█████████▏| 73/80 [00:28<00:02,  2.61it/s]"
     ]
    },
    {
     "name": "stdout",
     "output_type": "stream",
     "text": [
      "Train Loss: 0.2572, Train Accuracy: 0.91\n",
      "Test Loss: 0.1457, Test Accuracy: 0.96\n",
      "Epoch: 73\n",
      "------\n"
     ]
    },
    {
     "name": "stderr",
     "output_type": "stream",
     "text": [
      " 92%|█████████▎| 74/80 [00:29<00:02,  2.54it/s]"
     ]
    },
    {
     "name": "stdout",
     "output_type": "stream",
     "text": [
      "Train Loss: 0.2573, Train Accuracy: 0.92\n",
      "Test Loss: 0.1484, Test Accuracy: 0.96\n",
      "Epoch: 74\n",
      "------\n"
     ]
    },
    {
     "name": "stderr",
     "output_type": "stream",
     "text": [
      " 94%|█████████▍| 75/80 [00:29<00:01,  2.57it/s]"
     ]
    },
    {
     "name": "stdout",
     "output_type": "stream",
     "text": [
      "Train Loss: 0.2356, Train Accuracy: 0.92\n",
      "Test Loss: 0.2177, Test Accuracy: 0.92\n",
      "Epoch: 75\n",
      "------\n"
     ]
    },
    {
     "name": "stderr",
     "output_type": "stream",
     "text": [
      " 95%|█████████▌| 76/80 [00:29<00:01,  2.56it/s]"
     ]
    },
    {
     "name": "stdout",
     "output_type": "stream",
     "text": [
      "Train Loss: 0.2530, Train Accuracy: 0.91\n",
      "Test Loss: 0.1635, Test Accuracy: 0.95\n",
      "Epoch: 76\n",
      "------\n"
     ]
    },
    {
     "name": "stderr",
     "output_type": "stream",
     "text": [
      " 96%|█████████▋| 77/80 [00:30<00:01,  2.58it/s]"
     ]
    },
    {
     "name": "stdout",
     "output_type": "stream",
     "text": [
      "Train Loss: 0.2656, Train Accuracy: 0.91\n",
      "Test Loss: 0.1893, Test Accuracy: 0.94\n",
      "Epoch: 77\n",
      "------\n"
     ]
    },
    {
     "name": "stderr",
     "output_type": "stream",
     "text": [
      " 98%|█████████▊| 78/80 [00:30<00:00,  2.55it/s]"
     ]
    },
    {
     "name": "stdout",
     "output_type": "stream",
     "text": [
      "Train Loss: 0.3029, Train Accuracy: 0.90\n",
      "Test Loss: 0.1733, Test Accuracy: 0.94\n",
      "Epoch: 78\n",
      "------\n"
     ]
    },
    {
     "name": "stderr",
     "output_type": "stream",
     "text": [
      " 99%|█████████▉| 79/80 [00:31<00:00,  2.53it/s]"
     ]
    },
    {
     "name": "stdout",
     "output_type": "stream",
     "text": [
      "Train Loss: 0.3133, Train Accuracy: 0.90\n",
      "Test Loss: 0.2322, Test Accuracy: 0.93\n",
      "Epoch: 79\n",
      "------\n"
     ]
    },
    {
     "name": "stderr",
     "output_type": "stream",
     "text": [
      "100%|██████████| 80/80 [00:31<00:00,  2.55it/s]"
     ]
    },
    {
     "name": "stdout",
     "output_type": "stream",
     "text": [
      "Train Loss: 0.3704, Train Accuracy: 0.89\n",
      "Test Loss: 0.2143, Test Accuracy: 0.92\n"
     ]
    },
    {
     "name": "stderr",
     "output_type": "stream",
     "text": [
      "\n"
     ]
    }
   ],
   "source": [
    "torch.manual_seed(42)\n",
    "\n",
    "epochs = 80\n",
    "\n",
    "train_losses, test_losses = [], []\n",
    "train_accs, test_accs = [], []\n",
    "\n",
    "for epoch in tqdm(range(epochs)):\n",
    "    print(f\"Epoch: {epoch}\\n------\")\n",
    "    \n",
    "    # TRAINING\n",
    "    train_loss, train_correct =  0, 0\n",
    "    model.train()\n",
    "    for data in train_dl:\n",
    "\n",
    "        # forward pass\n",
    "        pred = model(data.x, data.edge_index, data.batch)\n",
    "\n",
    "        # metrics\n",
    "        loss = loss_fn(pred, data.y)\n",
    "        train_loss += loss\n",
    "        train_correct += int((pred.argmax(dim=1) == data.y).sum())\n",
    "        train_acc = train_correct/len(train_dl.dataset)\n",
    "\n",
    "        # backprop\n",
    "        optimizer.zero_grad()\n",
    "        loss.backward()\n",
    "        optimizer.step()\n",
    "\n",
    "    # print metrics\n",
    "    train_loss /= len(train_dl)\n",
    "    train_losses.append(train_loss.item())\n",
    "    train_accs.append(train_acc)\n",
    "    print(f\"Train Loss: {train_loss:.4f}, Train Accuracy: {train_acc:.2f}\")\n",
    "\n",
    "\n",
    "    # TESTING\n",
    "    test_loss, test_correct = 0, 0\n",
    "    model.eval()\n",
    "    with torch.inference_mode():\n",
    "        for data in test_dl:\n",
    "\n",
    "            # forward pass\n",
    "            pred = model(data.x, data.edge_index, data.batch)\n",
    "\n",
    "            # metrics\n",
    "            loss = loss_fn(pred, data.y)\n",
    "            test_loss += loss\n",
    "            test_correct += int((pred.argmax(dim=1) == data.y).sum())\n",
    "            test_acc = test_correct/len(test_dl.dataset)\n",
    "\n",
    "        # print metrics\n",
    "        test_loss /= len(test_dl)\n",
    "        test_losses.append(test_loss.item())\n",
    "        test_accs.append(test_acc)\n",
    "        print(f\"Test Loss: {test_loss:.4f}, Test Accuracy: {test_acc:.2f}\")"
   ]
  },
  {
   "cell_type": "markdown",
   "metadata": {},
   "source": [
    "### Model Evaluation"
   ]
  },
  {
   "cell_type": "code",
   "execution_count": 44,
   "metadata": {},
   "outputs": [
    {
     "data": {
      "text/plain": [
       "Text(0,0.5,'Accuracy')"
      ]
     },
     "execution_count": 44,
     "metadata": {},
     "output_type": "execute_result"
    },
    {
     "data": {
      "image/png": "[encoded data removed]",
      "text/plain": [
       "<Figure size 1500x600 with 2 Axes>"
      ]
     },
     "metadata": {},
     "output_type": "display_data"
    }
   ],
   "source": [
    "plt.figure(figsize=(15, 6))\n",
    "\n",
    "plt.subplot(121)\n",
    "sns.lineplot(x=range(epochs), y=train_losses, label='Train Loss')\n",
    "sns.lineplot(x=range(epochs), y=test_losses, label='Test Loss')\n",
    "\n",
    "plt.xlabel('Epochs')\n",
    "plt.ylabel('Loss')\n",
    "\n",
    "plt.subplot(122)\n",
    "sns.lineplot(x=range(epochs), y=train_accs, label='Train Accuracy')\n",
    "sns.lineplot(x=range(epochs), y=test_accs, label='Test Accuracy')\n",
    "\n",
    "plt.xlabel('Epochs')\n",
    "plt.ylabel('Accuracy')"
   ]
  },
  {
   "cell_type": "code",
   "execution_count": 45,
   "metadata": {},
   "outputs": [],
   "source": [
    "save_model(model, 'gnn.safetensors')"
   ]
  }
 ],
 "metadata": {
  "kernelspec": {
   "display_name": "base",
   "language": "python",
   "name": "python3"
  },
  "language_info": {
   "codemirror_mode": {
    "name": "ipython",
    "version": 3
   },
   "file_extension": ".py",
   "mimetype": "text/x-python",
   "name": "python",
   "nbconvert_exporter": "python",
   "pygments_lexer": "ipython3",
   "version": "3.9.19"
  }
 },
 "nbformat": 4,
 "nbformat_minor": 2
}
