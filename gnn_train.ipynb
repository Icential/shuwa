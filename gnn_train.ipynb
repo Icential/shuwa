{
 "cells": [
  {
   "cell_type": "code",
   "execution_count": 189,
   "metadata": {},
   "outputs": [],
   "source": [
    "import pandas as pd\n",
    "import joblib\n",
    "import matplotlib.pyplot as plt\n",
    "import seaborn as sns\n",
    "from sklearn.preprocessing import LabelEncoder\n",
    "import torch\n",
    "import torch.nn as nn\n",
    "import torch.nn.functional as F\n",
    "from torch_geometric.nn import GraphConv, global_mean_pool\n",
    "from torch_geometric.utils import to_undirected\n",
    "from torch_geometric.data import Data\n",
    "from torch_geometric.loader import DataLoader\n",
    "from tqdm import tqdm\n",
    "from safetensors.torch import save_model"
   ]
  },
  {
   "cell_type": "code",
   "execution_count": 190,
   "metadata": {},
   "outputs": [],
   "source": [
    "device = 'cuda' if torch.cuda.is_available() else 'cpu'\n",
    "# device = \"cpu\""
   ]
  },
  {
   "cell_type": "markdown",
   "metadata": {},
   "source": [
    "### Data Processing"
   ]
  },
  {
   "cell_type": "code",
   "execution_count": 191,
   "metadata": {},
   "outputs": [
    {
     "data": {
      "text/html": [
       "<div>\n",
       "<style scoped>\n",
       "    .dataframe tbody tr th:only-of-type {\n",
       "        vertical-align: middle;\n",
       "    }\n",
       "\n",
       "    .dataframe tbody tr th {\n",
       "        vertical-align: top;\n",
       "    }\n",
       "\n",
       "    .dataframe thead th {\n",
       "        text-align: right;\n",
       "    }\n",
       "</style>\n",
       "<table border=\"1\" class=\"dataframe\">\n",
       "  <thead>\n",
       "    <tr style=\"text-align: right;\">\n",
       "      <th></th>\n",
       "      <th>Unnamed: 0.1</th>\n",
       "      <th>Unnamed: 0</th>\n",
       "      <th>Landmark 1 x</th>\n",
       "      <th>Landmark 1 y</th>\n",
       "      <th>Landmark 2 x</th>\n",
       "      <th>Landmark 2 y</th>\n",
       "      <th>Landmark 3 x</th>\n",
       "      <th>Landmark 3 y</th>\n",
       "      <th>Landmark 4 x</th>\n",
       "      <th>Landmark 4 y</th>\n",
       "      <th>...</th>\n",
       "      <th>Landmark 16 y</th>\n",
       "      <th>Landmark 17 x</th>\n",
       "      <th>Landmark 17 y</th>\n",
       "      <th>Landmark 18 x</th>\n",
       "      <th>Landmark 18 y</th>\n",
       "      <th>Landmark 19 x</th>\n",
       "      <th>Landmark 19 y</th>\n",
       "      <th>Landmark 20 x</th>\n",
       "      <th>Landmark 20 y</th>\n",
       "      <th>Label</th>\n",
       "    </tr>\n",
       "  </thead>\n",
       "  <tbody>\n",
       "    <tr>\n",
       "      <th>0</th>\n",
       "      <td>0</td>\n",
       "      <td>0.0</td>\n",
       "      <td>0.447142</td>\n",
       "      <td>0.590708</td>\n",
       "      <td>0.469595</td>\n",
       "      <td>0.513098</td>\n",
       "      <td>0.471293</td>\n",
       "      <td>0.451205</td>\n",
       "      <td>0.455870</td>\n",
       "      <td>0.405068</td>\n",
       "      <td>...</td>\n",
       "      <td>0.630833</td>\n",
       "      <td>0.518164</td>\n",
       "      <td>0.645377</td>\n",
       "      <td>0.555401</td>\n",
       "      <td>0.660619</td>\n",
       "      <td>0.535724</td>\n",
       "      <td>0.671495</td>\n",
       "      <td>0.516766</td>\n",
       "      <td>0.669519</td>\n",
       "      <td>good</td>\n",
       "    </tr>\n",
       "    <tr>\n",
       "      <th>1</th>\n",
       "      <td>1</td>\n",
       "      <td>1.0</td>\n",
       "      <td>0.447354</td>\n",
       "      <td>0.598270</td>\n",
       "      <td>0.470890</td>\n",
       "      <td>0.518473</td>\n",
       "      <td>0.474211</td>\n",
       "      <td>0.456242</td>\n",
       "      <td>0.458783</td>\n",
       "      <td>0.407200</td>\n",
       "      <td>...</td>\n",
       "      <td>0.634632</td>\n",
       "      <td>0.518493</td>\n",
       "      <td>0.648955</td>\n",
       "      <td>0.557850</td>\n",
       "      <td>0.663069</td>\n",
       "      <td>0.536107</td>\n",
       "      <td>0.673253</td>\n",
       "      <td>0.514505</td>\n",
       "      <td>0.670299</td>\n",
       "      <td>good</td>\n",
       "    </tr>\n",
       "    <tr>\n",
       "      <th>2</th>\n",
       "      <td>2</td>\n",
       "      <td>2.0</td>\n",
       "      <td>0.447751</td>\n",
       "      <td>0.594389</td>\n",
       "      <td>0.471821</td>\n",
       "      <td>0.516508</td>\n",
       "      <td>0.474668</td>\n",
       "      <td>0.455287</td>\n",
       "      <td>0.459516</td>\n",
       "      <td>0.407649</td>\n",
       "      <td>...</td>\n",
       "      <td>0.634539</td>\n",
       "      <td>0.519102</td>\n",
       "      <td>0.647704</td>\n",
       "      <td>0.561070</td>\n",
       "      <td>0.663423</td>\n",
       "      <td>0.539275</td>\n",
       "      <td>0.672495</td>\n",
       "      <td>0.516909</td>\n",
       "      <td>0.668556</td>\n",
       "      <td>good</td>\n",
       "    </tr>\n",
       "    <tr>\n",
       "      <th>3</th>\n",
       "      <td>3</td>\n",
       "      <td>3.0</td>\n",
       "      <td>0.447579</td>\n",
       "      <td>0.594926</td>\n",
       "      <td>0.471340</td>\n",
       "      <td>0.515999</td>\n",
       "      <td>0.474191</td>\n",
       "      <td>0.453736</td>\n",
       "      <td>0.458233</td>\n",
       "      <td>0.405407</td>\n",
       "      <td>...</td>\n",
       "      <td>0.636172</td>\n",
       "      <td>0.520290</td>\n",
       "      <td>0.647888</td>\n",
       "      <td>0.561078</td>\n",
       "      <td>0.664179</td>\n",
       "      <td>0.539073</td>\n",
       "      <td>0.673748</td>\n",
       "      <td>0.516713</td>\n",
       "      <td>0.669505</td>\n",
       "      <td>good</td>\n",
       "    </tr>\n",
       "    <tr>\n",
       "      <th>4</th>\n",
       "      <td>4</td>\n",
       "      <td>4.0</td>\n",
       "      <td>0.448942</td>\n",
       "      <td>0.590661</td>\n",
       "      <td>0.472229</td>\n",
       "      <td>0.511420</td>\n",
       "      <td>0.474214</td>\n",
       "      <td>0.448855</td>\n",
       "      <td>0.457358</td>\n",
       "      <td>0.401411</td>\n",
       "      <td>...</td>\n",
       "      <td>0.629209</td>\n",
       "      <td>0.520169</td>\n",
       "      <td>0.637428</td>\n",
       "      <td>0.560247</td>\n",
       "      <td>0.658442</td>\n",
       "      <td>0.537632</td>\n",
       "      <td>0.668001</td>\n",
       "      <td>0.514961</td>\n",
       "      <td>0.662070</td>\n",
       "      <td>good</td>\n",
       "    </tr>\n",
       "  </tbody>\n",
       "</table>\n",
       "<p>5 rows × 43 columns</p>\n",
       "</div>"
      ],
      "text/plain": [
       "   Unnamed: 0.1  Unnamed: 0  Landmark 1 x  Landmark 1 y  Landmark 2 x  \\\n",
       "0             0         0.0      0.447142      0.590708      0.469595   \n",
       "1             1         1.0      0.447354      0.598270      0.470890   \n",
       "2             2         2.0      0.447751      0.594389      0.471821   \n",
       "3             3         3.0      0.447579      0.594926      0.471340   \n",
       "4             4         4.0      0.448942      0.590661      0.472229   \n",
       "\n",
       "   Landmark 2 y  Landmark 3 x  Landmark 3 y  Landmark 4 x  Landmark 4 y  ...  \\\n",
       "0      0.513098      0.471293      0.451205      0.455870      0.405068  ...   \n",
       "1      0.518473      0.474211      0.456242      0.458783      0.407200  ...   \n",
       "2      0.516508      0.474668      0.455287      0.459516      0.407649  ...   \n",
       "3      0.515999      0.474191      0.453736      0.458233      0.405407  ...   \n",
       "4      0.511420      0.474214      0.448855      0.457358      0.401411  ...   \n",
       "\n",
       "   Landmark 16 y  Landmark 17 x  Landmark 17 y  Landmark 18 x  Landmark 18 y  \\\n",
       "0       0.630833       0.518164       0.645377       0.555401       0.660619   \n",
       "1       0.634632       0.518493       0.648955       0.557850       0.663069   \n",
       "2       0.634539       0.519102       0.647704       0.561070       0.663423   \n",
       "3       0.636172       0.520290       0.647888       0.561078       0.664179   \n",
       "4       0.629209       0.520169       0.637428       0.560247       0.658442   \n",
       "\n",
       "   Landmark 19 x  Landmark 19 y  Landmark 20 x  Landmark 20 y  Label  \n",
       "0       0.535724       0.671495       0.516766       0.669519   good  \n",
       "1       0.536107       0.673253       0.514505       0.670299   good  \n",
       "2       0.539275       0.672495       0.516909       0.668556   good  \n",
       "3       0.539073       0.673748       0.516713       0.669505   good  \n",
       "4       0.537632       0.668001       0.514961       0.662070   good  \n",
       "\n",
       "[5 rows x 43 columns]"
      ]
     },
     "execution_count": 191,
     "metadata": {},
     "output_type": "execute_result"
    }
   ],
   "source": [
    "df = pd.read_csv('signs_en.csv')\n",
    "df.head()"
   ]
  },
  {
   "cell_type": "code",
   "execution_count": 192,
   "metadata": {},
   "outputs": [
    {
     "data": {
      "text/html": [
       "<div>\n",
       "<style scoped>\n",
       "    .dataframe tbody tr th:only-of-type {\n",
       "        vertical-align: middle;\n",
       "    }\n",
       "\n",
       "    .dataframe tbody tr th {\n",
       "        vertical-align: top;\n",
       "    }\n",
       "\n",
       "    .dataframe thead th {\n",
       "        text-align: right;\n",
       "    }\n",
       "</style>\n",
       "<table border=\"1\" class=\"dataframe\">\n",
       "  <thead>\n",
       "    <tr style=\"text-align: right;\">\n",
       "      <th></th>\n",
       "      <th>Unnamed: 0.1</th>\n",
       "      <th>Unnamed: 0</th>\n",
       "      <th>Landmark 1 x</th>\n",
       "      <th>Landmark 1 y</th>\n",
       "      <th>Landmark 2 x</th>\n",
       "      <th>Landmark 2 y</th>\n",
       "      <th>Landmark 3 x</th>\n",
       "      <th>Landmark 3 y</th>\n",
       "      <th>Landmark 4 x</th>\n",
       "      <th>Landmark 4 y</th>\n",
       "      <th>...</th>\n",
       "      <th>Landmark 16 y</th>\n",
       "      <th>Landmark 17 x</th>\n",
       "      <th>Landmark 17 y</th>\n",
       "      <th>Landmark 18 x</th>\n",
       "      <th>Landmark 18 y</th>\n",
       "      <th>Landmark 19 x</th>\n",
       "      <th>Landmark 19 y</th>\n",
       "      <th>Landmark 20 x</th>\n",
       "      <th>Landmark 20 y</th>\n",
       "      <th>Label</th>\n",
       "    </tr>\n",
       "  </thead>\n",
       "  <tbody>\n",
       "    <tr>\n",
       "      <th>415</th>\n",
       "      <td>415</td>\n",
       "      <td>86.0</td>\n",
       "      <td>0.326569</td>\n",
       "      <td>0.674404</td>\n",
       "      <td>0.357834</td>\n",
       "      <td>0.703072</td>\n",
       "      <td>0.375689</td>\n",
       "      <td>0.741255</td>\n",
       "      <td>0.382552</td>\n",
       "      <td>0.776034</td>\n",
       "      <td>...</td>\n",
       "      <td>0.606782</td>\n",
       "      <td>0.336321</td>\n",
       "      <td>0.575292</td>\n",
       "      <td>0.347091</td>\n",
       "      <td>0.577000</td>\n",
       "      <td>0.336864</td>\n",
       "      <td>0.592053</td>\n",
       "      <td>0.330558</td>\n",
       "      <td>0.594813</td>\n",
       "      <td>not good</td>\n",
       "    </tr>\n",
       "    <tr>\n",
       "      <th>2927</th>\n",
       "      <td>588</td>\n",
       "      <td>NaN</td>\n",
       "      <td>0.456985</td>\n",
       "      <td>0.661305</td>\n",
       "      <td>0.467504</td>\n",
       "      <td>0.639797</td>\n",
       "      <td>0.480497</td>\n",
       "      <td>0.630084</td>\n",
       "      <td>0.492144</td>\n",
       "      <td>0.625483</td>\n",
       "      <td>...</td>\n",
       "      <td>0.629676</td>\n",
       "      <td>0.457430</td>\n",
       "      <td>0.617761</td>\n",
       "      <td>0.481457</td>\n",
       "      <td>0.615641</td>\n",
       "      <td>0.491817</td>\n",
       "      <td>0.621171</td>\n",
       "      <td>0.497802</td>\n",
       "      <td>0.628334</td>\n",
       "      <td>c</td>\n",
       "    </tr>\n",
       "    <tr>\n",
       "      <th>3194</th>\n",
       "      <td>855</td>\n",
       "      <td>NaN</td>\n",
       "      <td>0.431389</td>\n",
       "      <td>0.722176</td>\n",
       "      <td>0.459923</td>\n",
       "      <td>0.701749</td>\n",
       "      <td>0.483064</td>\n",
       "      <td>0.689345</td>\n",
       "      <td>0.492661</td>\n",
       "      <td>0.675986</td>\n",
       "      <td>...</td>\n",
       "      <td>0.582822</td>\n",
       "      <td>0.423682</td>\n",
       "      <td>0.622943</td>\n",
       "      <td>0.434341</td>\n",
       "      <td>0.581182</td>\n",
       "      <td>0.455356</td>\n",
       "      <td>0.578791</td>\n",
       "      <td>0.470810</td>\n",
       "      <td>0.590627</td>\n",
       "      <td>c</td>\n",
       "    </tr>\n",
       "    <tr>\n",
       "      <th>298</th>\n",
       "      <td>298</td>\n",
       "      <td>298.0</td>\n",
       "      <td>0.378981</td>\n",
       "      <td>0.597129</td>\n",
       "      <td>0.397010</td>\n",
       "      <td>0.543736</td>\n",
       "      <td>0.398701</td>\n",
       "      <td>0.502422</td>\n",
       "      <td>0.384802</td>\n",
       "      <td>0.473080</td>\n",
       "      <td>...</td>\n",
       "      <td>0.610331</td>\n",
       "      <td>0.440011</td>\n",
       "      <td>0.626854</td>\n",
       "      <td>0.469402</td>\n",
       "      <td>0.634171</td>\n",
       "      <td>0.454586</td>\n",
       "      <td>0.641440</td>\n",
       "      <td>0.438621</td>\n",
       "      <td>0.639632</td>\n",
       "      <td>good</td>\n",
       "    </tr>\n",
       "    <tr>\n",
       "      <th>1874</th>\n",
       "      <td>634</td>\n",
       "      <td>NaN</td>\n",
       "      <td>0.443326</td>\n",
       "      <td>0.806144</td>\n",
       "      <td>0.465649</td>\n",
       "      <td>0.758831</td>\n",
       "      <td>0.444961</td>\n",
       "      <td>0.711449</td>\n",
       "      <td>0.419999</td>\n",
       "      <td>0.689627</td>\n",
       "      <td>...</td>\n",
       "      <td>0.541464</td>\n",
       "      <td>0.397769</td>\n",
       "      <td>0.688573</td>\n",
       "      <td>0.404561</td>\n",
       "      <td>0.640295</td>\n",
       "      <td>0.408814</td>\n",
       "      <td>0.610057</td>\n",
       "      <td>0.412891</td>\n",
       "      <td>0.581599</td>\n",
       "      <td>b</td>\n",
       "    </tr>\n",
       "  </tbody>\n",
       "</table>\n",
       "<p>5 rows × 43 columns</p>\n",
       "</div>"
      ],
      "text/plain": [
       "      Unnamed: 0.1  Unnamed: 0  Landmark 1 x  Landmark 1 y  Landmark 2 x  \\\n",
       "415            415        86.0      0.326569      0.674404      0.357834   \n",
       "2927           588         NaN      0.456985      0.661305      0.467504   \n",
       "3194           855         NaN      0.431389      0.722176      0.459923   \n",
       "298            298       298.0      0.378981      0.597129      0.397010   \n",
       "1874           634         NaN      0.443326      0.806144      0.465649   \n",
       "\n",
       "      Landmark 2 y  Landmark 3 x  Landmark 3 y  Landmark 4 x  Landmark 4 y  \\\n",
       "415       0.703072      0.375689      0.741255      0.382552      0.776034   \n",
       "2927      0.639797      0.480497      0.630084      0.492144      0.625483   \n",
       "3194      0.701749      0.483064      0.689345      0.492661      0.675986   \n",
       "298       0.543736      0.398701      0.502422      0.384802      0.473080   \n",
       "1874      0.758831      0.444961      0.711449      0.419999      0.689627   \n",
       "\n",
       "      ...  Landmark 16 y  Landmark 17 x  Landmark 17 y  Landmark 18 x  \\\n",
       "415   ...       0.606782       0.336321       0.575292       0.347091   \n",
       "2927  ...       0.629676       0.457430       0.617761       0.481457   \n",
       "3194  ...       0.582822       0.423682       0.622943       0.434341   \n",
       "298   ...       0.610331       0.440011       0.626854       0.469402   \n",
       "1874  ...       0.541464       0.397769       0.688573       0.404561   \n",
       "\n",
       "      Landmark 18 y  Landmark 19 x  Landmark 19 y  Landmark 20 x  \\\n",
       "415        0.577000       0.336864       0.592053       0.330558   \n",
       "2927       0.615641       0.491817       0.621171       0.497802   \n",
       "3194       0.581182       0.455356       0.578791       0.470810   \n",
       "298        0.634171       0.454586       0.641440       0.438621   \n",
       "1874       0.640295       0.408814       0.610057       0.412891   \n",
       "\n",
       "      Landmark 20 y     Label  \n",
       "415        0.594813  not good  \n",
       "2927       0.628334         c  \n",
       "3194       0.590627         c  \n",
       "298        0.639632      good  \n",
       "1874       0.581599         b  \n",
       "\n",
       "[5 rows x 43 columns]"
      ]
     },
     "execution_count": 192,
     "metadata": {},
     "output_type": "execute_result"
    }
   ],
   "source": [
    "df = df.sample(frac=1, random_state=42)\n",
    "df.head()"
   ]
  },
  {
   "cell_type": "code",
   "execution_count": 193,
   "metadata": {},
   "outputs": [
    {
     "data": {
      "text/plain": [
       "(3644, 40)"
      ]
     },
     "execution_count": 193,
     "metadata": {},
     "output_type": "execute_result"
    }
   ],
   "source": [
    "features = df.drop(columns=['Label', 'Unnamed: 0.1', 'Unnamed: 0'])\n",
    "features.shape"
   ]
  },
  {
   "cell_type": "code",
   "execution_count": 194,
   "metadata": {},
   "outputs": [
    {
     "data": {
      "text/plain": [
       "array(['not good', 'c', 'good', 'b', 'okay', 'a'], dtype=object)"
      ]
     },
     "execution_count": 194,
     "metadata": {},
     "output_type": "execute_result"
    }
   ],
   "source": [
    "labels = df['Label']\n",
    "labels.unique()"
   ]
  },
  {
   "cell_type": "code",
   "execution_count": 195,
   "metadata": {},
   "outputs": [
    {
     "data": {
      "text/plain": [
       "(3644,)"
      ]
     },
     "execution_count": 195,
     "metadata": {},
     "output_type": "execute_result"
    }
   ],
   "source": [
    "le = LabelEncoder()\n",
    "labels = le.fit_transform(labels)\n",
    "joblib.dump(le, 'label_encoder.pkl')\n",
    "\n",
    "labels.shape"
   ]
  },
  {
   "cell_type": "markdown",
   "metadata": {},
   "source": [
    "![](hand_landmarks.png)"
   ]
  },
  {
   "cell_type": "markdown",
   "metadata": {},
   "source": [
    "Edge index of hand landmarks are constant. Edge index is a 2D matrix with 2 rows. First row represents origin and second row represents end. Per column, it lists all the connections the graph makes. Essentially it is one of the matrix representations of a graph. Undirected does both a to b and b to a."
   ]
  },
  {
   "cell_type": "code",
   "execution_count": 196,
   "metadata": {},
   "outputs": [],
   "source": [
    "# make edge index\n",
    "edge_index = torch.tensor([\n",
    "    [0, 1, 2, 4, 4, 5, 6, 8, 8, 9, 10, 12, 12, 13, 14, 16, 17, 18],\n",
    "    [1, 2, 3, 5, 8, 6, 7, 9, 12, 10, 11, 16, 13, 14, 15, 17, 18, 19]\n",
    "    ], dtype=torch.long).to(device)\n",
    "\n",
    "# make it undirected\n",
    "edge_index = to_undirected(edge_index)"
   ]
  },
  {
   "cell_type": "code",
   "execution_count": 197,
   "metadata": {},
   "outputs": [],
   "source": [
    "features = features.to_numpy()\n",
    "features = features.reshape(-1, 20, 2)"
   ]
  },
  {
   "cell_type": "code",
   "execution_count": 198,
   "metadata": {},
   "outputs": [],
   "source": [
    "datas = []\n",
    "for i in range(len(features)):\n",
    "    data = Data(\n",
    "        x=torch.tensor(features[i], dtype=torch.float).to(device), \n",
    "        edge_index=edge_index,\n",
    "        y=torch.tensor(labels[i], dtype=torch.long).to(device)\n",
    "    )\n",
    "    datas.append(data)"
   ]
  },
  {
   "cell_type": "code",
   "execution_count": 199,
   "metadata": {},
   "outputs": [],
   "source": [
    "split = int(len(datas) * 0.8)\n",
    "\n",
    "train_dl = DataLoader(datas[:split], batch_size=32)\n",
    "test_dl = DataLoader(datas[split:], batch_size=32)"
   ]
  },
  {
   "cell_type": "code",
   "execution_count": 200,
   "metadata": {},
   "outputs": [
    {
     "data": {
      "text/plain": [
       "DataBatch(x=[640, 2], edge_index=[2, 1152], y=[32], batch=[640], ptr=[33])"
      ]
     },
     "execution_count": 200,
     "metadata": {},
     "output_type": "execute_result"
    }
   ],
   "source": [
    "sample = next(iter(train_dl))\n",
    "sample"
   ]
  },
  {
   "cell_type": "markdown",
   "metadata": {},
   "source": [
    "### Model Creation"
   ]
  },
  {
   "cell_type": "code",
   "execution_count": 201,
   "metadata": {},
   "outputs": [
    {
     "name": "stdout",
     "output_type": "stream",
     "text": [
      "GCN(\n",
      "  (conv1): GraphConv(2, 32)\n",
      "  (conv2): GraphConv(32, 32)\n",
      "  (lin): Linear(in_features=32, out_features=6, bias=True)\n",
      ")\n"
     ]
    }
   ],
   "source": [
    "class GCN(nn.Module):\n",
    "    def __init__(self, input_channels, hidden_channels, output_channels):\n",
    "        super(GCN, self).__init__()\n",
    "        self.conv1 = GraphConv(input_channels, hidden_channels)\n",
    "        self.conv2 = GraphConv(hidden_channels, hidden_channels)\n",
    "        self.lin = nn.Linear(hidden_channels, output_channels)\n",
    "        \n",
    "    def forward(self, x, edge_index, batch):\n",
    "        x = self.conv1(x, edge_index)\n",
    "        x = x.relu()\n",
    "        x = self.conv2(x, edge_index)\n",
    "\n",
    "        x = global_mean_pool(x, batch)\n",
    "\n",
    "        x = F.dropout(x, p=0.5, training=self.training)\n",
    "        x = self.lin(x)\n",
    "\n",
    "        return x\n",
    "\n",
    "model = GCN(2, 32, 6).to(device)\n",
    "print(model)"
   ]
  },
  {
   "cell_type": "code",
   "execution_count": 202,
   "metadata": {},
   "outputs": [
    {
     "data": {
      "text/plain": [
       "tensor([[-6.1284e-01,  3.6239e-01, -1.9367e-01, -3.0809e-01,  6.4840e-01,\n",
       "         -2.8276e-01],\n",
       "        [-1.7877e+00,  9.8468e-01, -6.7536e-01, -8.0637e-02,  3.5632e-02,\n",
       "         -1.6115e-01],\n",
       "        [-1.5777e+00,  9.1423e-01,  2.4431e-01,  9.7376e-02,  3.3261e-01,\n",
       "          6.9577e-01],\n",
       "        [-1.2160e+00,  4.8333e-01, -6.2521e-01, -3.3408e-01,  5.1151e-01,\n",
       "          4.4580e-01],\n",
       "        [-1.0753e+00,  1.7396e+00, -7.7349e-01, -2.2768e-01,  1.6128e-01,\n",
       "         -1.8738e-01],\n",
       "        [-1.1106e+00,  1.2888e+00,  4.2974e-02, -3.9982e-02, -1.0923e-01,\n",
       "          4.9267e-01],\n",
       "        [-7.8761e-01, -1.0931e-01, -6.2249e-02, -6.2065e-02,  3.4684e-01,\n",
       "          1.4330e-02],\n",
       "        [-1.4216e+00, -8.1898e-02, -1.7966e-03, -1.7971e-01,  1.5057e-01,\n",
       "         -3.3565e-01],\n",
       "        [-1.3418e+00,  1.8581e+00, -1.2694e+00, -2.2777e-01,  2.7165e-01,\n",
       "          2.9549e-01],\n",
       "        [-9.1620e-01,  8.7221e-01, -2.7978e-01, -6.7204e-01,  1.2863e+00,\n",
       "          3.4462e-01],\n",
       "        [-2.0403e+00,  3.8206e-01, -2.5906e-01,  2.7429e-01, -4.4553e-02,\n",
       "         -6.2386e-03],\n",
       "        [-1.2325e+00,  4.5333e-01,  2.5271e-01,  2.3416e-02,  5.5372e-01,\n",
       "         -2.0354e-01],\n",
       "        [-2.2780e+00,  1.3171e+00, -5.0724e-01, -1.5110e-02,  1.3724e-01,\n",
       "          2.4482e-01],\n",
       "        [-5.4405e-01, -2.1505e-01, -3.8525e-01, -5.1929e-01,  7.8753e-01,\n",
       "         -5.3632e-01],\n",
       "        [-6.7517e-01,  1.0156e+00,  1.2196e-01,  1.8699e-01,  2.2246e-01,\n",
       "         -2.8681e-02],\n",
       "        [-8.2479e-01, -2.4185e-01,  6.4566e-01,  9.4459e-02,  2.3660e-01,\n",
       "          2.2080e-01],\n",
       "        [-6.4837e-01, -2.1148e-04,  1.2516e-01,  1.6839e-01,  4.1873e-01,\n",
       "         -5.5161e-02],\n",
       "        [-1.2694e+00,  1.0425e+00, -4.8977e-01, -2.3849e-01,  2.6897e-01,\n",
       "         -9.4280e-03],\n",
       "        [-1.6876e-01,  6.6401e-01, -2.0946e-01, -3.9836e-01,  5.8123e-01,\n",
       "          1.1164e-02],\n",
       "        [-9.8798e-01, -3.8486e-01,  3.1470e-01, -2.9723e-01,  1.3269e-02,\n",
       "         -5.2245e-01],\n",
       "        [-8.7901e-01,  4.8175e-01,  3.8425e-01, -4.7648e-02,  3.7157e-01,\n",
       "         -1.6388e-01],\n",
       "        [-1.1226e+00,  8.3109e-01, -4.6323e-02,  1.7338e-01, -3.4401e-01,\n",
       "         -2.2017e-01],\n",
       "        [-7.1405e-01,  1.5895e+00, -2.4920e-01,  2.2642e-01,  7.0043e-01,\n",
       "          1.4857e+00],\n",
       "        [-8.5303e-01, -2.4427e-01, -3.9970e-02, -6.6477e-02,  8.7447e-01,\n",
       "         -4.6382e-01],\n",
       "        [-1.5574e+00,  7.1490e-01,  3.8330e-01,  7.8878e-02,  2.5003e-02,\n",
       "         -6.0550e-02],\n",
       "        [-1.4600e+00,  8.2093e-01,  3.0623e-01,  5.5951e-01,  7.0936e-01,\n",
       "          2.3163e-01],\n",
       "        [-4.7991e-01,  7.5463e-01,  3.7825e-01,  2.2186e-01,  5.7820e-03,\n",
       "          2.0156e-01],\n",
       "        [-2.2732e+00,  5.9079e-01,  5.1247e-01,  3.9410e-01,  6.2964e-02,\n",
       "         -2.3854e-01],\n",
       "        [-9.8947e-01,  1.6144e+00, -6.3865e-01,  7.7269e-02,  2.1216e-01,\n",
       "          2.4081e-01],\n",
       "        [-8.5260e-01,  3.5894e-01, -8.1240e-02, -2.5315e-01,  6.9695e-01,\n",
       "         -3.7728e-01],\n",
       "        [-8.6228e-01, -3.5513e-02, -3.8637e-01, -4.7663e-01,  8.7835e-01,\n",
       "         -4.5244e-01],\n",
       "        [-3.5571e-01, -1.0267e+00,  7.6579e-01, -2.2264e-01,  5.8853e-01,\n",
       "         -7.7119e-01]], device='cuda:0', grad_fn=<AddmmBackward0>)"
      ]
     },
     "execution_count": 202,
     "metadata": {},
     "output_type": "execute_result"
    }
   ],
   "source": [
    "model(sample.x, sample.edge_index, sample.batch)"
   ]
  },
  {
   "cell_type": "code",
   "execution_count": 203,
   "metadata": {},
   "outputs": [
    {
     "data": {
      "text/plain": [
       "tensor([4, 2, 2, 3, 1, 2, 3, 2, 2, 2, 5, 2, 2, 0, 1, 5, 0, 5, 5, 2, 5, 2, 3, 4,\n",
       "        2, 3, 1, 3, 5, 0, 3, 1], device='cuda:0')"
      ]
     },
     "execution_count": 203,
     "metadata": {},
     "output_type": "execute_result"
    }
   ],
   "source": [
    "sample.y"
   ]
  },
  {
   "cell_type": "code",
   "execution_count": 204,
   "metadata": {},
   "outputs": [],
   "source": [
    "loss_fn = nn.CrossEntropyLoss()\n",
    "optimizer = torch.optim.Adam(model.parameters(), lr=2e-2)"
   ]
  },
  {
   "cell_type": "markdown",
   "metadata": {},
   "source": [
    "### Model Training"
   ]
  },
  {
   "cell_type": "code",
   "execution_count": 205,
   "metadata": {},
   "outputs": [
    {
     "name": "stderr",
     "output_type": "stream",
     "text": [
      "  0%|          | 0/80 [00:00<?, ?it/s]"
     ]
    },
    {
     "name": "stdout",
     "output_type": "stream",
     "text": [
      "Epoch: 0\n",
      "------\n"
     ]
    },
    {
     "name": "stderr",
     "output_type": "stream",
     "text": [
      "  1%|▏         | 1/80 [00:00<01:13,  1.07it/s]"
     ]
    },
    {
     "name": "stdout",
     "output_type": "stream",
     "text": [
      "Train Loss: 1.4237, Train Accuracy: 0.45\n",
      "Test Loss: 1.2539, Test Accuracy: 0.52\n",
      "Epoch: 1\n",
      "------\n"
     ]
    },
    {
     "name": "stderr",
     "output_type": "stream",
     "text": [
      "  2%|▎         | 2/80 [00:01<01:08,  1.13it/s]"
     ]
    },
    {
     "name": "stdout",
     "output_type": "stream",
     "text": [
      "Train Loss: 1.1827, Train Accuracy: 0.53\n",
      "Test Loss: 1.1659, Test Accuracy: 0.52\n",
      "Epoch: 2\n",
      "------\n"
     ]
    },
    {
     "name": "stderr",
     "output_type": "stream",
     "text": [
      "  4%|▍         | 3/80 [00:02<01:06,  1.16it/s]"
     ]
    },
    {
     "name": "stdout",
     "output_type": "stream",
     "text": [
      "Train Loss: 1.1359, Train Accuracy: 0.56\n",
      "Test Loss: 1.1377, Test Accuracy: 0.54\n",
      "Epoch: 3\n",
      "------\n"
     ]
    },
    {
     "name": "stderr",
     "output_type": "stream",
     "text": [
      "  5%|▌         | 4/80 [00:03<01:03,  1.20it/s]"
     ]
    },
    {
     "name": "stdout",
     "output_type": "stream",
     "text": [
      "Train Loss: 1.0429, Train Accuracy: 0.61\n",
      "Test Loss: 0.9397, Test Accuracy: 0.63\n",
      "Epoch: 4\n",
      "------\n"
     ]
    },
    {
     "name": "stderr",
     "output_type": "stream",
     "text": [
      "  6%|▋         | 5/80 [00:04<01:02,  1.20it/s]"
     ]
    },
    {
     "name": "stdout",
     "output_type": "stream",
     "text": [
      "Train Loss: 0.9885, Train Accuracy: 0.63\n",
      "Test Loss: 0.9963, Test Accuracy: 0.60\n",
      "Epoch: 5\n",
      "------\n"
     ]
    },
    {
     "name": "stderr",
     "output_type": "stream",
     "text": [
      "  8%|▊         | 6/80 [00:05<01:02,  1.19it/s]"
     ]
    },
    {
     "name": "stdout",
     "output_type": "stream",
     "text": [
      "Train Loss: 0.9509, Train Accuracy: 0.65\n",
      "Test Loss: 0.9534, Test Accuracy: 0.57\n",
      "Epoch: 6\n",
      "------\n"
     ]
    },
    {
     "name": "stderr",
     "output_type": "stream",
     "text": [
      "  9%|▉         | 7/80 [00:05<01:01,  1.18it/s]"
     ]
    },
    {
     "name": "stdout",
     "output_type": "stream",
     "text": [
      "Train Loss: 0.9012, Train Accuracy: 0.67\n",
      "Test Loss: 0.8006, Test Accuracy: 0.65\n",
      "Epoch: 7\n",
      "------\n"
     ]
    },
    {
     "name": "stderr",
     "output_type": "stream",
     "text": [
      " 10%|█         | 8/80 [00:06<01:01,  1.17it/s]"
     ]
    },
    {
     "name": "stdout",
     "output_type": "stream",
     "text": [
      "Train Loss: 0.8711, Train Accuracy: 0.67\n",
      "Test Loss: 0.7494, Test Accuracy: 0.72\n",
      "Epoch: 8\n",
      "------\n"
     ]
    },
    {
     "name": "stderr",
     "output_type": "stream",
     "text": [
      " 11%|█▏        | 9/80 [00:07<00:59,  1.19it/s]"
     ]
    },
    {
     "name": "stdout",
     "output_type": "stream",
     "text": [
      "Train Loss: 0.8459, Train Accuracy: 0.70\n",
      "Test Loss: 0.6851, Test Accuracy: 0.76\n",
      "Epoch: 9\n",
      "------\n"
     ]
    },
    {
     "name": "stderr",
     "output_type": "stream",
     "text": [
      " 12%|█▎        | 10/80 [00:08<00:58,  1.20it/s]"
     ]
    },
    {
     "name": "stdout",
     "output_type": "stream",
     "text": [
      "Train Loss: 0.8358, Train Accuracy: 0.70\n",
      "Test Loss: 0.6384, Test Accuracy: 0.76\n",
      "Epoch: 10\n",
      "------\n"
     ]
    },
    {
     "name": "stderr",
     "output_type": "stream",
     "text": [
      " 14%|█▍        | 11/80 [00:09<00:59,  1.16it/s]"
     ]
    },
    {
     "name": "stdout",
     "output_type": "stream",
     "text": [
      "Train Loss: 0.7989, Train Accuracy: 0.72\n",
      "Test Loss: 0.7631, Test Accuracy: 0.76\n",
      "Epoch: 11\n",
      "------\n"
     ]
    },
    {
     "name": "stderr",
     "output_type": "stream",
     "text": [
      " 15%|█▌        | 12/80 [00:10<00:58,  1.16it/s]"
     ]
    },
    {
     "name": "stdout",
     "output_type": "stream",
     "text": [
      "Train Loss: 0.7733, Train Accuracy: 0.73\n",
      "Test Loss: 0.6253, Test Accuracy: 0.81\n",
      "Epoch: 12\n",
      "------\n"
     ]
    },
    {
     "name": "stderr",
     "output_type": "stream",
     "text": [
      " 16%|█▋        | 13/80 [00:11<00:57,  1.16it/s]"
     ]
    },
    {
     "name": "stdout",
     "output_type": "stream",
     "text": [
      "Train Loss: 0.8058, Train Accuracy: 0.72\n",
      "Test Loss: 0.6660, Test Accuracy: 0.79\n",
      "Epoch: 13\n",
      "------\n"
     ]
    },
    {
     "name": "stderr",
     "output_type": "stream",
     "text": [
      " 18%|█▊        | 14/80 [00:11<00:57,  1.15it/s]"
     ]
    },
    {
     "name": "stdout",
     "output_type": "stream",
     "text": [
      "Train Loss: 0.7603, Train Accuracy: 0.75\n",
      "Test Loss: 0.6247, Test Accuracy: 0.81\n",
      "Epoch: 14\n",
      "------\n"
     ]
    },
    {
     "name": "stderr",
     "output_type": "stream",
     "text": [
      " 19%|█▉        | 15/80 [00:12<00:57,  1.14it/s]"
     ]
    },
    {
     "name": "stdout",
     "output_type": "stream",
     "text": [
      "Train Loss: 0.7312, Train Accuracy: 0.75\n",
      "Test Loss: 0.6657, Test Accuracy: 0.73\n",
      "Epoch: 15\n",
      "------\n"
     ]
    },
    {
     "name": "stderr",
     "output_type": "stream",
     "text": [
      " 20%|██        | 16/80 [00:13<00:53,  1.19it/s]"
     ]
    },
    {
     "name": "stdout",
     "output_type": "stream",
     "text": [
      "Train Loss: 0.6948, Train Accuracy: 0.76\n",
      "Test Loss: 0.5280, Test Accuracy: 0.85\n",
      "Epoch: 16\n",
      "------\n"
     ]
    },
    {
     "name": "stderr",
     "output_type": "stream",
     "text": [
      " 21%|██▏       | 17/80 [00:14<00:53,  1.18it/s]"
     ]
    },
    {
     "name": "stdout",
     "output_type": "stream",
     "text": [
      "Train Loss: 0.7260, Train Accuracy: 0.76\n",
      "Test Loss: 0.5007, Test Accuracy: 0.83\n",
      "Epoch: 17\n",
      "------\n"
     ]
    },
    {
     "name": "stderr",
     "output_type": "stream",
     "text": [
      " 22%|██▎       | 18/80 [00:15<00:52,  1.18it/s]"
     ]
    },
    {
     "name": "stdout",
     "output_type": "stream",
     "text": [
      "Train Loss: 0.6887, Train Accuracy: 0.77\n",
      "Test Loss: 0.5239, Test Accuracy: 0.84\n",
      "Epoch: 18\n",
      "------\n"
     ]
    },
    {
     "name": "stderr",
     "output_type": "stream",
     "text": [
      " 24%|██▍       | 19/80 [00:16<00:51,  1.18it/s]"
     ]
    },
    {
     "name": "stdout",
     "output_type": "stream",
     "text": [
      "Train Loss: 0.6243, Train Accuracy: 0.80\n",
      "Test Loss: 0.5511, Test Accuracy: 0.87\n",
      "Epoch: 19\n",
      "------\n"
     ]
    },
    {
     "name": "stderr",
     "output_type": "stream",
     "text": [
      " 25%|██▌       | 20/80 [00:17<00:51,  1.16it/s]"
     ]
    },
    {
     "name": "stdout",
     "output_type": "stream",
     "text": [
      "Train Loss: 0.5849, Train Accuracy: 0.82\n",
      "Test Loss: 0.6845, Test Accuracy: 0.78\n",
      "Epoch: 20\n",
      "------\n"
     ]
    },
    {
     "name": "stderr",
     "output_type": "stream",
     "text": [
      " 26%|██▋       | 21/80 [00:17<00:51,  1.15it/s]"
     ]
    },
    {
     "name": "stdout",
     "output_type": "stream",
     "text": [
      "Train Loss: 0.5662, Train Accuracy: 0.83\n",
      "Test Loss: 0.4909, Test Accuracy: 0.86\n",
      "Epoch: 21\n",
      "------\n"
     ]
    },
    {
     "name": "stderr",
     "output_type": "stream",
     "text": [
      " 28%|██▊       | 22/80 [00:18<00:50,  1.16it/s]"
     ]
    },
    {
     "name": "stdout",
     "output_type": "stream",
     "text": [
      "Train Loss: 0.5509, Train Accuracy: 0.83\n",
      "Test Loss: 0.5233, Test Accuracy: 0.85\n",
      "Epoch: 22\n",
      "------\n"
     ]
    },
    {
     "name": "stderr",
     "output_type": "stream",
     "text": [
      " 29%|██▉       | 23/80 [00:19<00:48,  1.18it/s]"
     ]
    },
    {
     "name": "stdout",
     "output_type": "stream",
     "text": [
      "Train Loss: 0.5431, Train Accuracy: 0.83\n",
      "Test Loss: 0.4678, Test Accuracy: 0.86\n",
      "Epoch: 23\n",
      "------\n"
     ]
    },
    {
     "name": "stderr",
     "output_type": "stream",
     "text": [
      " 30%|███       | 24/80 [00:20<00:47,  1.19it/s]"
     ]
    },
    {
     "name": "stdout",
     "output_type": "stream",
     "text": [
      "Train Loss: 0.5282, Train Accuracy: 0.83\n",
      "Test Loss: 0.4376, Test Accuracy: 0.88\n",
      "Epoch: 24\n",
      "------\n"
     ]
    },
    {
     "name": "stderr",
     "output_type": "stream",
     "text": [
      " 31%|███▏      | 25/80 [00:21<00:45,  1.20it/s]"
     ]
    },
    {
     "name": "stdout",
     "output_type": "stream",
     "text": [
      "Train Loss: 0.5023, Train Accuracy: 0.84\n",
      "Test Loss: 0.7267, Test Accuracy: 0.72\n",
      "Epoch: 25\n",
      "------\n"
     ]
    },
    {
     "name": "stderr",
     "output_type": "stream",
     "text": [
      " 32%|███▎      | 26/80 [00:22<00:46,  1.17it/s]"
     ]
    },
    {
     "name": "stdout",
     "output_type": "stream",
     "text": [
      "Train Loss: 0.5541, Train Accuracy: 0.82\n",
      "Test Loss: 0.4826, Test Accuracy: 0.87\n",
      "Epoch: 26\n",
      "------\n"
     ]
    },
    {
     "name": "stderr",
     "output_type": "stream",
     "text": [
      " 34%|███▍      | 27/80 [00:23<00:45,  1.17it/s]"
     ]
    },
    {
     "name": "stdout",
     "output_type": "stream",
     "text": [
      "Train Loss: 0.4745, Train Accuracy: 0.86\n",
      "Test Loss: 0.3959, Test Accuracy: 0.87\n",
      "Epoch: 27\n",
      "------\n"
     ]
    },
    {
     "name": "stderr",
     "output_type": "stream",
     "text": [
      " 35%|███▌      | 28/80 [00:24<00:46,  1.11it/s]"
     ]
    },
    {
     "name": "stdout",
     "output_type": "stream",
     "text": [
      "Train Loss: 0.4423, Train Accuracy: 0.86\n",
      "Test Loss: 0.3458, Test Accuracy: 0.91\n",
      "Epoch: 28\n",
      "------\n"
     ]
    },
    {
     "name": "stderr",
     "output_type": "stream",
     "text": [
      " 36%|███▋      | 29/80 [00:24<00:46,  1.10it/s]"
     ]
    },
    {
     "name": "stdout",
     "output_type": "stream",
     "text": [
      "Train Loss: 0.4371, Train Accuracy: 0.87\n",
      "Test Loss: 0.5763, Test Accuracy: 0.81\n",
      "Epoch: 29\n",
      "------\n"
     ]
    },
    {
     "name": "stderr",
     "output_type": "stream",
     "text": [
      " 38%|███▊      | 30/80 [00:25<00:46,  1.09it/s]"
     ]
    },
    {
     "name": "stdout",
     "output_type": "stream",
     "text": [
      "Train Loss: 0.4553, Train Accuracy: 0.86\n",
      "Test Loss: 0.3445, Test Accuracy: 0.91\n",
      "Epoch: 30\n",
      "------\n"
     ]
    },
    {
     "name": "stderr",
     "output_type": "stream",
     "text": [
      " 39%|███▉      | 31/80 [00:26<00:44,  1.09it/s]"
     ]
    },
    {
     "name": "stdout",
     "output_type": "stream",
     "text": [
      "Train Loss: 0.4637, Train Accuracy: 0.85\n",
      "Test Loss: 0.4365, Test Accuracy: 0.85\n",
      "Epoch: 31\n",
      "------\n"
     ]
    },
    {
     "name": "stderr",
     "output_type": "stream",
     "text": [
      " 40%|████      | 32/80 [00:27<00:44,  1.07it/s]"
     ]
    },
    {
     "name": "stdout",
     "output_type": "stream",
     "text": [
      "Train Loss: 0.4988, Train Accuracy: 0.84\n",
      "Test Loss: 0.3728, Test Accuracy: 0.89\n",
      "Epoch: 32\n",
      "------\n"
     ]
    },
    {
     "name": "stderr",
     "output_type": "stream",
     "text": [
      " 41%|████▏     | 33/80 [00:28<00:43,  1.08it/s]"
     ]
    },
    {
     "name": "stdout",
     "output_type": "stream",
     "text": [
      "Train Loss: 0.4563, Train Accuracy: 0.87\n",
      "Test Loss: 0.3327, Test Accuracy: 0.91\n",
      "Epoch: 33\n",
      "------\n"
     ]
    },
    {
     "name": "stderr",
     "output_type": "stream",
     "text": [
      " 42%|████▎     | 34/80 [00:29<00:42,  1.08it/s]"
     ]
    },
    {
     "name": "stdout",
     "output_type": "stream",
     "text": [
      "Train Loss: 0.4159, Train Accuracy: 0.87\n",
      "Test Loss: 0.3077, Test Accuracy: 0.91\n",
      "Epoch: 34\n",
      "------\n"
     ]
    },
    {
     "name": "stderr",
     "output_type": "stream",
     "text": [
      " 44%|████▍     | 35/80 [00:30<00:42,  1.06it/s]"
     ]
    },
    {
     "name": "stdout",
     "output_type": "stream",
     "text": [
      "Train Loss: 0.4251, Train Accuracy: 0.87\n",
      "Test Loss: 0.4253, Test Accuracy: 0.86\n",
      "Epoch: 35\n",
      "------\n"
     ]
    },
    {
     "name": "stderr",
     "output_type": "stream",
     "text": [
      " 45%|████▌     | 36/80 [00:31<00:41,  1.05it/s]"
     ]
    },
    {
     "name": "stdout",
     "output_type": "stream",
     "text": [
      "Train Loss: 0.4797, Train Accuracy: 0.86\n",
      "Test Loss: 0.3888, Test Accuracy: 0.89\n",
      "Epoch: 36\n",
      "------\n"
     ]
    },
    {
     "name": "stderr",
     "output_type": "stream",
     "text": [
      " 46%|████▋     | 37/80 [00:32<00:39,  1.08it/s]"
     ]
    },
    {
     "name": "stdout",
     "output_type": "stream",
     "text": [
      "Train Loss: 0.4241, Train Accuracy: 0.87\n",
      "Test Loss: 0.3751, Test Accuracy: 0.90\n",
      "Epoch: 37\n",
      "------\n"
     ]
    },
    {
     "name": "stderr",
     "output_type": "stream",
     "text": [
      " 48%|████▊     | 38/80 [00:33<00:38,  1.08it/s]"
     ]
    },
    {
     "name": "stdout",
     "output_type": "stream",
     "text": [
      "Train Loss: 0.4515, Train Accuracy: 0.86\n",
      "Test Loss: 0.3136, Test Accuracy: 0.90\n",
      "Epoch: 38\n",
      "------\n"
     ]
    },
    {
     "name": "stderr",
     "output_type": "stream",
     "text": [
      " 49%|████▉     | 39/80 [00:34<00:37,  1.10it/s]"
     ]
    },
    {
     "name": "stdout",
     "output_type": "stream",
     "text": [
      "Train Loss: 0.4134, Train Accuracy: 0.88\n",
      "Test Loss: 0.2942, Test Accuracy: 0.91\n",
      "Epoch: 39\n",
      "------\n"
     ]
    },
    {
     "name": "stderr",
     "output_type": "stream",
     "text": [
      " 50%|█████     | 40/80 [00:35<00:36,  1.10it/s]"
     ]
    },
    {
     "name": "stdout",
     "output_type": "stream",
     "text": [
      "Train Loss: 0.3899, Train Accuracy: 0.88\n",
      "Test Loss: 0.2835, Test Accuracy: 0.91\n",
      "Epoch: 40\n",
      "------\n"
     ]
    },
    {
     "name": "stderr",
     "output_type": "stream",
     "text": [
      " 51%|█████▏    | 41/80 [00:36<00:37,  1.03it/s]"
     ]
    },
    {
     "name": "stdout",
     "output_type": "stream",
     "text": [
      "Train Loss: 0.3886, Train Accuracy: 0.88\n",
      "Test Loss: 0.3159, Test Accuracy: 0.90\n",
      "Epoch: 41\n",
      "------\n",
      "Train Loss: 0.4346, Train Accuracy: 0.87\n"
     ]
    },
    {
     "name": "stderr",
     "output_type": "stream",
     "text": [
      " 52%|█████▎    | 42/80 [00:37<00:38,  1.01s/it]"
     ]
    },
    {
     "name": "stdout",
     "output_type": "stream",
     "text": [
      "Test Loss: 0.3624, Test Accuracy: 0.88\n",
      "Epoch: 42\n",
      "------\n"
     ]
    },
    {
     "name": "stderr",
     "output_type": "stream",
     "text": [
      " 54%|█████▍    | 43/80 [00:38<00:36,  1.00it/s]"
     ]
    },
    {
     "name": "stdout",
     "output_type": "stream",
     "text": [
      "Train Loss: 0.4153, Train Accuracy: 0.88\n",
      "Test Loss: 0.3321, Test Accuracy: 0.90\n",
      "Epoch: 43\n",
      "------\n"
     ]
    },
    {
     "name": "stderr",
     "output_type": "stream",
     "text": [
      " 55%|█████▌    | 44/80 [00:39<00:35,  1.01it/s]"
     ]
    },
    {
     "name": "stdout",
     "output_type": "stream",
     "text": [
      "Train Loss: 0.4073, Train Accuracy: 0.88\n",
      "Test Loss: 0.2827, Test Accuracy: 0.92\n",
      "Epoch: 44\n",
      "------\n"
     ]
    },
    {
     "name": "stderr",
     "output_type": "stream",
     "text": [
      " 56%|█████▋    | 45/80 [00:40<00:34,  1.01it/s]"
     ]
    },
    {
     "name": "stdout",
     "output_type": "stream",
     "text": [
      "Train Loss: 0.3858, Train Accuracy: 0.88\n",
      "Test Loss: 0.3013, Test Accuracy: 0.91\n",
      "Epoch: 45\n",
      "------\n"
     ]
    },
    {
     "name": "stderr",
     "output_type": "stream",
     "text": [
      " 57%|█████▊    | 46/80 [00:41<00:32,  1.05it/s]"
     ]
    },
    {
     "name": "stdout",
     "output_type": "stream",
     "text": [
      "Train Loss: 0.3924, Train Accuracy: 0.88\n",
      "Test Loss: 0.4142, Test Accuracy: 0.86\n",
      "Epoch: 46\n",
      "------\n"
     ]
    },
    {
     "name": "stderr",
     "output_type": "stream",
     "text": [
      " 59%|█████▉    | 47/80 [00:42<00:30,  1.08it/s]"
     ]
    },
    {
     "name": "stdout",
     "output_type": "stream",
     "text": [
      "Train Loss: 0.3932, Train Accuracy: 0.87\n",
      "Test Loss: 0.2796, Test Accuracy: 0.91\n",
      "Epoch: 47\n",
      "------\n"
     ]
    },
    {
     "name": "stderr",
     "output_type": "stream",
     "text": [
      " 60%|██████    | 48/80 [00:42<00:28,  1.12it/s]"
     ]
    },
    {
     "name": "stdout",
     "output_type": "stream",
     "text": [
      "Train Loss: 0.4155, Train Accuracy: 0.88\n",
      "Test Loss: 0.3672, Test Accuracy: 0.90\n",
      "Epoch: 48\n",
      "------\n"
     ]
    },
    {
     "name": "stderr",
     "output_type": "stream",
     "text": [
      " 61%|██████▏   | 49/80 [00:43<00:26,  1.15it/s]"
     ]
    },
    {
     "name": "stdout",
     "output_type": "stream",
     "text": [
      "Train Loss: 0.3961, Train Accuracy: 0.87\n",
      "Test Loss: 0.2536, Test Accuracy: 0.93\n",
      "Epoch: 49\n",
      "------\n"
     ]
    },
    {
     "name": "stderr",
     "output_type": "stream",
     "text": [
      " 62%|██████▎   | 50/80 [00:44<00:25,  1.17it/s]"
     ]
    },
    {
     "name": "stdout",
     "output_type": "stream",
     "text": [
      "Train Loss: 0.3306, Train Accuracy: 0.90\n",
      "Test Loss: 0.3035, Test Accuracy: 0.92\n",
      "Epoch: 50\n",
      "------\n"
     ]
    },
    {
     "name": "stderr",
     "output_type": "stream",
     "text": [
      " 64%|██████▍   | 51/80 [00:45<00:25,  1.15it/s]"
     ]
    },
    {
     "name": "stdout",
     "output_type": "stream",
     "text": [
      "Train Loss: 0.3652, Train Accuracy: 0.89\n",
      "Test Loss: 0.2412, Test Accuracy: 0.93\n",
      "Epoch: 51\n",
      "------\n"
     ]
    },
    {
     "name": "stderr",
     "output_type": "stream",
     "text": [
      " 65%|██████▌   | 52/80 [00:46<00:25,  1.12it/s]"
     ]
    },
    {
     "name": "stdout",
     "output_type": "stream",
     "text": [
      "Train Loss: 0.3538, Train Accuracy: 0.89\n",
      "Test Loss: 0.2543, Test Accuracy: 0.93\n",
      "Epoch: 52\n",
      "------\n"
     ]
    },
    {
     "name": "stderr",
     "output_type": "stream",
     "text": [
      " 66%|██████▋   | 53/80 [00:47<00:24,  1.12it/s]"
     ]
    },
    {
     "name": "stdout",
     "output_type": "stream",
     "text": [
      "Train Loss: 0.3587, Train Accuracy: 0.89\n",
      "Test Loss: 0.2411, Test Accuracy: 0.92\n",
      "Epoch: 53\n",
      "------\n"
     ]
    },
    {
     "name": "stderr",
     "output_type": "stream",
     "text": [
      " 68%|██████▊   | 54/80 [00:48<00:22,  1.13it/s]"
     ]
    },
    {
     "name": "stdout",
     "output_type": "stream",
     "text": [
      "Train Loss: 0.3293, Train Accuracy: 0.89\n",
      "Test Loss: 0.3155, Test Accuracy: 0.89\n",
      "Epoch: 54\n",
      "------\n"
     ]
    },
    {
     "name": "stderr",
     "output_type": "stream",
     "text": [
      " 69%|██████▉   | 55/80 [00:49<00:22,  1.10it/s]"
     ]
    },
    {
     "name": "stdout",
     "output_type": "stream",
     "text": [
      "Train Loss: 0.3430, Train Accuracy: 0.89\n",
      "Test Loss: 0.3076, Test Accuracy: 0.90\n",
      "Epoch: 55\n",
      "------\n"
     ]
    },
    {
     "name": "stderr",
     "output_type": "stream",
     "text": [
      " 70%|███████   | 56/80 [00:49<00:21,  1.10it/s]"
     ]
    },
    {
     "name": "stdout",
     "output_type": "stream",
     "text": [
      "Train Loss: 0.3680, Train Accuracy: 0.88\n",
      "Test Loss: 0.2939, Test Accuracy: 0.91\n",
      "Epoch: 56\n",
      "------\n"
     ]
    },
    {
     "name": "stderr",
     "output_type": "stream",
     "text": [
      " 71%|███████▏  | 57/80 [00:50<00:20,  1.13it/s]"
     ]
    },
    {
     "name": "stdout",
     "output_type": "stream",
     "text": [
      "Train Loss: 0.3829, Train Accuracy: 0.88\n",
      "Test Loss: 0.3061, Test Accuracy: 0.90\n",
      "Epoch: 57\n",
      "------\n"
     ]
    },
    {
     "name": "stderr",
     "output_type": "stream",
     "text": [
      " 72%|███████▎  | 58/80 [00:51<00:19,  1.14it/s]"
     ]
    },
    {
     "name": "stdout",
     "output_type": "stream",
     "text": [
      "Train Loss: 0.4099, Train Accuracy: 0.88\n",
      "Test Loss: 0.2246, Test Accuracy: 0.93\n",
      "Epoch: 58\n",
      "------\n"
     ]
    },
    {
     "name": "stderr",
     "output_type": "stream",
     "text": [
      " 74%|███████▍  | 59/80 [00:52<00:18,  1.12it/s]"
     ]
    },
    {
     "name": "stdout",
     "output_type": "stream",
     "text": [
      "Train Loss: 0.3160, Train Accuracy: 0.90\n",
      "Test Loss: 0.2613, Test Accuracy: 0.92\n",
      "Epoch: 59\n",
      "------\n"
     ]
    },
    {
     "name": "stderr",
     "output_type": "stream",
     "text": [
      " 75%|███████▌  | 60/80 [00:53<00:18,  1.11it/s]"
     ]
    },
    {
     "name": "stdout",
     "output_type": "stream",
     "text": [
      "Train Loss: 0.3235, Train Accuracy: 0.90\n",
      "Test Loss: 0.2683, Test Accuracy: 0.92\n",
      "Epoch: 60\n",
      "------\n"
     ]
    },
    {
     "name": "stderr",
     "output_type": "stream",
     "text": [
      " 76%|███████▋  | 61/80 [00:54<00:16,  1.12it/s]"
     ]
    },
    {
     "name": "stdout",
     "output_type": "stream",
     "text": [
      "Train Loss: 0.2868, Train Accuracy: 0.91\n",
      "Test Loss: 0.1985, Test Accuracy: 0.93\n",
      "Epoch: 61\n",
      "------\n"
     ]
    },
    {
     "name": "stderr",
     "output_type": "stream",
     "text": [
      " 78%|███████▊  | 62/80 [00:55<00:15,  1.14it/s]"
     ]
    },
    {
     "name": "stdout",
     "output_type": "stream",
     "text": [
      "Train Loss: 0.2942, Train Accuracy: 0.91\n",
      "Test Loss: 0.2433, Test Accuracy: 0.92\n",
      "Epoch: 62\n",
      "------\n"
     ]
    },
    {
     "name": "stderr",
     "output_type": "stream",
     "text": [
      " 79%|███████▉  | 63/80 [00:56<00:14,  1.15it/s]"
     ]
    },
    {
     "name": "stdout",
     "output_type": "stream",
     "text": [
      "Train Loss: 0.3464, Train Accuracy: 0.90\n",
      "Test Loss: 0.2374, Test Accuracy: 0.93\n",
      "Epoch: 63\n",
      "------\n"
     ]
    },
    {
     "name": "stderr",
     "output_type": "stream",
     "text": [
      " 80%|████████  | 64/80 [00:57<00:14,  1.11it/s]"
     ]
    },
    {
     "name": "stdout",
     "output_type": "stream",
     "text": [
      "Train Loss: 0.4279, Train Accuracy: 0.88\n",
      "Test Loss: 0.3579, Test Accuracy: 0.89\n",
      "Epoch: 64\n",
      "------\n"
     ]
    },
    {
     "name": "stderr",
     "output_type": "stream",
     "text": [
      " 81%|████████▏ | 65/80 [00:57<00:13,  1.13it/s]"
     ]
    },
    {
     "name": "stdout",
     "output_type": "stream",
     "text": [
      "Train Loss: 0.3203, Train Accuracy: 0.90\n",
      "Test Loss: 0.2437, Test Accuracy: 0.91\n",
      "Epoch: 65\n",
      "------\n"
     ]
    },
    {
     "name": "stderr",
     "output_type": "stream",
     "text": [
      " 82%|████████▎ | 66/80 [00:58<00:12,  1.13it/s]"
     ]
    },
    {
     "name": "stdout",
     "output_type": "stream",
     "text": [
      "Train Loss: 0.3243, Train Accuracy: 0.90\n",
      "Test Loss: 0.2429, Test Accuracy: 0.93\n",
      "Epoch: 66\n",
      "------\n"
     ]
    },
    {
     "name": "stderr",
     "output_type": "stream",
     "text": [
      " 84%|████████▍ | 67/80 [00:59<00:11,  1.12it/s]"
     ]
    },
    {
     "name": "stdout",
     "output_type": "stream",
     "text": [
      "Train Loss: 0.2978, Train Accuracy: 0.92\n",
      "Test Loss: 0.1946, Test Accuracy: 0.94\n",
      "Epoch: 67\n",
      "------\n"
     ]
    },
    {
     "name": "stderr",
     "output_type": "stream",
     "text": [
      " 85%|████████▌ | 68/80 [01:00<00:10,  1.12it/s]"
     ]
    },
    {
     "name": "stdout",
     "output_type": "stream",
     "text": [
      "Train Loss: 0.3071, Train Accuracy: 0.91\n",
      "Test Loss: 0.2071, Test Accuracy: 0.93\n",
      "Epoch: 68\n",
      "------\n"
     ]
    },
    {
     "name": "stderr",
     "output_type": "stream",
     "text": [
      " 86%|████████▋ | 69/80 [01:01<00:09,  1.12it/s]"
     ]
    },
    {
     "name": "stdout",
     "output_type": "stream",
     "text": [
      "Train Loss: 0.3344, Train Accuracy: 0.90\n",
      "Test Loss: 0.1902, Test Accuracy: 0.94\n",
      "Epoch: 69\n",
      "------\n"
     ]
    },
    {
     "name": "stderr",
     "output_type": "stream",
     "text": [
      " 88%|████████▊ | 70/80 [01:02<00:08,  1.12it/s]"
     ]
    },
    {
     "name": "stdout",
     "output_type": "stream",
     "text": [
      "Train Loss: 0.3235, Train Accuracy: 0.90\n",
      "Test Loss: 0.2609, Test Accuracy: 0.91\n",
      "Epoch: 70\n",
      "------\n"
     ]
    },
    {
     "name": "stderr",
     "output_type": "stream",
     "text": [
      " 89%|████████▉ | 71/80 [01:03<00:08,  1.12it/s]"
     ]
    },
    {
     "name": "stdout",
     "output_type": "stream",
     "text": [
      "Train Loss: 0.3172, Train Accuracy: 0.90\n",
      "Test Loss: 0.2154, Test Accuracy: 0.93\n",
      "Epoch: 71\n",
      "------\n"
     ]
    },
    {
     "name": "stderr",
     "output_type": "stream",
     "text": [
      " 90%|█████████ | 72/80 [01:04<00:07,  1.13it/s]"
     ]
    },
    {
     "name": "stdout",
     "output_type": "stream",
     "text": [
      "Train Loss: 0.3305, Train Accuracy: 0.90\n",
      "Test Loss: 0.1895, Test Accuracy: 0.94\n",
      "Epoch: 72\n",
      "------\n"
     ]
    },
    {
     "name": "stderr",
     "output_type": "stream",
     "text": [
      " 91%|█████████▏| 73/80 [01:04<00:06,  1.13it/s]"
     ]
    },
    {
     "name": "stdout",
     "output_type": "stream",
     "text": [
      "Train Loss: 0.2939, Train Accuracy: 0.90\n",
      "Test Loss: 0.3630, Test Accuracy: 0.89\n",
      "Epoch: 73\n",
      "------\n"
     ]
    },
    {
     "name": "stderr",
     "output_type": "stream",
     "text": [
      " 92%|█████████▎| 74/80 [01:05<00:05,  1.13it/s]"
     ]
    },
    {
     "name": "stdout",
     "output_type": "stream",
     "text": [
      "Train Loss: 0.3212, Train Accuracy: 0.90\n",
      "Test Loss: 0.2003, Test Accuracy: 0.93\n",
      "Epoch: 74\n",
      "------\n"
     ]
    },
    {
     "name": "stderr",
     "output_type": "stream",
     "text": [
      " 94%|█████████▍| 75/80 [01:06<00:04,  1.12it/s]"
     ]
    },
    {
     "name": "stdout",
     "output_type": "stream",
     "text": [
      "Train Loss: 0.3495, Train Accuracy: 0.90\n",
      "Test Loss: 0.2322, Test Accuracy: 0.93\n",
      "Epoch: 75\n",
      "------\n"
     ]
    },
    {
     "name": "stderr",
     "output_type": "stream",
     "text": [
      " 95%|█████████▌| 76/80 [01:07<00:03,  1.10it/s]"
     ]
    },
    {
     "name": "stdout",
     "output_type": "stream",
     "text": [
      "Train Loss: 0.3556, Train Accuracy: 0.90\n",
      "Test Loss: 0.2945, Test Accuracy: 0.91\n",
      "Epoch: 76\n",
      "------\n"
     ]
    },
    {
     "name": "stderr",
     "output_type": "stream",
     "text": [
      " 96%|█████████▋| 77/80 [01:08<00:02,  1.10it/s]"
     ]
    },
    {
     "name": "stdout",
     "output_type": "stream",
     "text": [
      "Train Loss: 0.2965, Train Accuracy: 0.90\n",
      "Test Loss: 0.2561, Test Accuracy: 0.92\n",
      "Epoch: 77\n",
      "------\n"
     ]
    },
    {
     "name": "stderr",
     "output_type": "stream",
     "text": [
      " 98%|█████████▊| 78/80 [01:09<00:01,  1.08it/s]"
     ]
    },
    {
     "name": "stdout",
     "output_type": "stream",
     "text": [
      "Train Loss: 0.2619, Train Accuracy: 0.92\n",
      "Test Loss: 0.1911, Test Accuracy: 0.94\n",
      "Epoch: 78\n",
      "------\n"
     ]
    },
    {
     "name": "stderr",
     "output_type": "stream",
     "text": [
      " 99%|█████████▉| 79/80 [01:10<00:00,  1.10it/s]"
     ]
    },
    {
     "name": "stdout",
     "output_type": "stream",
     "text": [
      "Train Loss: 0.2864, Train Accuracy: 0.91\n",
      "Test Loss: 0.1641, Test Accuracy: 0.95\n",
      "Epoch: 79\n",
      "------\n"
     ]
    },
    {
     "name": "stderr",
     "output_type": "stream",
     "text": [
      "100%|██████████| 80/80 [01:11<00:00,  1.12it/s]"
     ]
    },
    {
     "name": "stdout",
     "output_type": "stream",
     "text": [
      "Train Loss: 0.3163, Train Accuracy: 0.90\n",
      "Test Loss: 0.1830, Test Accuracy: 0.93\n"
     ]
    },
    {
     "name": "stderr",
     "output_type": "stream",
     "text": [
      "\n"
     ]
    }
   ],
   "source": [
    "torch.manual_seed(42)\n",
    "\n",
    "epochs = 80\n",
    "\n",
    "train_losses, test_losses = [], []\n",
    "train_accs, test_accs = [], []\n",
    "\n",
    "for epoch in tqdm(range(epochs)):\n",
    "    print(f\"Epoch: {epoch}\\n------\")\n",
    "    \n",
    "    # TRAINING\n",
    "    train_loss, train_correct =  0, 0\n",
    "    model.train()\n",
    "    for data in train_dl:\n",
    "\n",
    "        # forward pass\n",
    "        pred = model(data.x, data.edge_index, data.batch)\n",
    "\n",
    "        # metrics\n",
    "        loss = loss_fn(pred, data.y)\n",
    "        train_loss += loss\n",
    "        train_correct += int((pred.argmax(dim=1) == data.y).sum())\n",
    "        train_acc = train_correct/len(train_dl.dataset)\n",
    "\n",
    "        # backprop\n",
    "        optimizer.zero_grad()\n",
    "        loss.backward()\n",
    "        optimizer.step()\n",
    "\n",
    "    # print metrics\n",
    "    train_loss /= len(train_dl)\n",
    "    train_losses.append(train_loss.item())\n",
    "    train_accs.append(train_acc)\n",
    "    print(f\"Train Loss: {train_loss:.4f}, Train Accuracy: {train_acc:.2f}\")\n",
    "\n",
    "\n",
    "    # TESTING\n",
    "    test_loss, test_correct = 0, 0\n",
    "    model.eval()\n",
    "    with torch.inference_mode():\n",
    "        for data in test_dl:\n",
    "\n",
    "            # forward pass\n",
    "            pred = model(data.x, data.edge_index, data.batch)\n",
    "\n",
    "            # metrics\n",
    "            loss = loss_fn(pred, data.y)\n",
    "            test_loss += loss\n",
    "            test_correct += int((pred.argmax(dim=1) == data.y).sum())\n",
    "            test_acc = test_correct/len(test_dl.dataset)\n",
    "\n",
    "        # print metrics\n",
    "        test_loss /= len(test_dl)\n",
    "        test_losses.append(test_loss.item())\n",
    "        test_accs.append(test_acc)\n",
    "        print(f\"Test Loss: {test_loss:.4f}, Test Accuracy: {test_acc:.2f}\")"
   ]
  },
  {
   "cell_type": "markdown",
   "metadata": {},
   "source": [
    "### Model Evaluation"
   ]
  },
  {
   "cell_type": "code",
   "execution_count": 206,
   "metadata": {},
   "outputs": [
    {
     "data": {
      "text/plain": [
       "Text(0,0.5,'Accuracy')"
      ]
     },
     "execution_count": 206,
     "metadata": {},
     "output_type": "execute_result"
    },
    {
     "data": {
      "image/png": "[encoded data removed]",
      "text/plain": [
       "<Figure size 1500x600 with 2 Axes>"
      ]
     },
     "metadata": {},
     "output_type": "display_data"
    }
   ],
   "source": [
    "plt.figure(figsize=(15, 6))\n",
    "\n",
    "plt.subplot(121)\n",
    "sns.lineplot(x=range(epochs), y=train_losses, label='Train Loss')\n",
    "sns.lineplot(x=range(epochs), y=test_losses, label='Test Loss')\n",
    "\n",
    "plt.xlabel('Epochs')\n",
    "plt.ylabel('Loss')\n",
    "\n",
    "plt.subplot(122)\n",
    "sns.lineplot(x=range(epochs), y=train_accs, label='Train Accuracy')\n",
    "sns.lineplot(x=range(epochs), y=test_accs, label='Test Accuracy')\n",
    "\n",
    "plt.xlabel('Epochs')\n",
    "plt.ylabel('Accuracy')"
   ]
  },
  {
   "cell_type": "code",
   "execution_count": 209,
   "metadata": {},
   "outputs": [],
   "source": [
    "save_model(model, 'gnn.safetensors')"
   ]
  }
 ],
 "metadata": {
  "kernelspec": {
   "display_name": "base",
   "language": "python",
   "name": "python3"
  },
  "language_info": {
   "codemirror_mode": {
    "name": "ipython",
    "version": 3
   },
   "file_extension": ".py",
   "mimetype": "text/x-python",
   "name": "python",
   "nbconvert_exporter": "python",
   "pygments_lexer": "ipython3",
   "version": "3.9.19"
  }
 },
 "nbformat": 4,
 "nbformat_minor": 2
}
