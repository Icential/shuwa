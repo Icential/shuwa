{
 "cells": [
  {
   "cell_type": "code",
   "execution_count": 2,
   "metadata": {},
   "outputs": [
    {
     "name": "stderr",
     "output_type": "stream",
     "text": [
      "c:\\Users\\paoma\\miniconda3\\lib\\site-packages\\tqdm\\auto.py:21: TqdmWarning: IProgress not found. Please update jupyter and ipywidgets. See https://ipywidgets.readthedocs.io/en/stable/user_install.html\n",
      "  from .autonotebook import tqdm as notebook_tqdm\n",
      "c:\\Users\\paoma\\miniconda3\\lib\\site-packages\\transformers\\utils\\generic.py:441: FutureWarning: `torch.utils._pytree._register_pytree_node` is deprecated. Please use `torch.utils._pytree.register_pytree_node` instead.\n",
      "  _torch_pytree._register_pytree_node(\n"
     ]
    }
   ],
   "source": [
    "import pandas as pd\n",
    "import joblib\n",
    "import matplotlib.pyplot as plt\n",
    "import seaborn as sns\n",
    "from sklearn.preprocessing import LabelEncoder\n",
    "import torch\n",
    "import torch.nn as nn\n",
    "import torch.nn.functional as F\n",
    "from torch_geometric.nn import GCNConv, global_mean_pool\n",
    "from torch_geometric.utils import to_undirected\n",
    "from torch_geometric.data import Data\n",
    "from torch_geometric.loader import DataLoader\n",
    "from tqdm import tqdm\n",
    "from safetensors.torch import save_model"
   ]
  },
  {
   "cell_type": "code",
   "execution_count": 3,
   "metadata": {},
   "outputs": [],
   "source": [
    "# device = 'cuda' if torch.cuda.is_available() else 'cpu'\n",
    "device = \"cpu\""
   ]
  },
  {
   "cell_type": "markdown",
   "metadata": {},
   "source": [
    "### Data Processing"
   ]
  },
  {
   "cell_type": "code",
   "execution_count": 4,
   "metadata": {},
   "outputs": [
    {
     "data": {
      "text/html": [
       "<div>\n",
       "<style scoped>\n",
       "    .dataframe tbody tr th:only-of-type {\n",
       "        vertical-align: middle;\n",
       "    }\n",
       "\n",
       "    .dataframe tbody tr th {\n",
       "        vertical-align: top;\n",
       "    }\n",
       "\n",
       "    .dataframe thead th {\n",
       "        text-align: right;\n",
       "    }\n",
       "</style>\n",
       "<table border=\"1\" class=\"dataframe\">\n",
       "  <thead>\n",
       "    <tr style=\"text-align: right;\">\n",
       "      <th></th>\n",
       "      <th>Unnamed: 0.1</th>\n",
       "      <th>Unnamed: 0</th>\n",
       "      <th>Landmark 1 x</th>\n",
       "      <th>Landmark 1 y</th>\n",
       "      <th>Landmark 2 x</th>\n",
       "      <th>Landmark 2 y</th>\n",
       "      <th>Landmark 3 x</th>\n",
       "      <th>Landmark 3 y</th>\n",
       "      <th>Landmark 4 x</th>\n",
       "      <th>Landmark 4 y</th>\n",
       "      <th>...</th>\n",
       "      <th>Landmark 16 y</th>\n",
       "      <th>Landmark 17 x</th>\n",
       "      <th>Landmark 17 y</th>\n",
       "      <th>Landmark 18 x</th>\n",
       "      <th>Landmark 18 y</th>\n",
       "      <th>Landmark 19 x</th>\n",
       "      <th>Landmark 19 y</th>\n",
       "      <th>Landmark 20 x</th>\n",
       "      <th>Landmark 20 y</th>\n",
       "      <th>Label</th>\n",
       "    </tr>\n",
       "  </thead>\n",
       "  <tbody>\n",
       "    <tr>\n",
       "      <th>0</th>\n",
       "      <td>0</td>\n",
       "      <td>0.0</td>\n",
       "      <td>0.447142</td>\n",
       "      <td>0.590708</td>\n",
       "      <td>0.469595</td>\n",
       "      <td>0.513098</td>\n",
       "      <td>0.471293</td>\n",
       "      <td>0.451205</td>\n",
       "      <td>0.455870</td>\n",
       "      <td>0.405068</td>\n",
       "      <td>...</td>\n",
       "      <td>0.630833</td>\n",
       "      <td>0.518164</td>\n",
       "      <td>0.645377</td>\n",
       "      <td>0.555401</td>\n",
       "      <td>0.660619</td>\n",
       "      <td>0.535724</td>\n",
       "      <td>0.671495</td>\n",
       "      <td>0.516766</td>\n",
       "      <td>0.669519</td>\n",
       "      <td>good</td>\n",
       "    </tr>\n",
       "    <tr>\n",
       "      <th>1</th>\n",
       "      <td>1</td>\n",
       "      <td>1.0</td>\n",
       "      <td>0.447354</td>\n",
       "      <td>0.598270</td>\n",
       "      <td>0.470890</td>\n",
       "      <td>0.518473</td>\n",
       "      <td>0.474211</td>\n",
       "      <td>0.456242</td>\n",
       "      <td>0.458783</td>\n",
       "      <td>0.407200</td>\n",
       "      <td>...</td>\n",
       "      <td>0.634632</td>\n",
       "      <td>0.518493</td>\n",
       "      <td>0.648955</td>\n",
       "      <td>0.557850</td>\n",
       "      <td>0.663069</td>\n",
       "      <td>0.536107</td>\n",
       "      <td>0.673253</td>\n",
       "      <td>0.514505</td>\n",
       "      <td>0.670299</td>\n",
       "      <td>good</td>\n",
       "    </tr>\n",
       "    <tr>\n",
       "      <th>2</th>\n",
       "      <td>2</td>\n",
       "      <td>2.0</td>\n",
       "      <td>0.447751</td>\n",
       "      <td>0.594389</td>\n",
       "      <td>0.471821</td>\n",
       "      <td>0.516508</td>\n",
       "      <td>0.474668</td>\n",
       "      <td>0.455287</td>\n",
       "      <td>0.459516</td>\n",
       "      <td>0.407649</td>\n",
       "      <td>...</td>\n",
       "      <td>0.634539</td>\n",
       "      <td>0.519102</td>\n",
       "      <td>0.647704</td>\n",
       "      <td>0.561070</td>\n",
       "      <td>0.663423</td>\n",
       "      <td>0.539275</td>\n",
       "      <td>0.672495</td>\n",
       "      <td>0.516909</td>\n",
       "      <td>0.668556</td>\n",
       "      <td>good</td>\n",
       "    </tr>\n",
       "    <tr>\n",
       "      <th>3</th>\n",
       "      <td>3</td>\n",
       "      <td>3.0</td>\n",
       "      <td>0.447579</td>\n",
       "      <td>0.594926</td>\n",
       "      <td>0.471340</td>\n",
       "      <td>0.515999</td>\n",
       "      <td>0.474191</td>\n",
       "      <td>0.453736</td>\n",
       "      <td>0.458233</td>\n",
       "      <td>0.405407</td>\n",
       "      <td>...</td>\n",
       "      <td>0.636172</td>\n",
       "      <td>0.520290</td>\n",
       "      <td>0.647888</td>\n",
       "      <td>0.561078</td>\n",
       "      <td>0.664179</td>\n",
       "      <td>0.539073</td>\n",
       "      <td>0.673748</td>\n",
       "      <td>0.516713</td>\n",
       "      <td>0.669505</td>\n",
       "      <td>good</td>\n",
       "    </tr>\n",
       "    <tr>\n",
       "      <th>4</th>\n",
       "      <td>4</td>\n",
       "      <td>4.0</td>\n",
       "      <td>0.448942</td>\n",
       "      <td>0.590661</td>\n",
       "      <td>0.472229</td>\n",
       "      <td>0.511420</td>\n",
       "      <td>0.474214</td>\n",
       "      <td>0.448855</td>\n",
       "      <td>0.457358</td>\n",
       "      <td>0.401411</td>\n",
       "      <td>...</td>\n",
       "      <td>0.629209</td>\n",
       "      <td>0.520169</td>\n",
       "      <td>0.637428</td>\n",
       "      <td>0.560247</td>\n",
       "      <td>0.658442</td>\n",
       "      <td>0.537632</td>\n",
       "      <td>0.668001</td>\n",
       "      <td>0.514961</td>\n",
       "      <td>0.662070</td>\n",
       "      <td>good</td>\n",
       "    </tr>\n",
       "  </tbody>\n",
       "</table>\n",
       "<p>5 rows × 43 columns</p>\n",
       "</div>"
      ],
      "text/plain": [
       "   Unnamed: 0.1  Unnamed: 0  Landmark 1 x  Landmark 1 y  Landmark 2 x  \\\n",
       "0             0         0.0      0.447142      0.590708      0.469595   \n",
       "1             1         1.0      0.447354      0.598270      0.470890   \n",
       "2             2         2.0      0.447751      0.594389      0.471821   \n",
       "3             3         3.0      0.447579      0.594926      0.471340   \n",
       "4             4         4.0      0.448942      0.590661      0.472229   \n",
       "\n",
       "   Landmark 2 y  Landmark 3 x  Landmark 3 y  Landmark 4 x  Landmark 4 y  ...  \\\n",
       "0      0.513098      0.471293      0.451205      0.455870      0.405068  ...   \n",
       "1      0.518473      0.474211      0.456242      0.458783      0.407200  ...   \n",
       "2      0.516508      0.474668      0.455287      0.459516      0.407649  ...   \n",
       "3      0.515999      0.474191      0.453736      0.458233      0.405407  ...   \n",
       "4      0.511420      0.474214      0.448855      0.457358      0.401411  ...   \n",
       "\n",
       "   Landmark 16 y  Landmark 17 x  Landmark 17 y  Landmark 18 x  Landmark 18 y  \\\n",
       "0       0.630833       0.518164       0.645377       0.555401       0.660619   \n",
       "1       0.634632       0.518493       0.648955       0.557850       0.663069   \n",
       "2       0.634539       0.519102       0.647704       0.561070       0.663423   \n",
       "3       0.636172       0.520290       0.647888       0.561078       0.664179   \n",
       "4       0.629209       0.520169       0.637428       0.560247       0.658442   \n",
       "\n",
       "   Landmark 19 x  Landmark 19 y  Landmark 20 x  Landmark 20 y  Label  \n",
       "0       0.535724       0.671495       0.516766       0.669519   good  \n",
       "1       0.536107       0.673253       0.514505       0.670299   good  \n",
       "2       0.539275       0.672495       0.516909       0.668556   good  \n",
       "3       0.539073       0.673748       0.516713       0.669505   good  \n",
       "4       0.537632       0.668001       0.514961       0.662070   good  \n",
       "\n",
       "[5 rows x 43 columns]"
      ]
     },
     "execution_count": 4,
     "metadata": {},
     "output_type": "execute_result"
    }
   ],
   "source": [
    "df = pd.read_csv('signs_en.csv')\n",
    "df.head()"
   ]
  },
  {
   "cell_type": "code",
   "execution_count": 5,
   "metadata": {},
   "outputs": [
    {
     "data": {
      "text/html": [
       "<div>\n",
       "<style scoped>\n",
       "    .dataframe tbody tr th:only-of-type {\n",
       "        vertical-align: middle;\n",
       "    }\n",
       "\n",
       "    .dataframe tbody tr th {\n",
       "        vertical-align: top;\n",
       "    }\n",
       "\n",
       "    .dataframe thead th {\n",
       "        text-align: right;\n",
       "    }\n",
       "</style>\n",
       "<table border=\"1\" class=\"dataframe\">\n",
       "  <thead>\n",
       "    <tr style=\"text-align: right;\">\n",
       "      <th></th>\n",
       "      <th>Unnamed: 0.1</th>\n",
       "      <th>Unnamed: 0</th>\n",
       "      <th>Landmark 1 x</th>\n",
       "      <th>Landmark 1 y</th>\n",
       "      <th>Landmark 2 x</th>\n",
       "      <th>Landmark 2 y</th>\n",
       "      <th>Landmark 3 x</th>\n",
       "      <th>Landmark 3 y</th>\n",
       "      <th>Landmark 4 x</th>\n",
       "      <th>Landmark 4 y</th>\n",
       "      <th>...</th>\n",
       "      <th>Landmark 16 y</th>\n",
       "      <th>Landmark 17 x</th>\n",
       "      <th>Landmark 17 y</th>\n",
       "      <th>Landmark 18 x</th>\n",
       "      <th>Landmark 18 y</th>\n",
       "      <th>Landmark 19 x</th>\n",
       "      <th>Landmark 19 y</th>\n",
       "      <th>Landmark 20 x</th>\n",
       "      <th>Landmark 20 y</th>\n",
       "      <th>Label</th>\n",
       "    </tr>\n",
       "  </thead>\n",
       "  <tbody>\n",
       "    <tr>\n",
       "      <th>415</th>\n",
       "      <td>415</td>\n",
       "      <td>86.0</td>\n",
       "      <td>0.326569</td>\n",
       "      <td>0.674404</td>\n",
       "      <td>0.357834</td>\n",
       "      <td>0.703072</td>\n",
       "      <td>0.375689</td>\n",
       "      <td>0.741255</td>\n",
       "      <td>0.382552</td>\n",
       "      <td>0.776034</td>\n",
       "      <td>...</td>\n",
       "      <td>0.606782</td>\n",
       "      <td>0.336321</td>\n",
       "      <td>0.575292</td>\n",
       "      <td>0.347091</td>\n",
       "      <td>0.577000</td>\n",
       "      <td>0.336864</td>\n",
       "      <td>0.592053</td>\n",
       "      <td>0.330558</td>\n",
       "      <td>0.594813</td>\n",
       "      <td>not good</td>\n",
       "    </tr>\n",
       "    <tr>\n",
       "      <th>2927</th>\n",
       "      <td>588</td>\n",
       "      <td>NaN</td>\n",
       "      <td>0.456985</td>\n",
       "      <td>0.661305</td>\n",
       "      <td>0.467504</td>\n",
       "      <td>0.639797</td>\n",
       "      <td>0.480497</td>\n",
       "      <td>0.630084</td>\n",
       "      <td>0.492144</td>\n",
       "      <td>0.625483</td>\n",
       "      <td>...</td>\n",
       "      <td>0.629676</td>\n",
       "      <td>0.457430</td>\n",
       "      <td>0.617761</td>\n",
       "      <td>0.481457</td>\n",
       "      <td>0.615641</td>\n",
       "      <td>0.491817</td>\n",
       "      <td>0.621171</td>\n",
       "      <td>0.497802</td>\n",
       "      <td>0.628334</td>\n",
       "      <td>c</td>\n",
       "    </tr>\n",
       "    <tr>\n",
       "      <th>3194</th>\n",
       "      <td>855</td>\n",
       "      <td>NaN</td>\n",
       "      <td>0.431389</td>\n",
       "      <td>0.722176</td>\n",
       "      <td>0.459923</td>\n",
       "      <td>0.701749</td>\n",
       "      <td>0.483064</td>\n",
       "      <td>0.689345</td>\n",
       "      <td>0.492661</td>\n",
       "      <td>0.675986</td>\n",
       "      <td>...</td>\n",
       "      <td>0.582822</td>\n",
       "      <td>0.423682</td>\n",
       "      <td>0.622943</td>\n",
       "      <td>0.434341</td>\n",
       "      <td>0.581182</td>\n",
       "      <td>0.455356</td>\n",
       "      <td>0.578791</td>\n",
       "      <td>0.470810</td>\n",
       "      <td>0.590627</td>\n",
       "      <td>c</td>\n",
       "    </tr>\n",
       "    <tr>\n",
       "      <th>298</th>\n",
       "      <td>298</td>\n",
       "      <td>298.0</td>\n",
       "      <td>0.378981</td>\n",
       "      <td>0.597129</td>\n",
       "      <td>0.397010</td>\n",
       "      <td>0.543736</td>\n",
       "      <td>0.398701</td>\n",
       "      <td>0.502422</td>\n",
       "      <td>0.384802</td>\n",
       "      <td>0.473080</td>\n",
       "      <td>...</td>\n",
       "      <td>0.610331</td>\n",
       "      <td>0.440011</td>\n",
       "      <td>0.626854</td>\n",
       "      <td>0.469402</td>\n",
       "      <td>0.634171</td>\n",
       "      <td>0.454586</td>\n",
       "      <td>0.641440</td>\n",
       "      <td>0.438621</td>\n",
       "      <td>0.639632</td>\n",
       "      <td>good</td>\n",
       "    </tr>\n",
       "    <tr>\n",
       "      <th>1874</th>\n",
       "      <td>634</td>\n",
       "      <td>NaN</td>\n",
       "      <td>0.443326</td>\n",
       "      <td>0.806144</td>\n",
       "      <td>0.465649</td>\n",
       "      <td>0.758831</td>\n",
       "      <td>0.444961</td>\n",
       "      <td>0.711449</td>\n",
       "      <td>0.419999</td>\n",
       "      <td>0.689627</td>\n",
       "      <td>...</td>\n",
       "      <td>0.541464</td>\n",
       "      <td>0.397769</td>\n",
       "      <td>0.688573</td>\n",
       "      <td>0.404561</td>\n",
       "      <td>0.640295</td>\n",
       "      <td>0.408814</td>\n",
       "      <td>0.610057</td>\n",
       "      <td>0.412891</td>\n",
       "      <td>0.581599</td>\n",
       "      <td>b</td>\n",
       "    </tr>\n",
       "  </tbody>\n",
       "</table>\n",
       "<p>5 rows × 43 columns</p>\n",
       "</div>"
      ],
      "text/plain": [
       "      Unnamed: 0.1  Unnamed: 0  Landmark 1 x  Landmark 1 y  Landmark 2 x  \\\n",
       "415            415        86.0      0.326569      0.674404      0.357834   \n",
       "2927           588         NaN      0.456985      0.661305      0.467504   \n",
       "3194           855         NaN      0.431389      0.722176      0.459923   \n",
       "298            298       298.0      0.378981      0.597129      0.397010   \n",
       "1874           634         NaN      0.443326      0.806144      0.465649   \n",
       "\n",
       "      Landmark 2 y  Landmark 3 x  Landmark 3 y  Landmark 4 x  Landmark 4 y  \\\n",
       "415       0.703072      0.375689      0.741255      0.382552      0.776034   \n",
       "2927      0.639797      0.480497      0.630084      0.492144      0.625483   \n",
       "3194      0.701749      0.483064      0.689345      0.492661      0.675986   \n",
       "298       0.543736      0.398701      0.502422      0.384802      0.473080   \n",
       "1874      0.758831      0.444961      0.711449      0.419999      0.689627   \n",
       "\n",
       "      ...  Landmark 16 y  Landmark 17 x  Landmark 17 y  Landmark 18 x  \\\n",
       "415   ...       0.606782       0.336321       0.575292       0.347091   \n",
       "2927  ...       0.629676       0.457430       0.617761       0.481457   \n",
       "3194  ...       0.582822       0.423682       0.622943       0.434341   \n",
       "298   ...       0.610331       0.440011       0.626854       0.469402   \n",
       "1874  ...       0.541464       0.397769       0.688573       0.404561   \n",
       "\n",
       "      Landmark 18 y  Landmark 19 x  Landmark 19 y  Landmark 20 x  \\\n",
       "415        0.577000       0.336864       0.592053       0.330558   \n",
       "2927       0.615641       0.491817       0.621171       0.497802   \n",
       "3194       0.581182       0.455356       0.578791       0.470810   \n",
       "298        0.634171       0.454586       0.641440       0.438621   \n",
       "1874       0.640295       0.408814       0.610057       0.412891   \n",
       "\n",
       "      Landmark 20 y     Label  \n",
       "415        0.594813  not good  \n",
       "2927       0.628334         c  \n",
       "3194       0.590627         c  \n",
       "298        0.639632      good  \n",
       "1874       0.581599         b  \n",
       "\n",
       "[5 rows x 43 columns]"
      ]
     },
     "execution_count": 5,
     "metadata": {},
     "output_type": "execute_result"
    }
   ],
   "source": [
    "df = df.sample(frac=1, random_state=42)\n",
    "df.head()"
   ]
  },
  {
   "cell_type": "code",
   "execution_count": 6,
   "metadata": {},
   "outputs": [
    {
     "data": {
      "text/plain": [
       "(3644, 40)"
      ]
     },
     "execution_count": 6,
     "metadata": {},
     "output_type": "execute_result"
    }
   ],
   "source": [
    "features = df.drop(columns=['Label', 'Unnamed: 0.1', 'Unnamed: 0'])\n",
    "features.shape"
   ]
  },
  {
   "cell_type": "code",
   "execution_count": 7,
   "metadata": {},
   "outputs": [
    {
     "data": {
      "text/plain": [
       "array(['not good', 'c', 'good', 'b', 'okay', 'a'], dtype=object)"
      ]
     },
     "execution_count": 7,
     "metadata": {},
     "output_type": "execute_result"
    }
   ],
   "source": [
    "labels = df['Label']\n",
    "labels.unique()"
   ]
  },
  {
   "cell_type": "code",
   "execution_count": 8,
   "metadata": {},
   "outputs": [
    {
     "data": {
      "text/plain": [
       "(3644,)"
      ]
     },
     "execution_count": 8,
     "metadata": {},
     "output_type": "execute_result"
    }
   ],
   "source": [
    "le = LabelEncoder()\n",
    "labels = le.fit_transform(labels)\n",
    "joblib.dump(le, 'label_encoder.pkl')\n",
    "\n",
    "labels.shape"
   ]
  },
  {
   "cell_type": "markdown",
   "metadata": {},
   "source": [
    "![](hand_landmarks.png)"
   ]
  },
  {
   "cell_type": "markdown",
   "metadata": {},
   "source": [
    "Edge index of hand landmarks are constant. Edge index is a 2D matrix with 2 rows. First row represents origin and second row represents end. Per column, it lists all the connections the graph makes. Essentially it is one of the matrix representations of a graph. Undirected does both a to b and b to a."
   ]
  },
  {
   "cell_type": "code",
   "execution_count": 121,
   "metadata": {},
   "outputs": [],
   "source": [
    "# make edge index\n",
    "edge_index = torch.tensor([\n",
    "    [0, 1, 2, 4, 4, 5, 6, 8, 8, 9, 10, 12, 12, 13, 14, 16, 17, 18],\n",
    "    [1, 2, 3, 5, 8, 6, 7, 9, 12, 10, 11, 16, 13, 14, 15, 17, 18, 19]\n",
    "    ], dtype=torch.long).to(device)\n",
    "\n",
    "# make it undirected\n",
    "edge_index = to_undirected(edge_index)"
   ]
  },
  {
   "cell_type": "code",
   "execution_count": 122,
   "metadata": {},
   "outputs": [],
   "source": [
    "features = features.to_numpy()\n",
    "features = features.reshape(-1, 20, 2)"
   ]
  },
  {
   "cell_type": "code",
   "execution_count": 123,
   "metadata": {},
   "outputs": [],
   "source": [
    "datas = []\n",
    "for i in range(len(features)):\n",
    "    data = Data(\n",
    "        x=torch.tensor(features[i], dtype=torch.float).to(device), \n",
    "        edge_index=edge_index,\n",
    "        y=torch.tensor(labels[i], dtype=torch.long).to(device)\n",
    "    )\n",
    "    datas.append(data)"
   ]
  },
  {
   "cell_type": "code",
   "execution_count": 124,
   "metadata": {},
   "outputs": [],
   "source": [
    "split = int(len(datas) * 0.8)\n",
    "\n",
    "train_dl = DataLoader(datas[:split], batch_size=32)\n",
    "test_dl = DataLoader(datas[split:], batch_size=32)"
   ]
  },
  {
   "cell_type": "code",
   "execution_count": 125,
   "metadata": {},
   "outputs": [
    {
     "data": {
      "text/plain": [
       "DataBatch(x=[640, 2], edge_index=[2, 1152], y=[32], batch=[640], ptr=[33])"
      ]
     },
     "execution_count": 125,
     "metadata": {},
     "output_type": "execute_result"
    }
   ],
   "source": [
    "sample = next(iter(train_dl))\n",
    "sample"
   ]
  },
  {
   "cell_type": "markdown",
   "metadata": {},
   "source": [
    "### Model Creation"
   ]
  },
  {
   "cell_type": "code",
   "execution_count": 126,
   "metadata": {},
   "outputs": [
    {
     "name": "stdout",
     "output_type": "stream",
     "text": [
      "GCN(\n",
      "  (conv1): GCNConv(2, 32)\n",
      "  (conv2): GCNConv(32, 32)\n",
      "  (lin): Linear(in_features=32, out_features=6, bias=True)\n",
      ")\n"
     ]
    }
   ],
   "source": [
    "class GCN(nn.Module):\n",
    "    def __init__(self, input_channels, hidden_channels, output_channels):\n",
    "        super(GCN, self).__init__()\n",
    "        self.conv1 = GCNConv(input_channels, hidden_channels)\n",
    "        self.conv2 = GCNConv(hidden_channels, hidden_channels)\n",
    "        self.lin = nn.Linear(hidden_channels, output_channels)\n",
    "        \n",
    "    def forward(self, x, edge_index, batch):\n",
    "        x = self.conv1(x, edge_index)\n",
    "        x = x.relu()\n",
    "        x = self.conv2(x, edge_index)\n",
    "\n",
    "        x = global_mean_pool(x, batch)\n",
    "\n",
    "        x = F.dropout(x, p=0.5, training=self.training)\n",
    "        x = self.lin(x)\n",
    "\n",
    "        return x\n",
    "\n",
    "model = GCN(2, 32, 6).to(device)\n",
    "print(model)"
   ]
  },
  {
   "cell_type": "code",
   "execution_count": 127,
   "metadata": {},
   "outputs": [
    {
     "data": {
      "text/plain": [
       "tensor([[ 0.0990,  0.0260, -0.0387, -0.0342,  0.1917,  0.1092],\n",
       "        [ 0.0507, -0.0055, -0.0705, -0.0059,  0.2679, -0.0081],\n",
       "        [ 0.1984,  0.0720, -0.0966, -0.0396,  0.2021,  0.1317],\n",
       "        [ 0.0530, -0.0016, -0.0413, -0.0531,  0.0049, -0.0783],\n",
       "        [ 0.1934,  0.0613, -0.0499,  0.0804,  0.0913,  0.1826],\n",
       "        [ 0.1669, -0.0180, -0.1554, -0.1657,  0.2688,  0.0921],\n",
       "        [ 0.0672,  0.0533,  0.0542,  0.0488,  0.2480, -0.0137],\n",
       "        [ 0.1050,  0.0594,  0.0403,  0.0925, -0.0565,  0.0275],\n",
       "        [ 0.1622,  0.0744,  0.0719,  0.0013,  0.1831, -0.0409],\n",
       "        [ 0.1029, -0.0688, -0.2173,  0.0069,  0.1393,  0.1418],\n",
       "        [-0.0267,  0.0751,  0.0005,  0.0435,  0.1181,  0.0292],\n",
       "        [ 0.1108, -0.0444, -0.1571, -0.0569,  0.0429,  0.1958],\n",
       "        [ 0.1557,  0.0656,  0.0633,  0.0882,  0.2534,  0.2618],\n",
       "        [ 0.0772,  0.0594,  0.1176,  0.1184,  0.2976,  0.1368],\n",
       "        [ 0.0663,  0.0181,  0.0774,  0.0435,  0.2314,  0.0046],\n",
       "        [ 0.1171,  0.0177, -0.1365, -0.0901,  0.1514, -0.0040],\n",
       "        [ 0.0025,  0.1050, -0.0725, -0.0363,  0.0632, -0.0566],\n",
       "        [ 0.0306,  0.0199,  0.0190,  0.1187,  0.0712,  0.1055],\n",
       "        [ 0.1461,  0.1011,  0.1649, -0.1766,  0.1448,  0.0605],\n",
       "        [ 0.0505,  0.0371,  0.0243, -0.0319,  0.2130,  0.0947],\n",
       "        [ 0.0496,  0.0181, -0.0257,  0.0483,  0.1896,  0.1264],\n",
       "        [ 0.0919,  0.2164,  0.0973,  0.1369,  0.0729,  0.1210],\n",
       "        [ 0.1068,  0.0793, -0.1366,  0.1987,  0.1105,  0.0871],\n",
       "        [ 0.1162, -0.0114,  0.1039,  0.0840,  0.2784,  0.0869],\n",
       "        [ 0.0757,  0.0557, -0.0625,  0.1355,  0.0656,  0.0250],\n",
       "        [ 0.1316,  0.1550,  0.0731, -0.0363,  0.0487,  0.1070],\n",
       "        [ 0.0539,  0.0064,  0.0156,  0.0105,  0.1466, -0.0699],\n",
       "        [ 0.0080, -0.0185,  0.0259, -0.0164,  0.1243,  0.0568],\n",
       "        [ 0.1767,  0.0166, -0.0529,  0.0833,  0.2326,  0.1675],\n",
       "        [ 0.1344,  0.0901, -0.0472, -0.1162,  0.0625,  0.0234],\n",
       "        [ 0.1574,  0.1621,  0.0495,  0.0139,  0.0851,  0.1806],\n",
       "        [ 0.0868, -0.0102,  0.0843,  0.0106,  0.1314,  0.0122]],\n",
       "       grad_fn=<AddmmBackward0>)"
      ]
     },
     "execution_count": 127,
     "metadata": {},
     "output_type": "execute_result"
    }
   ],
   "source": [
    "model(sample.x, sample.edge_index, sample.batch)"
   ]
  },
  {
   "cell_type": "code",
   "execution_count": 128,
   "metadata": {},
   "outputs": [
    {
     "data": {
      "text/plain": [
       "tensor([4, 2, 2, 3, 1, 2, 3, 2, 2, 2, 5, 2, 2, 0, 1, 5, 0, 5, 5, 2, 5, 2, 3, 4,\n",
       "        2, 3, 1, 3, 5, 0, 3, 1])"
      ]
     },
     "execution_count": 128,
     "metadata": {},
     "output_type": "execute_result"
    }
   ],
   "source": [
    "sample.y"
   ]
  },
  {
   "cell_type": "code",
   "execution_count": 129,
   "metadata": {},
   "outputs": [],
   "source": [
    "loss_fn = nn.CrossEntropyLoss()\n",
    "optimizer = torch.optim.Adam(model.parameters(), lr=1e-2)"
   ]
  },
  {
   "cell_type": "markdown",
   "metadata": {},
   "source": [
    "### Model Training"
   ]
  },
  {
   "cell_type": "code",
   "execution_count": 130,
   "metadata": {},
   "outputs": [
    {
     "name": "stderr",
     "output_type": "stream",
     "text": [
      "  0%|          | 0/100 [00:00<?, ?it/s]"
     ]
    },
    {
     "name": "stdout",
     "output_type": "stream",
     "text": [
      "Epoch: 0\n",
      "------\n"
     ]
    },
    {
     "name": "stderr",
     "output_type": "stream",
     "text": [
      "  1%|          | 1/100 [00:00<00:50,  1.97it/s]"
     ]
    },
    {
     "name": "stdout",
     "output_type": "stream",
     "text": [
      "Train Loss: 1.6197\n",
      "Test Loss: 1.5393\n",
      "Epoch: 1\n",
      "------\n"
     ]
    },
    {
     "name": "stderr",
     "output_type": "stream",
     "text": [
      "  2%|▏         | 2/100 [00:00<00:44,  2.20it/s]"
     ]
    },
    {
     "name": "stdout",
     "output_type": "stream",
     "text": [
      "Train Loss: 1.3973\n",
      "Test Loss: 1.2633\n",
      "Epoch: 2\n",
      "------\n"
     ]
    },
    {
     "name": "stderr",
     "output_type": "stream",
     "text": [
      "  3%|▎         | 3/100 [00:01<00:43,  2.25it/s]"
     ]
    },
    {
     "name": "stdout",
     "output_type": "stream",
     "text": [
      "Train Loss: 1.2336\n",
      "Test Loss: 1.1455\n",
      "Epoch: 3\n",
      "------\n"
     ]
    },
    {
     "name": "stderr",
     "output_type": "stream",
     "text": [
      "  4%|▍         | 4/100 [00:01<00:45,  2.12it/s]"
     ]
    },
    {
     "name": "stdout",
     "output_type": "stream",
     "text": [
      "Train Loss: 1.1675\n",
      "Test Loss: 1.0797\n",
      "Epoch: 4\n",
      "------\n"
     ]
    },
    {
     "name": "stderr",
     "output_type": "stream",
     "text": [
      "  5%|▌         | 5/100 [00:02<00:42,  2.21it/s]"
     ]
    },
    {
     "name": "stdout",
     "output_type": "stream",
     "text": [
      "Train Loss: 1.1286\n",
      "Test Loss: 1.0829\n",
      "Epoch: 5\n",
      "------\n"
     ]
    },
    {
     "name": "stderr",
     "output_type": "stream",
     "text": [
      "  6%|▌         | 6/100 [00:02<00:41,  2.25it/s]"
     ]
    },
    {
     "name": "stdout",
     "output_type": "stream",
     "text": [
      "Train Loss: 1.0992\n",
      "Test Loss: 1.0207\n",
      "Epoch: 6\n",
      "------\n"
     ]
    },
    {
     "name": "stderr",
     "output_type": "stream",
     "text": [
      "  7%|▋         | 7/100 [00:03<00:42,  2.21it/s]"
     ]
    },
    {
     "name": "stdout",
     "output_type": "stream",
     "text": [
      "Train Loss: 1.0582\n",
      "Test Loss: 1.0130\n",
      "Epoch: 7\n",
      "------\n"
     ]
    },
    {
     "name": "stderr",
     "output_type": "stream",
     "text": [
      "  8%|▊         | 8/100 [00:03<00:43,  2.11it/s]"
     ]
    },
    {
     "name": "stdout",
     "output_type": "stream",
     "text": [
      "Train Loss: 1.0235\n",
      "Test Loss: 0.9765\n",
      "Epoch: 8\n",
      "------\n"
     ]
    },
    {
     "name": "stderr",
     "output_type": "stream",
     "text": [
      "  9%|▉         | 9/100 [00:04<00:44,  2.05it/s]"
     ]
    },
    {
     "name": "stdout",
     "output_type": "stream",
     "text": [
      "Train Loss: 0.9973\n",
      "Test Loss: 0.9250\n",
      "Epoch: 9\n",
      "------\n"
     ]
    },
    {
     "name": "stderr",
     "output_type": "stream",
     "text": [
      " 10%|█         | 10/100 [00:04<00:44,  2.02it/s]"
     ]
    },
    {
     "name": "stdout",
     "output_type": "stream",
     "text": [
      "Train Loss: 0.9642\n",
      "Test Loss: 0.9436\n",
      "Epoch: 10\n",
      "------\n"
     ]
    },
    {
     "name": "stderr",
     "output_type": "stream",
     "text": [
      " 11%|█         | 11/100 [00:05<00:43,  2.02it/s]"
     ]
    },
    {
     "name": "stdout",
     "output_type": "stream",
     "text": [
      "Train Loss: 0.9648\n",
      "Test Loss: 0.9106\n",
      "Epoch: 11\n",
      "------\n"
     ]
    },
    {
     "name": "stderr",
     "output_type": "stream",
     "text": [
      " 12%|█▏        | 12/100 [00:05<00:42,  2.08it/s]"
     ]
    },
    {
     "name": "stdout",
     "output_type": "stream",
     "text": [
      "Train Loss: 0.9403\n",
      "Test Loss: 0.9479\n",
      "Epoch: 12\n",
      "------\n"
     ]
    },
    {
     "name": "stderr",
     "output_type": "stream",
     "text": [
      " 13%|█▎        | 13/100 [00:06<00:42,  2.06it/s]"
     ]
    },
    {
     "name": "stdout",
     "output_type": "stream",
     "text": [
      "Train Loss: 0.9143\n",
      "Test Loss: 0.9471\n",
      "Epoch: 13\n",
      "------\n"
     ]
    },
    {
     "name": "stderr",
     "output_type": "stream",
     "text": [
      " 14%|█▍        | 14/100 [00:06<00:43,  1.99it/s]"
     ]
    },
    {
     "name": "stdout",
     "output_type": "stream",
     "text": [
      "Train Loss: 0.9121\n",
      "Test Loss: 0.9015\n",
      "Epoch: 14\n",
      "------\n"
     ]
    },
    {
     "name": "stderr",
     "output_type": "stream",
     "text": [
      " 15%|█▌        | 15/100 [00:07<00:40,  2.07it/s]"
     ]
    },
    {
     "name": "stdout",
     "output_type": "stream",
     "text": [
      "Train Loss: 0.8935\n",
      "Test Loss: 0.9434\n",
      "Epoch: 15\n",
      "------\n"
     ]
    },
    {
     "name": "stderr",
     "output_type": "stream",
     "text": [
      " 16%|█▌        | 16/100 [00:07<00:39,  2.13it/s]"
     ]
    },
    {
     "name": "stdout",
     "output_type": "stream",
     "text": [
      "Train Loss: 0.8957\n",
      "Test Loss: 0.9218\n",
      "Epoch: 16\n",
      "------\n"
     ]
    },
    {
     "name": "stderr",
     "output_type": "stream",
     "text": [
      " 17%|█▋        | 17/100 [00:08<00:38,  2.16it/s]"
     ]
    },
    {
     "name": "stdout",
     "output_type": "stream",
     "text": [
      "Train Loss: 0.8888\n",
      "Test Loss: 0.8419\n",
      "Epoch: 17\n",
      "------\n"
     ]
    },
    {
     "name": "stderr",
     "output_type": "stream",
     "text": [
      " 18%|█▊        | 18/100 [00:08<00:40,  2.04it/s]"
     ]
    },
    {
     "name": "stdout",
     "output_type": "stream",
     "text": [
      "Train Loss: 0.9076\n",
      "Test Loss: 0.7573\n",
      "Epoch: 18\n",
      "------\n"
     ]
    },
    {
     "name": "stderr",
     "output_type": "stream",
     "text": [
      " 19%|█▉        | 19/100 [00:09<00:41,  1.96it/s]"
     ]
    },
    {
     "name": "stdout",
     "output_type": "stream",
     "text": [
      "Train Loss: 0.8727\n",
      "Test Loss: 0.8568\n",
      "Epoch: 19\n",
      "------\n"
     ]
    },
    {
     "name": "stderr",
     "output_type": "stream",
     "text": [
      " 20%|██        | 20/100 [00:09<00:46,  1.73it/s]"
     ]
    },
    {
     "name": "stdout",
     "output_type": "stream",
     "text": [
      "Train Loss: 0.8657\n",
      "Test Loss: 0.7721\n",
      "Epoch: 20\n",
      "------\n"
     ]
    },
    {
     "name": "stderr",
     "output_type": "stream",
     "text": [
      " 21%|██        | 21/100 [00:10<00:43,  1.80it/s]"
     ]
    },
    {
     "name": "stdout",
     "output_type": "stream",
     "text": [
      "Train Loss: 0.8622\n",
      "Test Loss: 0.7654\n",
      "Epoch: 21\n",
      "------\n"
     ]
    },
    {
     "name": "stderr",
     "output_type": "stream",
     "text": [
      " 22%|██▏       | 22/100 [00:10<00:41,  1.90it/s]"
     ]
    },
    {
     "name": "stdout",
     "output_type": "stream",
     "text": [
      "Train Loss: 0.8471\n",
      "Test Loss: 0.7651\n",
      "Epoch: 22\n",
      "------\n"
     ]
    },
    {
     "name": "stderr",
     "output_type": "stream",
     "text": [
      " 23%|██▎       | 23/100 [00:11<00:39,  1.97it/s]"
     ]
    },
    {
     "name": "stdout",
     "output_type": "stream",
     "text": [
      "Train Loss: 0.8493\n",
      "Test Loss: 0.7581\n",
      "Epoch: 23\n",
      "------\n"
     ]
    },
    {
     "name": "stderr",
     "output_type": "stream",
     "text": [
      " 24%|██▍       | 24/100 [00:11<00:38,  1.97it/s]"
     ]
    },
    {
     "name": "stdout",
     "output_type": "stream",
     "text": [
      "Train Loss: 0.8251\n",
      "Test Loss: 0.7937\n",
      "Epoch: 24\n",
      "------\n"
     ]
    },
    {
     "name": "stderr",
     "output_type": "stream",
     "text": [
      " 25%|██▌       | 25/100 [00:12<00:37,  2.01it/s]"
     ]
    },
    {
     "name": "stdout",
     "output_type": "stream",
     "text": [
      "Train Loss: 0.8327\n",
      "Test Loss: 0.7667\n",
      "Epoch: 25\n",
      "------\n"
     ]
    },
    {
     "name": "stderr",
     "output_type": "stream",
     "text": [
      " 26%|██▌       | 26/100 [00:12<00:35,  2.08it/s]"
     ]
    },
    {
     "name": "stdout",
     "output_type": "stream",
     "text": [
      "Train Loss: 0.8297\n",
      "Test Loss: 0.7195\n",
      "Epoch: 26\n",
      "------\n"
     ]
    },
    {
     "name": "stderr",
     "output_type": "stream",
     "text": [
      " 27%|██▋       | 27/100 [00:13<00:35,  2.07it/s]"
     ]
    },
    {
     "name": "stdout",
     "output_type": "stream",
     "text": [
      "Train Loss: 0.8443\n",
      "Test Loss: 0.7519\n",
      "Epoch: 27\n",
      "------\n"
     ]
    },
    {
     "name": "stderr",
     "output_type": "stream",
     "text": [
      " 28%|██▊       | 28/100 [00:13<00:33,  2.13it/s]"
     ]
    },
    {
     "name": "stdout",
     "output_type": "stream",
     "text": [
      "Train Loss: 0.8753\n",
      "Test Loss: 0.7057\n",
      "Epoch: 28\n",
      "------\n"
     ]
    },
    {
     "name": "stderr",
     "output_type": "stream",
     "text": [
      " 29%|██▉       | 29/100 [00:14<00:33,  2.14it/s]"
     ]
    },
    {
     "name": "stdout",
     "output_type": "stream",
     "text": [
      "Train Loss: 0.8342\n",
      "Test Loss: 0.7181\n",
      "Epoch: 29\n",
      "------\n"
     ]
    },
    {
     "name": "stderr",
     "output_type": "stream",
     "text": [
      " 30%|███       | 30/100 [00:14<00:33,  2.11it/s]"
     ]
    },
    {
     "name": "stdout",
     "output_type": "stream",
     "text": [
      "Train Loss: 0.8287\n",
      "Test Loss: 0.7253\n",
      "Epoch: 30\n",
      "------\n"
     ]
    },
    {
     "name": "stderr",
     "output_type": "stream",
     "text": [
      " 31%|███       | 31/100 [00:15<00:31,  2.18it/s]"
     ]
    },
    {
     "name": "stdout",
     "output_type": "stream",
     "text": [
      "Train Loss: 0.8360\n",
      "Test Loss: 0.7087\n",
      "Epoch: 31\n",
      "------\n"
     ]
    },
    {
     "name": "stderr",
     "output_type": "stream",
     "text": [
      " 32%|███▏      | 32/100 [00:15<00:30,  2.23it/s]"
     ]
    },
    {
     "name": "stdout",
     "output_type": "stream",
     "text": [
      "Train Loss: 0.8276\n",
      "Test Loss: 0.7003\n",
      "Epoch: 32\n",
      "------\n"
     ]
    },
    {
     "name": "stderr",
     "output_type": "stream",
     "text": [
      " 33%|███▎      | 33/100 [00:15<00:29,  2.26it/s]"
     ]
    },
    {
     "name": "stdout",
     "output_type": "stream",
     "text": [
      "Train Loss: 0.8217\n",
      "Test Loss: 0.7037\n",
      "Epoch: 33\n",
      "------\n"
     ]
    },
    {
     "name": "stderr",
     "output_type": "stream",
     "text": [
      " 34%|███▍      | 34/100 [00:16<00:28,  2.29it/s]"
     ]
    },
    {
     "name": "stdout",
     "output_type": "stream",
     "text": [
      "Train Loss: 0.8155\n",
      "Test Loss: 0.6891\n",
      "Epoch: 34\n",
      "------\n"
     ]
    },
    {
     "name": "stderr",
     "output_type": "stream",
     "text": [
      " 35%|███▌      | 35/100 [00:16<00:28,  2.30it/s]"
     ]
    },
    {
     "name": "stdout",
     "output_type": "stream",
     "text": [
      "Train Loss: 0.8221\n",
      "Test Loss: 0.7160\n",
      "Epoch: 35\n",
      "------\n"
     ]
    },
    {
     "name": "stderr",
     "output_type": "stream",
     "text": [
      " 36%|███▌      | 36/100 [00:17<00:27,  2.32it/s]"
     ]
    },
    {
     "name": "stdout",
     "output_type": "stream",
     "text": [
      "Train Loss: 0.8197\n",
      "Test Loss: 0.7048\n",
      "Epoch: 36\n",
      "------\n"
     ]
    },
    {
     "name": "stderr",
     "output_type": "stream",
     "text": [
      " 37%|███▋      | 37/100 [00:17<00:29,  2.13it/s]"
     ]
    },
    {
     "name": "stdout",
     "output_type": "stream",
     "text": [
      "Train Loss: 0.8264\n",
      "Test Loss: 0.7057\n",
      "Epoch: 37\n",
      "------\n"
     ]
    },
    {
     "name": "stderr",
     "output_type": "stream",
     "text": [
      " 38%|███▊      | 38/100 [00:18<00:28,  2.20it/s]"
     ]
    },
    {
     "name": "stdout",
     "output_type": "stream",
     "text": [
      "Train Loss: 0.8027\n",
      "Test Loss: 0.6906\n",
      "Epoch: 38\n",
      "------\n"
     ]
    },
    {
     "name": "stderr",
     "output_type": "stream",
     "text": [
      " 39%|███▉      | 39/100 [00:18<00:27,  2.23it/s]"
     ]
    },
    {
     "name": "stdout",
     "output_type": "stream",
     "text": [
      "Train Loss: 0.8155\n",
      "Test Loss: 0.6826\n",
      "Epoch: 39\n",
      "------\n"
     ]
    },
    {
     "name": "stderr",
     "output_type": "stream",
     "text": [
      " 40%|████      | 40/100 [00:18<00:26,  2.30it/s]"
     ]
    },
    {
     "name": "stdout",
     "output_type": "stream",
     "text": [
      "Train Loss: 0.8004\n",
      "Test Loss: 0.7154\n",
      "Epoch: 40\n",
      "------\n"
     ]
    },
    {
     "name": "stderr",
     "output_type": "stream",
     "text": [
      " 41%|████      | 41/100 [00:19<00:25,  2.32it/s]"
     ]
    },
    {
     "name": "stdout",
     "output_type": "stream",
     "text": [
      "Train Loss: 0.7965\n",
      "Test Loss: 0.7039\n",
      "Epoch: 41\n",
      "------\n"
     ]
    },
    {
     "name": "stderr",
     "output_type": "stream",
     "text": [
      " 42%|████▏     | 42/100 [00:19<00:24,  2.34it/s]"
     ]
    },
    {
     "name": "stdout",
     "output_type": "stream",
     "text": [
      "Train Loss: 0.7943\n",
      "Test Loss: 0.6978\n",
      "Epoch: 42\n",
      "------\n"
     ]
    },
    {
     "name": "stderr",
     "output_type": "stream",
     "text": [
      " 43%|████▎     | 43/100 [00:20<00:24,  2.32it/s]"
     ]
    },
    {
     "name": "stdout",
     "output_type": "stream",
     "text": [
      "Train Loss: 0.7853\n",
      "Test Loss: 0.6907\n",
      "Epoch: 43\n",
      "------\n"
     ]
    },
    {
     "name": "stderr",
     "output_type": "stream",
     "text": [
      " 44%|████▍     | 44/100 [00:20<00:24,  2.33it/s]"
     ]
    },
    {
     "name": "stdout",
     "output_type": "stream",
     "text": [
      "Train Loss: 0.8132\n",
      "Test Loss: 0.6866\n",
      "Epoch: 44\n",
      "------\n"
     ]
    },
    {
     "name": "stderr",
     "output_type": "stream",
     "text": [
      " 45%|████▌     | 45/100 [00:21<00:23,  2.37it/s]"
     ]
    },
    {
     "name": "stdout",
     "output_type": "stream",
     "text": [
      "Train Loss: 0.7829\n",
      "Test Loss: 0.6730\n",
      "Epoch: 45\n",
      "------\n"
     ]
    },
    {
     "name": "stderr",
     "output_type": "stream",
     "text": [
      " 46%|████▌     | 46/100 [00:21<00:22,  2.35it/s]"
     ]
    },
    {
     "name": "stdout",
     "output_type": "stream",
     "text": [
      "Train Loss: 0.7972\n",
      "Test Loss: 0.6735\n",
      "Epoch: 46\n",
      "------\n"
     ]
    },
    {
     "name": "stderr",
     "output_type": "stream",
     "text": [
      " 47%|████▋     | 47/100 [00:21<00:22,  2.38it/s]"
     ]
    },
    {
     "name": "stdout",
     "output_type": "stream",
     "text": [
      "Train Loss: 0.7960\n",
      "Test Loss: 0.6835\n",
      "Epoch: 47\n",
      "------\n"
     ]
    },
    {
     "name": "stderr",
     "output_type": "stream",
     "text": [
      " 48%|████▊     | 48/100 [00:22<00:21,  2.42it/s]"
     ]
    },
    {
     "name": "stdout",
     "output_type": "stream",
     "text": [
      "Train Loss: 0.7978\n",
      "Test Loss: 0.6693\n",
      "Epoch: 48\n",
      "------\n"
     ]
    },
    {
     "name": "stderr",
     "output_type": "stream",
     "text": [
      " 49%|████▉     | 49/100 [00:22<00:21,  2.43it/s]"
     ]
    },
    {
     "name": "stdout",
     "output_type": "stream",
     "text": [
      "Train Loss: 0.8017\n",
      "Test Loss: 0.6809\n",
      "Epoch: 49\n",
      "------\n"
     ]
    },
    {
     "name": "stderr",
     "output_type": "stream",
     "text": [
      " 50%|█████     | 50/100 [00:23<00:20,  2.46it/s]"
     ]
    },
    {
     "name": "stdout",
     "output_type": "stream",
     "text": [
      "Train Loss: 0.7854\n",
      "Test Loss: 0.7073\n",
      "Epoch: 50\n",
      "------\n"
     ]
    },
    {
     "name": "stderr",
     "output_type": "stream",
     "text": [
      " 51%|█████     | 51/100 [00:23<00:19,  2.48it/s]"
     ]
    },
    {
     "name": "stdout",
     "output_type": "stream",
     "text": [
      "Train Loss: 0.7833\n",
      "Test Loss: 0.6577\n",
      "Epoch: 51\n",
      "------\n"
     ]
    },
    {
     "name": "stderr",
     "output_type": "stream",
     "text": [
      " 52%|█████▏    | 52/100 [00:23<00:19,  2.48it/s]"
     ]
    },
    {
     "name": "stdout",
     "output_type": "stream",
     "text": [
      "Train Loss: 0.8041\n",
      "Test Loss: 0.7043\n",
      "Epoch: 52\n",
      "------\n"
     ]
    },
    {
     "name": "stderr",
     "output_type": "stream",
     "text": [
      " 53%|█████▎    | 53/100 [00:24<00:18,  2.49it/s]"
     ]
    },
    {
     "name": "stdout",
     "output_type": "stream",
     "text": [
      "Train Loss: 0.7837\n",
      "Test Loss: 0.6635\n",
      "Epoch: 53\n",
      "------\n"
     ]
    },
    {
     "name": "stderr",
     "output_type": "stream",
     "text": [
      " 54%|█████▍    | 54/100 [00:24<00:19,  2.41it/s]"
     ]
    },
    {
     "name": "stdout",
     "output_type": "stream",
     "text": [
      "Train Loss: 0.7920\n",
      "Test Loss: 0.6702\n",
      "Epoch: 54\n",
      "------\n"
     ]
    },
    {
     "name": "stderr",
     "output_type": "stream",
     "text": [
      " 55%|█████▌    | 55/100 [00:25<00:18,  2.40it/s]"
     ]
    },
    {
     "name": "stdout",
     "output_type": "stream",
     "text": [
      "Train Loss: 0.7928\n",
      "Test Loss: 0.6606\n",
      "Epoch: 55\n",
      "------\n"
     ]
    },
    {
     "name": "stderr",
     "output_type": "stream",
     "text": [
      " 56%|█████▌    | 56/100 [00:25<00:19,  2.30it/s]"
     ]
    },
    {
     "name": "stdout",
     "output_type": "stream",
     "text": [
      "Train Loss: 0.7833\n",
      "Test Loss: 0.6621\n",
      "Epoch: 56\n",
      "------\n"
     ]
    },
    {
     "name": "stderr",
     "output_type": "stream",
     "text": [
      " 57%|█████▋    | 57/100 [00:26<00:19,  2.18it/s]"
     ]
    },
    {
     "name": "stdout",
     "output_type": "stream",
     "text": [
      "Train Loss: 0.7826\n",
      "Test Loss: 0.6663\n",
      "Epoch: 57\n",
      "------\n"
     ]
    },
    {
     "name": "stderr",
     "output_type": "stream",
     "text": [
      " 58%|█████▊    | 58/100 [00:26<00:19,  2.12it/s]"
     ]
    },
    {
     "name": "stdout",
     "output_type": "stream",
     "text": [
      "Train Loss: 0.7700\n",
      "Test Loss: 0.6459\n",
      "Epoch: 58\n",
      "------\n"
     ]
    },
    {
     "name": "stderr",
     "output_type": "stream",
     "text": [
      " 59%|█████▉    | 59/100 [00:27<00:22,  1.82it/s]"
     ]
    },
    {
     "name": "stdout",
     "output_type": "stream",
     "text": [
      "Train Loss: 0.7859\n",
      "Test Loss: 0.6573\n",
      "Epoch: 59\n",
      "------\n"
     ]
    },
    {
     "name": "stderr",
     "output_type": "stream",
     "text": [
      " 60%|██████    | 60/100 [00:27<00:21,  1.82it/s]"
     ]
    },
    {
     "name": "stdout",
     "output_type": "stream",
     "text": [
      "Train Loss: 0.7835\n",
      "Test Loss: 0.6584\n",
      "Epoch: 60\n",
      "------\n"
     ]
    },
    {
     "name": "stderr",
     "output_type": "stream",
     "text": [
      " 61%|██████    | 61/100 [00:28<00:21,  1.85it/s]"
     ]
    },
    {
     "name": "stdout",
     "output_type": "stream",
     "text": [
      "Train Loss: 0.7799\n",
      "Test Loss: 0.6658\n",
      "Epoch: 61\n",
      "------\n"
     ]
    },
    {
     "name": "stderr",
     "output_type": "stream",
     "text": [
      " 62%|██████▏   | 62/100 [00:29<00:21,  1.74it/s]"
     ]
    },
    {
     "name": "stdout",
     "output_type": "stream",
     "text": [
      "Train Loss: 0.8006\n",
      "Test Loss: 0.6877\n",
      "Epoch: 62\n",
      "------\n"
     ]
    },
    {
     "name": "stderr",
     "output_type": "stream",
     "text": [
      " 63%|██████▎   | 63/100 [00:29<00:20,  1.85it/s]"
     ]
    },
    {
     "name": "stdout",
     "output_type": "stream",
     "text": [
      "Train Loss: 0.7831\n",
      "Test Loss: 0.6902\n",
      "Epoch: 63\n",
      "------\n"
     ]
    },
    {
     "name": "stderr",
     "output_type": "stream",
     "text": [
      " 64%|██████▍   | 64/100 [00:30<00:18,  1.98it/s]"
     ]
    },
    {
     "name": "stdout",
     "output_type": "stream",
     "text": [
      "Train Loss: 0.7667\n",
      "Test Loss: 0.6802\n",
      "Epoch: 64\n",
      "------\n"
     ]
    },
    {
     "name": "stderr",
     "output_type": "stream",
     "text": [
      " 65%|██████▌   | 65/100 [00:30<00:16,  2.07it/s]"
     ]
    },
    {
     "name": "stdout",
     "output_type": "stream",
     "text": [
      "Train Loss: 0.7715\n",
      "Test Loss: 0.6760\n",
      "Epoch: 65\n",
      "------\n"
     ]
    },
    {
     "name": "stderr",
     "output_type": "stream",
     "text": [
      " 66%|██████▌   | 66/100 [00:30<00:15,  2.14it/s]"
     ]
    },
    {
     "name": "stdout",
     "output_type": "stream",
     "text": [
      "Train Loss: 0.7775\n",
      "Test Loss: 0.6991\n",
      "Epoch: 66\n",
      "------\n"
     ]
    },
    {
     "name": "stderr",
     "output_type": "stream",
     "text": [
      " 67%|██████▋   | 67/100 [00:31<00:15,  2.13it/s]"
     ]
    },
    {
     "name": "stdout",
     "output_type": "stream",
     "text": [
      "Train Loss: 0.7626\n",
      "Test Loss: 0.6640\n",
      "Epoch: 67\n",
      "------\n"
     ]
    },
    {
     "name": "stderr",
     "output_type": "stream",
     "text": [
      " 68%|██████▊   | 68/100 [00:31<00:15,  2.10it/s]"
     ]
    },
    {
     "name": "stdout",
     "output_type": "stream",
     "text": [
      "Train Loss: 0.7666\n",
      "Test Loss: 0.6518\n",
      "Epoch: 68\n",
      "------\n"
     ]
    },
    {
     "name": "stderr",
     "output_type": "stream",
     "text": [
      " 69%|██████▉   | 69/100 [00:32<00:14,  2.13it/s]"
     ]
    },
    {
     "name": "stdout",
     "output_type": "stream",
     "text": [
      "Train Loss: 0.7777\n",
      "Test Loss: 0.7124\n",
      "Epoch: 69\n",
      "------\n"
     ]
    },
    {
     "name": "stderr",
     "output_type": "stream",
     "text": [
      " 70%|███████   | 70/100 [00:32<00:14,  2.11it/s]"
     ]
    },
    {
     "name": "stdout",
     "output_type": "stream",
     "text": [
      "Train Loss: 0.7771\n",
      "Test Loss: 0.6906\n",
      "Epoch: 70\n",
      "------\n"
     ]
    },
    {
     "name": "stderr",
     "output_type": "stream",
     "text": [
      " 71%|███████   | 71/100 [00:33<00:13,  2.14it/s]"
     ]
    },
    {
     "name": "stdout",
     "output_type": "stream",
     "text": [
      "Train Loss: 0.7690\n",
      "Test Loss: 0.6690\n",
      "Epoch: 71\n",
      "------\n"
     ]
    },
    {
     "name": "stderr",
     "output_type": "stream",
     "text": [
      " 72%|███████▏  | 72/100 [00:33<00:13,  2.13it/s]"
     ]
    },
    {
     "name": "stdout",
     "output_type": "stream",
     "text": [
      "Train Loss: 0.7712\n",
      "Test Loss: 0.6646\n",
      "Epoch: 72\n",
      "------\n"
     ]
    },
    {
     "name": "stderr",
     "output_type": "stream",
     "text": [
      " 73%|███████▎  | 73/100 [00:34<00:13,  2.06it/s]"
     ]
    },
    {
     "name": "stdout",
     "output_type": "stream",
     "text": [
      "Train Loss: 0.7618\n",
      "Test Loss: 0.6515\n",
      "Epoch: 73\n",
      "------\n"
     ]
    },
    {
     "name": "stderr",
     "output_type": "stream",
     "text": [
      " 74%|███████▍  | 74/100 [00:34<00:12,  2.07it/s]"
     ]
    },
    {
     "name": "stdout",
     "output_type": "stream",
     "text": [
      "Train Loss: 0.7619\n",
      "Test Loss: 0.6485\n",
      "Epoch: 74\n",
      "------\n"
     ]
    },
    {
     "name": "stderr",
     "output_type": "stream",
     "text": [
      " 75%|███████▌  | 75/100 [00:35<00:11,  2.11it/s]"
     ]
    },
    {
     "name": "stdout",
     "output_type": "stream",
     "text": [
      "Train Loss: 0.7694\n",
      "Test Loss: 0.7052\n",
      "Epoch: 75\n",
      "------\n"
     ]
    },
    {
     "name": "stderr",
     "output_type": "stream",
     "text": [
      " 76%|███████▌  | 76/100 [00:35<00:11,  2.03it/s]"
     ]
    },
    {
     "name": "stdout",
     "output_type": "stream",
     "text": [
      "Train Loss: 0.7634\n",
      "Test Loss: 0.6514\n",
      "Epoch: 76\n",
      "------\n"
     ]
    },
    {
     "name": "stderr",
     "output_type": "stream",
     "text": [
      " 77%|███████▋  | 77/100 [00:36<00:11,  2.08it/s]"
     ]
    },
    {
     "name": "stdout",
     "output_type": "stream",
     "text": [
      "Train Loss: 0.7668\n",
      "Test Loss: 0.6743\n",
      "Epoch: 77\n",
      "------\n"
     ]
    },
    {
     "name": "stderr",
     "output_type": "stream",
     "text": [
      " 78%|███████▊  | 78/100 [00:36<00:10,  2.14it/s]"
     ]
    },
    {
     "name": "stdout",
     "output_type": "stream",
     "text": [
      "Train Loss: 0.7647\n",
      "Test Loss: 0.6566\n",
      "Epoch: 78\n",
      "------\n"
     ]
    },
    {
     "name": "stderr",
     "output_type": "stream",
     "text": [
      " 79%|███████▉  | 79/100 [00:37<00:09,  2.11it/s]"
     ]
    },
    {
     "name": "stdout",
     "output_type": "stream",
     "text": [
      "Train Loss: 0.7699\n",
      "Test Loss: 0.6787\n",
      "Epoch: 79\n",
      "------\n"
     ]
    },
    {
     "name": "stderr",
     "output_type": "stream",
     "text": [
      " 80%|████████  | 80/100 [00:37<00:10,  1.85it/s]"
     ]
    },
    {
     "name": "stdout",
     "output_type": "stream",
     "text": [
      "Train Loss: 0.7548\n",
      "Test Loss: 0.6507\n",
      "Epoch: 80\n",
      "------\n"
     ]
    },
    {
     "name": "stderr",
     "output_type": "stream",
     "text": [
      " 81%|████████  | 81/100 [00:38<00:10,  1.86it/s]"
     ]
    },
    {
     "name": "stdout",
     "output_type": "stream",
     "text": [
      "Train Loss: 0.7548\n",
      "Test Loss: 0.6595\n",
      "Epoch: 81\n",
      "------\n"
     ]
    },
    {
     "name": "stderr",
     "output_type": "stream",
     "text": [
      " 82%|████████▏ | 82/100 [00:38<00:09,  1.83it/s]"
     ]
    },
    {
     "name": "stdout",
     "output_type": "stream",
     "text": [
      "Train Loss: 0.7470\n",
      "Test Loss: 0.6753\n",
      "Epoch: 82\n",
      "------\n"
     ]
    },
    {
     "name": "stderr",
     "output_type": "stream",
     "text": [
      " 83%|████████▎ | 83/100 [00:39<00:08,  1.92it/s]"
     ]
    },
    {
     "name": "stdout",
     "output_type": "stream",
     "text": [
      "Train Loss: 0.7743\n",
      "Test Loss: 0.6490\n",
      "Epoch: 83\n",
      "------\n"
     ]
    },
    {
     "name": "stderr",
     "output_type": "stream",
     "text": [
      " 84%|████████▍ | 84/100 [00:39<00:07,  2.04it/s]"
     ]
    },
    {
     "name": "stdout",
     "output_type": "stream",
     "text": [
      "Train Loss: 0.7542\n",
      "Test Loss: 0.6844\n",
      "Epoch: 84\n",
      "------\n"
     ]
    },
    {
     "name": "stderr",
     "output_type": "stream",
     "text": [
      " 85%|████████▌ | 85/100 [00:40<00:07,  2.05it/s]"
     ]
    },
    {
     "name": "stdout",
     "output_type": "stream",
     "text": [
      "Train Loss: 0.7598\n",
      "Test Loss: 0.6629\n",
      "Epoch: 85\n",
      "------\n"
     ]
    },
    {
     "name": "stderr",
     "output_type": "stream",
     "text": [
      " 86%|████████▌ | 86/100 [00:40<00:06,  2.04it/s]"
     ]
    },
    {
     "name": "stdout",
     "output_type": "stream",
     "text": [
      "Train Loss: 0.7494\n",
      "Test Loss: 0.6549\n",
      "Epoch: 86\n",
      "------\n"
     ]
    },
    {
     "name": "stderr",
     "output_type": "stream",
     "text": [
      " 87%|████████▋ | 87/100 [00:41<00:06,  2.06it/s]"
     ]
    },
    {
     "name": "stdout",
     "output_type": "stream",
     "text": [
      "Train Loss: 0.7470\n",
      "Test Loss: 0.6611\n",
      "Epoch: 87\n",
      "------\n"
     ]
    },
    {
     "name": "stderr",
     "output_type": "stream",
     "text": [
      " 88%|████████▊ | 88/100 [00:41<00:05,  2.04it/s]"
     ]
    },
    {
     "name": "stdout",
     "output_type": "stream",
     "text": [
      "Train Loss: 0.7547\n",
      "Test Loss: 0.6747\n",
      "Epoch: 88\n",
      "------\n"
     ]
    },
    {
     "name": "stderr",
     "output_type": "stream",
     "text": [
      " 89%|████████▉ | 89/100 [00:42<00:05,  2.06it/s]"
     ]
    },
    {
     "name": "stdout",
     "output_type": "stream",
     "text": [
      "Train Loss: 0.7662\n",
      "Test Loss: 0.6719\n",
      "Epoch: 89\n",
      "------\n"
     ]
    },
    {
     "name": "stderr",
     "output_type": "stream",
     "text": [
      " 90%|█████████ | 90/100 [00:42<00:05,  1.95it/s]"
     ]
    },
    {
     "name": "stdout",
     "output_type": "stream",
     "text": [
      "Train Loss: 0.7512\n",
      "Test Loss: 0.6713\n",
      "Epoch: 90\n",
      "------\n"
     ]
    },
    {
     "name": "stderr",
     "output_type": "stream",
     "text": [
      " 91%|█████████ | 91/100 [00:43<00:04,  1.95it/s]"
     ]
    },
    {
     "name": "stdout",
     "output_type": "stream",
     "text": [
      "Train Loss: 0.7444\n",
      "Test Loss: 0.6360\n",
      "Epoch: 91\n",
      "------\n"
     ]
    },
    {
     "name": "stderr",
     "output_type": "stream",
     "text": [
      " 92%|█████████▏| 92/100 [00:43<00:03,  2.02it/s]"
     ]
    },
    {
     "name": "stdout",
     "output_type": "stream",
     "text": [
      "Train Loss: 0.7469\n",
      "Test Loss: 0.6539\n",
      "Epoch: 92\n",
      "------\n"
     ]
    },
    {
     "name": "stderr",
     "output_type": "stream",
     "text": [
      " 93%|█████████▎| 93/100 [00:44<00:03,  2.14it/s]"
     ]
    },
    {
     "name": "stdout",
     "output_type": "stream",
     "text": [
      "Train Loss: 0.7421\n",
      "Test Loss: 0.6728\n",
      "Epoch: 93\n",
      "------\n"
     ]
    },
    {
     "name": "stderr",
     "output_type": "stream",
     "text": [
      " 94%|█████████▍| 94/100 [00:44<00:02,  2.19it/s]"
     ]
    },
    {
     "name": "stdout",
     "output_type": "stream",
     "text": [
      "Train Loss: 0.7295\n",
      "Test Loss: 0.6398\n",
      "Epoch: 94\n",
      "------\n"
     ]
    },
    {
     "name": "stderr",
     "output_type": "stream",
     "text": [
      " 95%|█████████▌| 95/100 [00:45<00:02,  2.21it/s]"
     ]
    },
    {
     "name": "stdout",
     "output_type": "stream",
     "text": [
      "Train Loss: 0.7554\n",
      "Test Loss: 0.6494\n",
      "Epoch: 95\n",
      "------\n"
     ]
    },
    {
     "name": "stderr",
     "output_type": "stream",
     "text": [
      " 96%|█████████▌| 96/100 [00:45<00:01,  2.28it/s]"
     ]
    },
    {
     "name": "stdout",
     "output_type": "stream",
     "text": [
      "Train Loss: 0.7512\n",
      "Test Loss: 0.6655\n",
      "Epoch: 96\n",
      "------\n"
     ]
    },
    {
     "name": "stderr",
     "output_type": "stream",
     "text": [
      " 97%|█████████▋| 97/100 [00:45<00:01,  2.25it/s]"
     ]
    },
    {
     "name": "stdout",
     "output_type": "stream",
     "text": [
      "Train Loss: 0.7416\n",
      "Test Loss: 0.6545\n",
      "Epoch: 97\n",
      "------\n"
     ]
    },
    {
     "name": "stderr",
     "output_type": "stream",
     "text": [
      " 98%|█████████▊| 98/100 [00:46<00:00,  2.16it/s]"
     ]
    },
    {
     "name": "stdout",
     "output_type": "stream",
     "text": [
      "Train Loss: 0.7526\n",
      "Test Loss: 0.6570\n",
      "Epoch: 98\n",
      "------\n"
     ]
    },
    {
     "name": "stderr",
     "output_type": "stream",
     "text": [
      " 99%|█████████▉| 99/100 [00:46<00:00,  2.20it/s]"
     ]
    },
    {
     "name": "stdout",
     "output_type": "stream",
     "text": [
      "Train Loss: 0.7524\n",
      "Test Loss: 0.6709\n",
      "Epoch: 99\n",
      "------\n"
     ]
    },
    {
     "name": "stderr",
     "output_type": "stream",
     "text": [
      "100%|██████████| 100/100 [00:47<00:00,  2.12it/s]"
     ]
    },
    {
     "name": "stdout",
     "output_type": "stream",
     "text": [
      "Train Loss: 0.7354\n",
      "Test Loss: 0.6498\n"
     ]
    },
    {
     "name": "stderr",
     "output_type": "stream",
     "text": [
      "\n"
     ]
    }
   ],
   "source": [
    "torch.manual_seed(42)\n",
    "\n",
    "epochs = 100\n",
    "\n",
    "train_losses = []\n",
    "test_losses = []\n",
    "\n",
    "for epoch in tqdm(range(epochs)):\n",
    "    print(f\"Epoch: {epoch}\\n------\")\n",
    "    \n",
    "    # TRAINING\n",
    "    train_loss =  0\n",
    "    model.train()\n",
    "    for data in train_dl:\n",
    "\n",
    "        # forward pass\n",
    "        pred = model(data.x, data.edge_index, data.batch)\n",
    "\n",
    "        # metrics\n",
    "        loss = loss_fn(pred, data.y)\n",
    "        train_loss += loss\n",
    "\n",
    "        # backprop\n",
    "        optimizer.zero_grad()\n",
    "        loss.backward()\n",
    "        optimizer.step()\n",
    "\n",
    "    # print metrics\n",
    "    train_loss /= len(train_dl)\n",
    "    train_losses.append(train_loss.item())\n",
    "    print(f\"Train Loss: {train_loss:.4f}\")\n",
    "\n",
    "\n",
    "    # TESTING\n",
    "    test_loss = 0\n",
    "    model.eval()\n",
    "    with torch.inference_mode():\n",
    "        for data in test_dl:\n",
    "\n",
    "            # forward pass\n",
    "            pred = model(data.x, data.edge_index, data.batch)\n",
    "\n",
    "            # metrics\n",
    "            loss = loss_fn(pred, data.y)\n",
    "            test_loss += loss\n",
    "\n",
    "        # print metrics\n",
    "        test_loss /= len(test_dl)\n",
    "        test_losses.append(test_loss.item())\n",
    "        print(f\"Test Loss: {test_loss:.4f}\")"
   ]
  },
  {
   "cell_type": "markdown",
   "metadata": {},
   "source": [
    "### Model Evaluation"
   ]
  },
  {
   "cell_type": "code",
   "execution_count": 131,
   "metadata": {},
   "outputs": [
    {
     "data": {
      "text/plain": [
       "Text(0,0.5,'Loss')"
      ]
     },
     "execution_count": 131,
     "metadata": {},
     "output_type": "execute_result"
    },
    {
     "data": {
      "image/png": "[encoded data removed]",
      "text/plain": [
       "<Figure size 640x480 with 1 Axes>"
      ]
     },
     "metadata": {},
     "output_type": "display_data"
    }
   ],
   "source": [
    "sns.lineplot(x=range(epochs), y=train_losses, label='Train Loss')\n",
    "sns.lineplot(x=range(epochs), y=test_losses, label='Test Loss')\n",
    "\n",
    "plt.xlabel('Epochs')\n",
    "plt.ylabel('Loss')"
   ]
  },
  {
   "cell_type": "code",
   "execution_count": 133,
   "metadata": {},
   "outputs": [],
   "source": [
    "save_model(model, 'gcn.safetensors')"
   ]
  }
 ],
 "metadata": {
  "kernelspec": {
   "display_name": "base",
   "language": "python",
   "name": "python3"
  },
  "language_info": {
   "codemirror_mode": {
    "name": "ipython",
    "version": 3
   },
   "file_extension": ".py",
   "mimetype": "text/x-python",
   "name": "python",
   "nbconvert_exporter": "python",
   "pygments_lexer": "ipython3",
   "version": "3.9.19"
  }
 },
 "nbformat": 4,
 "nbformat_minor": 2
}
