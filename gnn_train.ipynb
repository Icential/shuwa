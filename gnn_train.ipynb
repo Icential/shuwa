{
 "cells": [
  {
   "cell_type": "code",
   "execution_count": 1,
   "metadata": {},
   "outputs": [],
   "source": [
    "import pandas as pd\n",
    "import joblib\n",
    "import matplotlib.pyplot as plt\n",
    "import seaborn as sns\n",
    "from sklearn.preprocessing import LabelEncoder\n",
    "import torch\n",
    "import torch.nn as nn\n",
    "import torch.nn.functional as F\n",
    "from torch_geometric.nn import GraphConv, global_mean_pool\n",
    "from torch_geometric.utils import to_undirected\n",
    "from torch_geometric.data import Data\n",
    "from torch_geometric.loader import DataLoader\n",
    "from tqdm import tqdm\n",
    "from safetensors.torch import save_model"
   ]
  },
  {
   "cell_type": "code",
   "execution_count": 2,
   "metadata": {},
   "outputs": [],
   "source": [
    "# device = 'cuda' if torch.cuda.is_available() else 'cpu'\n",
    "device = \"cpu\""
   ]
  },
  {
   "cell_type": "markdown",
   "metadata": {},
   "source": [
    "### Data Processing"
   ]
  },
  {
   "cell_type": "code",
   "execution_count": 3,
   "metadata": {},
   "outputs": [
    {
     "data": {
      "text/html": [
       "<div>\n",
       "<style scoped>\n",
       "    .dataframe tbody tr th:only-of-type {\n",
       "        vertical-align: middle;\n",
       "    }\n",
       "\n",
       "    .dataframe tbody tr th {\n",
       "        vertical-align: top;\n",
       "    }\n",
       "\n",
       "    .dataframe thead th {\n",
       "        text-align: right;\n",
       "    }\n",
       "</style>\n",
       "<table border=\"1\" class=\"dataframe\">\n",
       "  <thead>\n",
       "    <tr style=\"text-align: right;\">\n",
       "      <th></th>\n",
       "      <th>Landmark 0 x</th>\n",
       "      <th>Landmark 0 y</th>\n",
       "      <th>Landmark 0 z</th>\n",
       "      <th>Landmark 1 x</th>\n",
       "      <th>Landmark 1 y</th>\n",
       "      <th>Landmark 1 z</th>\n",
       "      <th>Landmark 2 x</th>\n",
       "      <th>Landmark 2 y</th>\n",
       "      <th>Landmark 2 z</th>\n",
       "      <th>Landmark 3 x</th>\n",
       "      <th>...</th>\n",
       "      <th>Landmark 18 x</th>\n",
       "      <th>Landmark 18 y</th>\n",
       "      <th>Landmark 18 z</th>\n",
       "      <th>Landmark 19 x</th>\n",
       "      <th>Landmark 19 y</th>\n",
       "      <th>Landmark 19 z</th>\n",
       "      <th>Landmark 20 x</th>\n",
       "      <th>Landmark 20 y</th>\n",
       "      <th>Landmark 20 z</th>\n",
       "      <th>Label</th>\n",
       "    </tr>\n",
       "  </thead>\n",
       "  <tbody>\n",
       "    <tr>\n",
       "      <th>0</th>\n",
       "      <td>-0.037993</td>\n",
       "      <td>0.057931</td>\n",
       "      <td>0.004442</td>\n",
       "      <td>-0.047266</td>\n",
       "      <td>0.026725</td>\n",
       "      <td>-0.006041</td>\n",
       "      <td>-0.052424</td>\n",
       "      <td>0.004474</td>\n",
       "      <td>-0.006988</td>\n",
       "      <td>-0.053588</td>\n",
       "      <td>...</td>\n",
       "      <td>0.024683</td>\n",
       "      <td>0.009273</td>\n",
       "      <td>-0.007357</td>\n",
       "      <td>0.032078</td>\n",
       "      <td>0.003632</td>\n",
       "      <td>-0.014625</td>\n",
       "      <td>0.030489</td>\n",
       "      <td>0.004943</td>\n",
       "      <td>-0.023943</td>\n",
       "      <td>okay</td>\n",
       "    </tr>\n",
       "    <tr>\n",
       "      <th>1</th>\n",
       "      <td>-0.005646</td>\n",
       "      <td>0.075994</td>\n",
       "      <td>0.001298</td>\n",
       "      <td>0.024656</td>\n",
       "      <td>0.051832</td>\n",
       "      <td>0.011561</td>\n",
       "      <td>0.045452</td>\n",
       "      <td>0.035231</td>\n",
       "      <td>0.015494</td>\n",
       "      <td>0.067561</td>\n",
       "      <td>...</td>\n",
       "      <td>-0.027572</td>\n",
       "      <td>-0.010882</td>\n",
       "      <td>-0.016814</td>\n",
       "      <td>-0.033732</td>\n",
       "      <td>-0.024054</td>\n",
       "      <td>-0.022971</td>\n",
       "      <td>-0.035903</td>\n",
       "      <td>-0.032292</td>\n",
       "      <td>-0.027351</td>\n",
       "      <td>okay</td>\n",
       "    </tr>\n",
       "    <tr>\n",
       "      <th>2</th>\n",
       "      <td>-0.014400</td>\n",
       "      <td>0.090823</td>\n",
       "      <td>-0.004294</td>\n",
       "      <td>0.012813</td>\n",
       "      <td>0.065451</td>\n",
       "      <td>0.008774</td>\n",
       "      <td>0.036500</td>\n",
       "      <td>0.047876</td>\n",
       "      <td>0.019436</td>\n",
       "      <td>0.062467</td>\n",
       "      <td>...</td>\n",
       "      <td>-0.007362</td>\n",
       "      <td>-0.006102</td>\n",
       "      <td>-0.036582</td>\n",
       "      <td>0.012183</td>\n",
       "      <td>-0.015052</td>\n",
       "      <td>-0.044667</td>\n",
       "      <td>0.027297</td>\n",
       "      <td>-0.014695</td>\n",
       "      <td>-0.049022</td>\n",
       "      <td>okay</td>\n",
       "    </tr>\n",
       "    <tr>\n",
       "      <th>3</th>\n",
       "      <td>-0.013171</td>\n",
       "      <td>0.094140</td>\n",
       "      <td>-0.017708</td>\n",
       "      <td>0.015044</td>\n",
       "      <td>0.069322</td>\n",
       "      <td>0.002030</td>\n",
       "      <td>0.038452</td>\n",
       "      <td>0.046146</td>\n",
       "      <td>0.016647</td>\n",
       "      <td>0.060131</td>\n",
       "      <td>...</td>\n",
       "      <td>-0.010004</td>\n",
       "      <td>-0.009738</td>\n",
       "      <td>-0.039137</td>\n",
       "      <td>0.001193</td>\n",
       "      <td>-0.031637</td>\n",
       "      <td>-0.046446</td>\n",
       "      <td>0.013007</td>\n",
       "      <td>-0.041953</td>\n",
       "      <td>-0.054871</td>\n",
       "      <td>okay</td>\n",
       "    </tr>\n",
       "    <tr>\n",
       "      <th>4</th>\n",
       "      <td>-0.016094</td>\n",
       "      <td>0.089002</td>\n",
       "      <td>0.006281</td>\n",
       "      <td>0.012828</td>\n",
       "      <td>0.063034</td>\n",
       "      <td>0.021948</td>\n",
       "      <td>0.039463</td>\n",
       "      <td>0.044607</td>\n",
       "      <td>0.030844</td>\n",
       "      <td>0.062926</td>\n",
       "      <td>...</td>\n",
       "      <td>-0.026367</td>\n",
       "      <td>-0.004472</td>\n",
       "      <td>-0.036807</td>\n",
       "      <td>-0.025791</td>\n",
       "      <td>-0.026992</td>\n",
       "      <td>-0.042681</td>\n",
       "      <td>-0.023097</td>\n",
       "      <td>-0.041298</td>\n",
       "      <td>-0.055171</td>\n",
       "      <td>okay</td>\n",
       "    </tr>\n",
       "  </tbody>\n",
       "</table>\n",
       "<p>5 rows × 64 columns</p>\n",
       "</div>"
      ],
      "text/plain": [
       "   Landmark 0 x  Landmark 0 y  Landmark 0 z  Landmark 1 x  Landmark 1 y  \\\n",
       "0     -0.037993      0.057931      0.004442     -0.047266      0.026725   \n",
       "1     -0.005646      0.075994      0.001298      0.024656      0.051832   \n",
       "2     -0.014400      0.090823     -0.004294      0.012813      0.065451   \n",
       "3     -0.013171      0.094140     -0.017708      0.015044      0.069322   \n",
       "4     -0.016094      0.089002      0.006281      0.012828      0.063034   \n",
       "\n",
       "   Landmark 1 z  Landmark 2 x  Landmark 2 y  Landmark 2 z  Landmark 3 x  ...  \\\n",
       "0     -0.006041     -0.052424      0.004474     -0.006988     -0.053588  ...   \n",
       "1      0.011561      0.045452      0.035231      0.015494      0.067561  ...   \n",
       "2      0.008774      0.036500      0.047876      0.019436      0.062467  ...   \n",
       "3      0.002030      0.038452      0.046146      0.016647      0.060131  ...   \n",
       "4      0.021948      0.039463      0.044607      0.030844      0.062926  ...   \n",
       "\n",
       "   Landmark 18 x  Landmark 18 y  Landmark 18 z  Landmark 19 x  Landmark 19 y  \\\n",
       "0       0.024683       0.009273      -0.007357       0.032078       0.003632   \n",
       "1      -0.027572      -0.010882      -0.016814      -0.033732      -0.024054   \n",
       "2      -0.007362      -0.006102      -0.036582       0.012183      -0.015052   \n",
       "3      -0.010004      -0.009738      -0.039137       0.001193      -0.031637   \n",
       "4      -0.026367      -0.004472      -0.036807      -0.025791      -0.026992   \n",
       "\n",
       "   Landmark 19 z  Landmark 20 x  Landmark 20 y  Landmark 20 z  Label  \n",
       "0      -0.014625       0.030489       0.004943      -0.023943   okay  \n",
       "1      -0.022971      -0.035903      -0.032292      -0.027351   okay  \n",
       "2      -0.044667       0.027297      -0.014695      -0.049022   okay  \n",
       "3      -0.046446       0.013007      -0.041953      -0.054871   okay  \n",
       "4      -0.042681      -0.023097      -0.041298      -0.055171   okay  \n",
       "\n",
       "[5 rows x 64 columns]"
      ]
     },
     "execution_count": 3,
     "metadata": {},
     "output_type": "execute_result"
    }
   ],
   "source": [
    "df = pd.read_csv('new_signs_en.csv')\n",
    "df.head()"
   ]
  },
  {
   "cell_type": "code",
   "execution_count": 4,
   "metadata": {},
   "outputs": [
    {
     "data": {
      "text/html": [
       "<div>\n",
       "<style scoped>\n",
       "    .dataframe tbody tr th:only-of-type {\n",
       "        vertical-align: middle;\n",
       "    }\n",
       "\n",
       "    .dataframe tbody tr th {\n",
       "        vertical-align: top;\n",
       "    }\n",
       "\n",
       "    .dataframe thead th {\n",
       "        text-align: right;\n",
       "    }\n",
       "</style>\n",
       "<table border=\"1\" class=\"dataframe\">\n",
       "  <thead>\n",
       "    <tr style=\"text-align: right;\">\n",
       "      <th></th>\n",
       "      <th>Landmark 0 x</th>\n",
       "      <th>Landmark 0 y</th>\n",
       "      <th>Landmark 0 z</th>\n",
       "      <th>Landmark 1 x</th>\n",
       "      <th>Landmark 1 y</th>\n",
       "      <th>Landmark 1 z</th>\n",
       "      <th>Landmark 2 x</th>\n",
       "      <th>Landmark 2 y</th>\n",
       "      <th>Landmark 2 z</th>\n",
       "      <th>Landmark 3 x</th>\n",
       "      <th>...</th>\n",
       "      <th>Landmark 18 x</th>\n",
       "      <th>Landmark 18 y</th>\n",
       "      <th>Landmark 18 z</th>\n",
       "      <th>Landmark 19 x</th>\n",
       "      <th>Landmark 19 y</th>\n",
       "      <th>Landmark 19 z</th>\n",
       "      <th>Landmark 20 x</th>\n",
       "      <th>Landmark 20 y</th>\n",
       "      <th>Landmark 20 z</th>\n",
       "      <th>Label</th>\n",
       "    </tr>\n",
       "  </thead>\n",
       "  <tbody>\n",
       "    <tr>\n",
       "      <th>0</th>\n",
       "      <td>-0.010239</td>\n",
       "      <td>0.056995</td>\n",
       "      <td>0.048322</td>\n",
       "      <td>0.014969</td>\n",
       "      <td>0.036082</td>\n",
       "      <td>0.040442</td>\n",
       "      <td>0.038195</td>\n",
       "      <td>0.026444</td>\n",
       "      <td>0.030233</td>\n",
       "      <td>0.060492</td>\n",
       "      <td>...</td>\n",
       "      <td>-0.026535</td>\n",
       "      <td>-0.004289</td>\n",
       "      <td>-0.007332</td>\n",
       "      <td>-0.024540</td>\n",
       "      <td>-0.021687</td>\n",
       "      <td>-0.014291</td>\n",
       "      <td>-0.018570</td>\n",
       "      <td>-0.033478</td>\n",
       "      <td>-0.021973</td>\n",
       "      <td>okay</td>\n",
       "    </tr>\n",
       "    <tr>\n",
       "      <th>1</th>\n",
       "      <td>-0.020437</td>\n",
       "      <td>0.019301</td>\n",
       "      <td>0.076203</td>\n",
       "      <td>-0.009364</td>\n",
       "      <td>-0.003245</td>\n",
       "      <td>0.060962</td>\n",
       "      <td>-0.005217</td>\n",
       "      <td>-0.022624</td>\n",
       "      <td>0.044543</td>\n",
       "      <td>-0.001038</td>\n",
       "      <td>...</td>\n",
       "      <td>-0.001497</td>\n",
       "      <td>0.026727</td>\n",
       "      <td>0.004575</td>\n",
       "      <td>-0.006822</td>\n",
       "      <td>0.025387</td>\n",
       "      <td>0.015516</td>\n",
       "      <td>-0.013840</td>\n",
       "      <td>0.022895</td>\n",
       "      <td>0.016418</td>\n",
       "      <td>good</td>\n",
       "    </tr>\n",
       "    <tr>\n",
       "      <th>2</th>\n",
       "      <td>-0.019664</td>\n",
       "      <td>-0.077246</td>\n",
       "      <td>-0.038224</td>\n",
       "      <td>-0.011665</td>\n",
       "      <td>-0.062105</td>\n",
       "      <td>-0.008706</td>\n",
       "      <td>-0.006520</td>\n",
       "      <td>-0.034435</td>\n",
       "      <td>0.020129</td>\n",
       "      <td>0.000842</td>\n",
       "      <td>...</td>\n",
       "      <td>0.004231</td>\n",
       "      <td>0.021520</td>\n",
       "      <td>-0.033625</td>\n",
       "      <td>0.005288</td>\n",
       "      <td>0.049189</td>\n",
       "      <td>-0.033678</td>\n",
       "      <td>0.004688</td>\n",
       "      <td>0.066439</td>\n",
       "      <td>-0.032394</td>\n",
       "      <td>not good</td>\n",
       "    </tr>\n",
       "    <tr>\n",
       "      <th>3</th>\n",
       "      <td>0.031481</td>\n",
       "      <td>0.086567</td>\n",
       "      <td>0.007161</td>\n",
       "      <td>-0.002998</td>\n",
       "      <td>0.072879</td>\n",
       "      <td>0.002860</td>\n",
       "      <td>-0.023507</td>\n",
       "      <td>0.061872</td>\n",
       "      <td>-0.004079</td>\n",
       "      <td>-0.048201</td>\n",
       "      <td>...</td>\n",
       "      <td>0.032392</td>\n",
       "      <td>-0.018827</td>\n",
       "      <td>-0.016040</td>\n",
       "      <td>0.029501</td>\n",
       "      <td>-0.039913</td>\n",
       "      <td>-0.023004</td>\n",
       "      <td>0.027531</td>\n",
       "      <td>-0.053760</td>\n",
       "      <td>-0.034915</td>\n",
       "      <td>okay</td>\n",
       "    </tr>\n",
       "    <tr>\n",
       "      <th>4</th>\n",
       "      <td>-0.025002</td>\n",
       "      <td>0.080575</td>\n",
       "      <td>0.023477</td>\n",
       "      <td>0.007310</td>\n",
       "      <td>0.065296</td>\n",
       "      <td>0.022222</td>\n",
       "      <td>0.030048</td>\n",
       "      <td>0.055826</td>\n",
       "      <td>0.017053</td>\n",
       "      <td>0.048943</td>\n",
       "      <td>...</td>\n",
       "      <td>-0.034807</td>\n",
       "      <td>-0.009838</td>\n",
       "      <td>-0.026401</td>\n",
       "      <td>-0.034057</td>\n",
       "      <td>-0.029552</td>\n",
       "      <td>-0.034812</td>\n",
       "      <td>-0.034171</td>\n",
       "      <td>-0.045054</td>\n",
       "      <td>-0.046899</td>\n",
       "      <td>okay</td>\n",
       "    </tr>\n",
       "  </tbody>\n",
       "</table>\n",
       "<p>5 rows × 64 columns</p>\n",
       "</div>"
      ],
      "text/plain": [
       "   Landmark 0 x  Landmark 0 y  Landmark 0 z  Landmark 1 x  Landmark 1 y  \\\n",
       "0     -0.010239      0.056995      0.048322      0.014969      0.036082   \n",
       "1     -0.020437      0.019301      0.076203     -0.009364     -0.003245   \n",
       "2     -0.019664     -0.077246     -0.038224     -0.011665     -0.062105   \n",
       "3      0.031481      0.086567      0.007161     -0.002998      0.072879   \n",
       "4     -0.025002      0.080575      0.023477      0.007310      0.065296   \n",
       "\n",
       "   Landmark 1 z  Landmark 2 x  Landmark 2 y  Landmark 2 z  Landmark 3 x  ...  \\\n",
       "0      0.040442      0.038195      0.026444      0.030233      0.060492  ...   \n",
       "1      0.060962     -0.005217     -0.022624      0.044543     -0.001038  ...   \n",
       "2     -0.008706     -0.006520     -0.034435      0.020129      0.000842  ...   \n",
       "3      0.002860     -0.023507      0.061872     -0.004079     -0.048201  ...   \n",
       "4      0.022222      0.030048      0.055826      0.017053      0.048943  ...   \n",
       "\n",
       "   Landmark 18 x  Landmark 18 y  Landmark 18 z  Landmark 19 x  Landmark 19 y  \\\n",
       "0      -0.026535      -0.004289      -0.007332      -0.024540      -0.021687   \n",
       "1      -0.001497       0.026727       0.004575      -0.006822       0.025387   \n",
       "2       0.004231       0.021520      -0.033625       0.005288       0.049189   \n",
       "3       0.032392      -0.018827      -0.016040       0.029501      -0.039913   \n",
       "4      -0.034807      -0.009838      -0.026401      -0.034057      -0.029552   \n",
       "\n",
       "   Landmark 19 z  Landmark 20 x  Landmark 20 y  Landmark 20 z     Label  \n",
       "0      -0.014291      -0.018570      -0.033478      -0.021973      okay  \n",
       "1       0.015516      -0.013840       0.022895       0.016418      good  \n",
       "2      -0.033678       0.004688       0.066439      -0.032394  not good  \n",
       "3      -0.023004       0.027531      -0.053760      -0.034915      okay  \n",
       "4      -0.034812      -0.034171      -0.045054      -0.046899      okay  \n",
       "\n",
       "[5 rows x 64 columns]"
      ]
     },
     "execution_count": 4,
     "metadata": {},
     "output_type": "execute_result"
    }
   ],
   "source": [
    "df = df.sample(frac=1, ignore_index=True, random_state=42)\n",
    "df.head()"
   ]
  },
  {
   "cell_type": "code",
   "execution_count": 5,
   "metadata": {},
   "outputs": [
    {
     "data": {
      "text/plain": [
       "(1712, 63)"
      ]
     },
     "execution_count": 5,
     "metadata": {},
     "output_type": "execute_result"
    }
   ],
   "source": [
    "features = df.drop(columns=['Label'])\n",
    "features.shape"
   ]
  },
  {
   "cell_type": "code",
   "execution_count": 6,
   "metadata": {},
   "outputs": [
    {
     "data": {
      "text/plain": [
       "array(['okay', 'good', 'not good'], dtype=object)"
      ]
     },
     "execution_count": 6,
     "metadata": {},
     "output_type": "execute_result"
    }
   ],
   "source": [
    "labels = df['Label']\n",
    "labels.unique()"
   ]
  },
  {
   "cell_type": "code",
   "execution_count": 7,
   "metadata": {},
   "outputs": [
    {
     "data": {
      "text/plain": [
       "(1712,)"
      ]
     },
     "execution_count": 7,
     "metadata": {},
     "output_type": "execute_result"
    }
   ],
   "source": [
    "le = LabelEncoder()\n",
    "labels = le.fit_transform(labels)\n",
    "\n",
    "labels.shape"
   ]
  },
  {
   "cell_type": "markdown",
   "metadata": {},
   "source": [
    "![](hand_landmarks.png)"
   ]
  },
  {
   "cell_type": "markdown",
   "metadata": {},
   "source": [
    "Edge index of hand landmarks are constant. Edge index is a 2D matrix with 2 rows. First row represents origin and second row represents end. Per column, it lists all the connections the graph makes. Essentially it is one of the matrix representations of a graph. Undirected does both a to b and b to a."
   ]
  },
  {
   "cell_type": "code",
   "execution_count": 8,
   "metadata": {},
   "outputs": [],
   "source": [
    "# make edge index\n",
    "edge_index = torch.tensor([\n",
    "    [0, 0, 0, 1, 2, 3, 5, 5, 6, 7, 9, 9, 10, 11, 13, 13, 14, 15, 17, 18, 19],\n",
    "    [1, 5, 17, 2, 3, 4, 6, 9, 7, 8, 10, 13, 11, 12, 17, 14, 15, 16, 18, 19, 20]\n",
    "    ], dtype=torch.long).to(device)\n",
    "\n",
    "# make it undirected\n",
    "edge_index = to_undirected(edge_index)"
   ]
  },
  {
   "cell_type": "code",
   "execution_count": 9,
   "metadata": {},
   "outputs": [],
   "source": [
    "features = features.to_numpy()\n",
    "features = features.reshape(-1, 21, 3)"
   ]
  },
  {
   "cell_type": "code",
   "execution_count": 10,
   "metadata": {},
   "outputs": [],
   "source": [
    "datas = []\n",
    "for i in range(len(features)):\n",
    "    data = Data(\n",
    "        x=torch.tensor(features[i], dtype=torch.float).to(device), \n",
    "        edge_index=edge_index,\n",
    "        y=torch.tensor(labels[i], dtype=torch.long).to(device)\n",
    "    )\n",
    "    datas.append(data)"
   ]
  },
  {
   "cell_type": "code",
   "execution_count": 11,
   "metadata": {},
   "outputs": [],
   "source": [
    "split = int(len(datas) * 0.8)\n",
    "\n",
    "train_dl = DataLoader(datas[:split], batch_size=16)\n",
    "test_dl = DataLoader(datas[split:], batch_size=16)"
   ]
  },
  {
   "cell_type": "code",
   "execution_count": 12,
   "metadata": {},
   "outputs": [
    {
     "data": {
      "text/plain": [
       "DataBatch(x=[336, 3], edge_index=[2, 672], y=[16], batch=[336], ptr=[17])"
      ]
     },
     "execution_count": 12,
     "metadata": {},
     "output_type": "execute_result"
    }
   ],
   "source": [
    "sample = next(iter(train_dl))\n",
    "sample"
   ]
  },
  {
   "cell_type": "markdown",
   "metadata": {},
   "source": [
    "### Model Creation"
   ]
  },
  {
   "cell_type": "code",
   "execution_count": 13,
   "metadata": {},
   "outputs": [
    {
     "name": "stdout",
     "output_type": "stream",
     "text": [
      "GCN(\n",
      "  (conv1): GraphConv(3, 32)\n",
      "  (conv2): GraphConv(32, 32)\n",
      "  (lin): Linear(in_features=32, out_features=3, bias=True)\n",
      ")\n"
     ]
    }
   ],
   "source": [
    "class GCN(nn.Module):\n",
    "    def __init__(self, input_channels, hidden_channels, output_channels):\n",
    "        super(GCN, self).__init__()\n",
    "        self.conv1 = GraphConv(input_channels, hidden_channels)\n",
    "        self.conv2 = GraphConv(hidden_channels, hidden_channels)\n",
    "        self.lin = nn.Linear(hidden_channels, output_channels)\n",
    "        \n",
    "    def forward(self, x, edge_index, batch):\n",
    "        x = self.conv1(x, edge_index)\n",
    "        x = x.relu()\n",
    "        x = self.conv2(x, edge_index)\n",
    "\n",
    "        x = global_mean_pool(x, batch)\n",
    "\n",
    "        x = F.dropout(x, p=0.5, training=self.training)\n",
    "        x = self.lin(x)\n",
    "\n",
    "        return x\n",
    "\n",
    "model = GCN(3, 32, 3).to(device)\n",
    "print(model)"
   ]
  },
  {
   "cell_type": "code",
   "execution_count": 14,
   "metadata": {},
   "outputs": [
    {
     "data": {
      "text/plain": [
       "tensor([[ 0.0576,  0.2683,  0.0655],\n",
       "        [ 0.1509, -0.0291, -0.1804],\n",
       "        [-0.0712,  0.3305,  0.1580],\n",
       "        [-0.1457,  0.5117,  0.0321],\n",
       "        [ 0.0529,  0.5302,  0.2190],\n",
       "        [-0.0205,  0.5187, -0.0635],\n",
       "        [-0.1590,  0.5102,  0.3038],\n",
       "        [ 0.1287,  0.3567, -0.1146],\n",
       "        [-0.0683,  0.2813,  0.2816],\n",
       "        [-0.0246,  0.6572, -0.1135],\n",
       "        [-0.0724,  0.4881,  0.1190],\n",
       "        [-0.1764,  0.6836, -0.1667],\n",
       "        [-0.0143,  0.3027,  0.1323],\n",
       "        [-0.0443,  0.5173,  0.1361],\n",
       "        [-0.2434,  0.3191,  0.0688],\n",
       "        [ 0.0349,  0.4050,  0.1172]], grad_fn=<AddmmBackward0>)"
      ]
     },
     "execution_count": 14,
     "metadata": {},
     "output_type": "execute_result"
    }
   ],
   "source": [
    "model(sample.x, sample.edge_index, sample.batch)"
   ]
  },
  {
   "cell_type": "code",
   "execution_count": 15,
   "metadata": {},
   "outputs": [
    {
     "data": {
      "text/plain": [
       "tensor([2, 0, 1, 2, 2, 1, 1, 2, 2, 0, 1, 1, 2, 1, 2, 2])"
      ]
     },
     "execution_count": 15,
     "metadata": {},
     "output_type": "execute_result"
    }
   ],
   "source": [
    "sample.y"
   ]
  },
  {
   "cell_type": "code",
   "execution_count": 16,
   "metadata": {},
   "outputs": [],
   "source": [
    "loss_fn = nn.CrossEntropyLoss()\n",
    "optimizer = torch.optim.Adam(model.parameters(), lr=2e-2)"
   ]
  },
  {
   "cell_type": "markdown",
   "metadata": {},
   "source": [
    "### Model Training"
   ]
  },
  {
   "cell_type": "code",
   "execution_count": 17,
   "metadata": {},
   "outputs": [
    {
     "name": "stderr",
     "output_type": "stream",
     "text": [
      "  0%|          | 0/50 [00:00<?, ?it/s]"
     ]
    },
    {
     "name": "stdout",
     "output_type": "stream",
     "text": [
      "Epoch: 0\n",
      "------\n"
     ]
    },
    {
     "name": "stderr",
     "output_type": "stream",
     "text": [
      "  2%|▏         | 1/50 [00:00<00:17,  2.86it/s]"
     ]
    },
    {
     "name": "stdout",
     "output_type": "stream",
     "text": [
      "Train Loss: 0.6475, Train Accuracy: 0.69\n",
      "Test Loss: 0.0466, Test Accuracy: 0.99\n",
      "Epoch: 1\n",
      "------\n"
     ]
    },
    {
     "name": "stderr",
     "output_type": "stream",
     "text": [
      "  4%|▍         | 2/50 [00:00<00:17,  2.75it/s]"
     ]
    },
    {
     "name": "stdout",
     "output_type": "stream",
     "text": [
      "Train Loss: 0.0285, Train Accuracy: 0.99\n",
      "Test Loss: 0.0232, Test Accuracy: 1.00\n",
      "Epoch: 2\n",
      "------\n"
     ]
    },
    {
     "name": "stderr",
     "output_type": "stream",
     "text": [
      "  6%|▌         | 3/50 [00:01<00:15,  3.00it/s]"
     ]
    },
    {
     "name": "stdout",
     "output_type": "stream",
     "text": [
      "Train Loss: 0.0233, Train Accuracy: 0.99\n",
      "Test Loss: 0.0330, Test Accuracy: 0.99\n",
      "Epoch: 3\n",
      "------\n"
     ]
    },
    {
     "name": "stderr",
     "output_type": "stream",
     "text": [
      "  8%|▊         | 4/50 [00:01<00:13,  3.35it/s]"
     ]
    },
    {
     "name": "stdout",
     "output_type": "stream",
     "text": [
      "Train Loss: 0.0279, Train Accuracy: 0.99\n",
      "Test Loss: 0.0395, Test Accuracy: 0.99\n",
      "Epoch: 4\n",
      "------\n"
     ]
    },
    {
     "name": "stderr",
     "output_type": "stream",
     "text": [
      " 10%|█         | 5/50 [00:01<00:14,  3.18it/s]"
     ]
    },
    {
     "name": "stdout",
     "output_type": "stream",
     "text": [
      "Train Loss: 0.0340, Train Accuracy: 0.99\n",
      "Test Loss: 0.0003, Test Accuracy: 1.00\n",
      "Epoch: 5\n",
      "------\n"
     ]
    },
    {
     "name": "stderr",
     "output_type": "stream",
     "text": [
      " 12%|█▏        | 6/50 [00:01<00:13,  3.16it/s]"
     ]
    },
    {
     "name": "stdout",
     "output_type": "stream",
     "text": [
      "Train Loss: 0.0274, Train Accuracy: 0.99\n",
      "Test Loss: 0.0002, Test Accuracy: 1.00\n",
      "Epoch: 6\n",
      "------\n"
     ]
    },
    {
     "name": "stderr",
     "output_type": "stream",
     "text": [
      " 14%|█▍        | 7/50 [00:02<00:13,  3.23it/s]"
     ]
    },
    {
     "name": "stdout",
     "output_type": "stream",
     "text": [
      "Train Loss: 0.0274, Train Accuracy: 1.00\n",
      "Test Loss: 0.0057, Test Accuracy: 1.00\n",
      "Epoch: 7\n",
      "------\n"
     ]
    },
    {
     "name": "stderr",
     "output_type": "stream",
     "text": [
      " 16%|█▌        | 8/50 [00:02<00:12,  3.36it/s]"
     ]
    },
    {
     "name": "stdout",
     "output_type": "stream",
     "text": [
      "Train Loss: 0.0250, Train Accuracy: 0.99\n",
      "Test Loss: 0.0054, Test Accuracy: 1.00\n",
      "Epoch: 8\n",
      "------\n"
     ]
    },
    {
     "name": "stderr",
     "output_type": "stream",
     "text": [
      " 18%|█▊        | 9/50 [00:02<00:11,  3.53it/s]"
     ]
    },
    {
     "name": "stdout",
     "output_type": "stream",
     "text": [
      "Train Loss: 0.0172, Train Accuracy: 1.00\n",
      "Test Loss: 0.0069, Test Accuracy: 1.00\n",
      "Epoch: 9\n",
      "------\n"
     ]
    },
    {
     "name": "stderr",
     "output_type": "stream",
     "text": [
      " 20%|██        | 10/50 [00:03<00:11,  3.44it/s]"
     ]
    },
    {
     "name": "stdout",
     "output_type": "stream",
     "text": [
      "Train Loss: 0.0127, Train Accuracy: 1.00\n",
      "Test Loss: 0.0043, Test Accuracy: 1.00\n",
      "Epoch: 10\n",
      "------\n"
     ]
    },
    {
     "name": "stderr",
     "output_type": "stream",
     "text": [
      " 22%|██▏       | 11/50 [00:03<00:11,  3.54it/s]"
     ]
    },
    {
     "name": "stdout",
     "output_type": "stream",
     "text": [
      "Train Loss: 0.0142, Train Accuracy: 1.00\n",
      "Test Loss: 0.0106, Test Accuracy: 1.00\n",
      "Epoch: 11\n",
      "------\n"
     ]
    },
    {
     "name": "stderr",
     "output_type": "stream",
     "text": [
      " 24%|██▍       | 12/50 [00:03<00:10,  3.64it/s]"
     ]
    },
    {
     "name": "stdout",
     "output_type": "stream",
     "text": [
      "Train Loss: 0.0176, Train Accuracy: 0.99\n",
      "Test Loss: 0.0012, Test Accuracy: 1.00\n",
      "Epoch: 12\n",
      "------\n"
     ]
    },
    {
     "name": "stderr",
     "output_type": "stream",
     "text": [
      " 26%|██▌       | 13/50 [00:03<00:10,  3.70it/s]"
     ]
    },
    {
     "name": "stdout",
     "output_type": "stream",
     "text": [
      "Train Loss: 0.0163, Train Accuracy: 1.00\n",
      "Test Loss: 0.0044, Test Accuracy: 1.00\n",
      "Epoch: 13\n",
      "------\n"
     ]
    },
    {
     "name": "stderr",
     "output_type": "stream",
     "text": [
      " 28%|██▊       | 14/50 [00:04<00:09,  3.71it/s]"
     ]
    },
    {
     "name": "stdout",
     "output_type": "stream",
     "text": [
      "Train Loss: 0.0195, Train Accuracy: 1.00\n",
      "Test Loss: 0.0002, Test Accuracy: 1.00\n",
      "Epoch: 14\n",
      "------\n"
     ]
    },
    {
     "name": "stderr",
     "output_type": "stream",
     "text": [
      " 30%|███       | 15/50 [00:04<00:09,  3.75it/s]"
     ]
    },
    {
     "name": "stdout",
     "output_type": "stream",
     "text": [
      "Train Loss: 0.0133, Train Accuracy: 1.00\n",
      "Test Loss: 0.0023, Test Accuracy: 1.00\n",
      "Epoch: 15\n",
      "------\n"
     ]
    },
    {
     "name": "stderr",
     "output_type": "stream",
     "text": [
      " 32%|███▏      | 16/50 [00:04<00:09,  3.61it/s]"
     ]
    },
    {
     "name": "stdout",
     "output_type": "stream",
     "text": [
      "Train Loss: 0.0126, Train Accuracy: 1.00\n",
      "Test Loss: 0.0009, Test Accuracy: 1.00\n",
      "Epoch: 16\n",
      "------\n"
     ]
    },
    {
     "name": "stderr",
     "output_type": "stream",
     "text": [
      " 34%|███▍      | 17/50 [00:04<00:09,  3.64it/s]"
     ]
    },
    {
     "name": "stdout",
     "output_type": "stream",
     "text": [
      "Train Loss: 0.0089, Train Accuracy: 1.00\n",
      "Test Loss: 0.0003, Test Accuracy: 1.00\n",
      "Epoch: 17\n",
      "------\n"
     ]
    },
    {
     "name": "stderr",
     "output_type": "stream",
     "text": [
      " 36%|███▌      | 18/50 [00:05<00:08,  3.68it/s]"
     ]
    },
    {
     "name": "stdout",
     "output_type": "stream",
     "text": [
      "Train Loss: 0.0105, Train Accuracy: 1.00\n",
      "Test Loss: 0.0063, Test Accuracy: 1.00\n",
      "Epoch: 18\n",
      "------\n"
     ]
    },
    {
     "name": "stderr",
     "output_type": "stream",
     "text": [
      " 38%|███▊      | 19/50 [00:05<00:08,  3.72it/s]"
     ]
    },
    {
     "name": "stdout",
     "output_type": "stream",
     "text": [
      "Train Loss: 0.0128, Train Accuracy: 1.00\n",
      "Test Loss: 0.0021, Test Accuracy: 1.00\n",
      "Epoch: 19\n",
      "------\n"
     ]
    },
    {
     "name": "stderr",
     "output_type": "stream",
     "text": [
      " 40%|████      | 20/50 [00:05<00:08,  3.70it/s]"
     ]
    },
    {
     "name": "stdout",
     "output_type": "stream",
     "text": [
      "Train Loss: 0.0093, Train Accuracy: 1.00\n",
      "Test Loss: 0.0012, Test Accuracy: 1.00\n",
      "Epoch: 20\n",
      "------\n"
     ]
    },
    {
     "name": "stderr",
     "output_type": "stream",
     "text": [
      " 42%|████▏     | 21/50 [00:06<00:07,  3.70it/s]"
     ]
    },
    {
     "name": "stdout",
     "output_type": "stream",
     "text": [
      "Train Loss: 0.0144, Train Accuracy: 1.00\n",
      "Test Loss: 0.0007, Test Accuracy: 1.00\n",
      "Epoch: 21\n",
      "------\n"
     ]
    },
    {
     "name": "stderr",
     "output_type": "stream",
     "text": [
      " 44%|████▍     | 22/50 [00:06<00:07,  3.69it/s]"
     ]
    },
    {
     "name": "stdout",
     "output_type": "stream",
     "text": [
      "Train Loss: 0.0113, Train Accuracy: 0.99\n",
      "Test Loss: 0.0001, Test Accuracy: 1.00\n",
      "Epoch: 22\n",
      "------\n"
     ]
    },
    {
     "name": "stderr",
     "output_type": "stream",
     "text": [
      " 46%|████▌     | 23/50 [00:06<00:07,  3.43it/s]"
     ]
    },
    {
     "name": "stdout",
     "output_type": "stream",
     "text": [
      "Train Loss: 0.0117, Train Accuracy: 1.00\n",
      "Test Loss: 0.0033, Test Accuracy: 1.00\n",
      "Epoch: 23\n",
      "------\n"
     ]
    },
    {
     "name": "stderr",
     "output_type": "stream",
     "text": [
      " 48%|████▊     | 24/50 [00:06<00:07,  3.44it/s]"
     ]
    },
    {
     "name": "stdout",
     "output_type": "stream",
     "text": [
      "Train Loss: 0.0104, Train Accuracy: 1.00\n",
      "Test Loss: 0.0007, Test Accuracy: 1.00\n",
      "Epoch: 24\n",
      "------\n"
     ]
    },
    {
     "name": "stderr",
     "output_type": "stream",
     "text": [
      " 50%|█████     | 25/50 [00:07<00:07,  3.24it/s]"
     ]
    },
    {
     "name": "stdout",
     "output_type": "stream",
     "text": [
      "Train Loss: 0.0073, Train Accuracy: 1.00\n",
      "Test Loss: 0.0002, Test Accuracy: 1.00\n",
      "Epoch: 25\n",
      "------\n"
     ]
    },
    {
     "name": "stderr",
     "output_type": "stream",
     "text": [
      " 52%|█████▏    | 26/50 [00:07<00:07,  3.25it/s]"
     ]
    },
    {
     "name": "stdout",
     "output_type": "stream",
     "text": [
      "Train Loss: 0.0155, Train Accuracy: 1.00\n",
      "Test Loss: 0.0002, Test Accuracy: 1.00\n",
      "Epoch: 26\n",
      "------\n"
     ]
    },
    {
     "name": "stderr",
     "output_type": "stream",
     "text": [
      " 54%|█████▍    | 27/50 [00:07<00:07,  3.18it/s]"
     ]
    },
    {
     "name": "stdout",
     "output_type": "stream",
     "text": [
      "Train Loss: 0.0103, Train Accuracy: 1.00\n",
      "Test Loss: 0.0001, Test Accuracy: 1.00\n",
      "Epoch: 27\n",
      "------\n"
     ]
    },
    {
     "name": "stderr",
     "output_type": "stream",
     "text": [
      " 56%|█████▌    | 28/50 [00:08<00:06,  3.29it/s]"
     ]
    },
    {
     "name": "stdout",
     "output_type": "stream",
     "text": [
      "Train Loss: 0.0085, Train Accuracy: 1.00\n",
      "Test Loss: 0.0002, Test Accuracy: 1.00\n",
      "Epoch: 28\n",
      "------\n"
     ]
    },
    {
     "name": "stderr",
     "output_type": "stream",
     "text": [
      " 58%|█████▊    | 29/50 [00:08<00:06,  3.36it/s]"
     ]
    },
    {
     "name": "stdout",
     "output_type": "stream",
     "text": [
      "Train Loss: 0.0108, Train Accuracy: 1.00\n",
      "Test Loss: 0.0009, Test Accuracy: 1.00\n",
      "Epoch: 29\n",
      "------\n"
     ]
    },
    {
     "name": "stderr",
     "output_type": "stream",
     "text": [
      " 60%|██████    | 30/50 [00:08<00:05,  3.44it/s]"
     ]
    },
    {
     "name": "stdout",
     "output_type": "stream",
     "text": [
      "Train Loss: 0.0064, Train Accuracy: 1.00\n",
      "Test Loss: 0.0051, Test Accuracy: 1.00\n",
      "Epoch: 30\n",
      "------\n"
     ]
    },
    {
     "name": "stderr",
     "output_type": "stream",
     "text": [
      " 62%|██████▏   | 31/50 [00:09<00:05,  3.47it/s]"
     ]
    },
    {
     "name": "stdout",
     "output_type": "stream",
     "text": [
      "Train Loss: 0.0170, Train Accuracy: 0.99\n",
      "Test Loss: 0.0001, Test Accuracy: 1.00\n",
      "Epoch: 31\n",
      "------\n"
     ]
    },
    {
     "name": "stderr",
     "output_type": "stream",
     "text": [
      " 64%|██████▍   | 32/50 [00:09<00:05,  3.51it/s]"
     ]
    },
    {
     "name": "stdout",
     "output_type": "stream",
     "text": [
      "Train Loss: 0.0144, Train Accuracy: 1.00\n",
      "Test Loss: 0.0012, Test Accuracy: 1.00\n",
      "Epoch: 32\n",
      "------\n"
     ]
    },
    {
     "name": "stderr",
     "output_type": "stream",
     "text": [
      " 66%|██████▌   | 33/50 [00:09<00:04,  3.51it/s]"
     ]
    },
    {
     "name": "stdout",
     "output_type": "stream",
     "text": [
      "Train Loss: 0.0080, Train Accuracy: 1.00\n",
      "Test Loss: 0.0000, Test Accuracy: 1.00\n",
      "Epoch: 33\n",
      "------\n"
     ]
    },
    {
     "name": "stderr",
     "output_type": "stream",
     "text": [
      " 68%|██████▊   | 34/50 [00:09<00:04,  3.50it/s]"
     ]
    },
    {
     "name": "stdout",
     "output_type": "stream",
     "text": [
      "Train Loss: 0.0306, Train Accuracy: 0.99\n",
      "Test Loss: 0.0001, Test Accuracy: 1.00\n",
      "Epoch: 34\n",
      "------\n"
     ]
    },
    {
     "name": "stderr",
     "output_type": "stream",
     "text": [
      " 70%|███████   | 35/50 [00:10<00:04,  3.39it/s]"
     ]
    },
    {
     "name": "stdout",
     "output_type": "stream",
     "text": [
      "Train Loss: 0.0134, Train Accuracy: 1.00\n",
      "Test Loss: 0.0025, Test Accuracy: 1.00\n",
      "Epoch: 35\n",
      "------\n"
     ]
    },
    {
     "name": "stderr",
     "output_type": "stream",
     "text": [
      " 72%|███████▏  | 36/50 [00:10<00:04,  3.40it/s]"
     ]
    },
    {
     "name": "stdout",
     "output_type": "stream",
     "text": [
      "Train Loss: 0.0118, Train Accuracy: 1.00\n",
      "Test Loss: 0.0012, Test Accuracy: 1.00\n",
      "Epoch: 36\n",
      "------\n"
     ]
    },
    {
     "name": "stderr",
     "output_type": "stream",
     "text": [
      " 74%|███████▍  | 37/50 [00:10<00:03,  3.40it/s]"
     ]
    },
    {
     "name": "stdout",
     "output_type": "stream",
     "text": [
      "Train Loss: 0.0149, Train Accuracy: 1.00\n",
      "Test Loss: 0.0001, Test Accuracy: 1.00\n",
      "Epoch: 37\n",
      "------\n"
     ]
    },
    {
     "name": "stderr",
     "output_type": "stream",
     "text": [
      " 76%|███████▌  | 38/50 [00:11<00:03,  3.23it/s]"
     ]
    },
    {
     "name": "stdout",
     "output_type": "stream",
     "text": [
      "Train Loss: 0.0062, Train Accuracy: 1.00\n",
      "Test Loss: 0.0141, Test Accuracy: 1.00\n",
      "Epoch: 38\n",
      "------\n"
     ]
    },
    {
     "name": "stderr",
     "output_type": "stream",
     "text": [
      " 78%|███████▊  | 39/50 [00:11<00:03,  3.35it/s]"
     ]
    },
    {
     "name": "stdout",
     "output_type": "stream",
     "text": [
      "Train Loss: 0.0132, Train Accuracy: 1.00\n",
      "Test Loss: 0.0037, Test Accuracy: 1.00\n",
      "Epoch: 39\n",
      "------\n"
     ]
    },
    {
     "name": "stderr",
     "output_type": "stream",
     "text": [
      " 80%|████████  | 40/50 [00:11<00:03,  3.24it/s]"
     ]
    },
    {
     "name": "stdout",
     "output_type": "stream",
     "text": [
      "Train Loss: 0.0049, Train Accuracy: 1.00\n",
      "Test Loss: 0.0000, Test Accuracy: 1.00\n",
      "Epoch: 40\n",
      "------\n"
     ]
    },
    {
     "name": "stderr",
     "output_type": "stream",
     "text": [
      " 82%|████████▏ | 41/50 [00:11<00:02,  3.38it/s]"
     ]
    },
    {
     "name": "stdout",
     "output_type": "stream",
     "text": [
      "Train Loss: 0.0087, Train Accuracy: 1.00\n",
      "Test Loss: 0.0000, Test Accuracy: 1.00\n",
      "Epoch: 41\n",
      "------\n"
     ]
    },
    {
     "name": "stderr",
     "output_type": "stream",
     "text": [
      " 84%|████████▍ | 42/50 [00:12<00:02,  3.45it/s]"
     ]
    },
    {
     "name": "stdout",
     "output_type": "stream",
     "text": [
      "Train Loss: 0.0255, Train Accuracy: 1.00\n",
      "Test Loss: 0.0022, Test Accuracy: 1.00\n",
      "Epoch: 42\n",
      "------\n"
     ]
    },
    {
     "name": "stderr",
     "output_type": "stream",
     "text": [
      " 86%|████████▌ | 43/50 [00:12<00:02,  3.32it/s]"
     ]
    },
    {
     "name": "stdout",
     "output_type": "stream",
     "text": [
      "Train Loss: 0.0164, Train Accuracy: 0.99\n",
      "Test Loss: 0.0009, Test Accuracy: 1.00\n",
      "Epoch: 43\n",
      "------\n"
     ]
    },
    {
     "name": "stderr",
     "output_type": "stream",
     "text": [
      " 88%|████████▊ | 44/50 [00:12<00:01,  3.38it/s]"
     ]
    },
    {
     "name": "stdout",
     "output_type": "stream",
     "text": [
      "Train Loss: 0.0129, Train Accuracy: 1.00\n",
      "Test Loss: 0.0003, Test Accuracy: 1.00\n",
      "Epoch: 44\n",
      "------\n"
     ]
    },
    {
     "name": "stderr",
     "output_type": "stream",
     "text": [
      " 90%|█████████ | 45/50 [00:13<00:01,  3.21it/s]"
     ]
    },
    {
     "name": "stdout",
     "output_type": "stream",
     "text": [
      "Train Loss: 0.0044, Train Accuracy: 1.00\n",
      "Test Loss: 0.0013, Test Accuracy: 1.00\n",
      "Epoch: 45\n",
      "------\n"
     ]
    },
    {
     "name": "stderr",
     "output_type": "stream",
     "text": [
      " 92%|█████████▏| 46/50 [00:13<00:01,  3.33it/s]"
     ]
    },
    {
     "name": "stdout",
     "output_type": "stream",
     "text": [
      "Train Loss: 0.0108, Train Accuracy: 1.00\n",
      "Test Loss: 0.0016, Test Accuracy: 1.00\n",
      "Epoch: 46\n",
      "------\n"
     ]
    },
    {
     "name": "stderr",
     "output_type": "stream",
     "text": [
      " 94%|█████████▍| 47/50 [00:13<00:00,  3.33it/s]"
     ]
    },
    {
     "name": "stdout",
     "output_type": "stream",
     "text": [
      "Train Loss: 0.0069, Train Accuracy: 1.00\n",
      "Test Loss: 0.0016, Test Accuracy: 1.00\n",
      "Epoch: 47\n",
      "------\n"
     ]
    },
    {
     "name": "stderr",
     "output_type": "stream",
     "text": [
      " 96%|█████████▌| 48/50 [00:14<00:00,  3.22it/s]"
     ]
    },
    {
     "name": "stdout",
     "output_type": "stream",
     "text": [
      "Train Loss: 0.0027, Train Accuracy: 1.00\n",
      "Test Loss: 0.0002, Test Accuracy: 1.00\n",
      "Epoch: 48\n",
      "------\n"
     ]
    },
    {
     "name": "stderr",
     "output_type": "stream",
     "text": [
      " 98%|█████████▊| 49/50 [00:14<00:00,  3.36it/s]"
     ]
    },
    {
     "name": "stdout",
     "output_type": "stream",
     "text": [
      "Train Loss: 0.0007, Train Accuracy: 1.00\n",
      "Test Loss: 0.0000, Test Accuracy: 1.00\n",
      "Epoch: 49\n",
      "------\n"
     ]
    },
    {
     "name": "stderr",
     "output_type": "stream",
     "text": [
      "100%|██████████| 50/50 [00:14<00:00,  3.40it/s]"
     ]
    },
    {
     "name": "stdout",
     "output_type": "stream",
     "text": [
      "Train Loss: 0.0096, Train Accuracy: 1.00\n",
      "Test Loss: 0.0000, Test Accuracy: 1.00\n"
     ]
    },
    {
     "name": "stderr",
     "output_type": "stream",
     "text": [
      "\n"
     ]
    }
   ],
   "source": [
    "torch.manual_seed(42)\n",
    "\n",
    "epochs = 50\n",
    "\n",
    "train_losses, test_losses = [], []\n",
    "train_accs, test_accs = [], []\n",
    "\n",
    "for epoch in tqdm(range(epochs)):\n",
    "    print(f\"Epoch: {epoch}\\n------\")\n",
    "    \n",
    "    # TRAINING\n",
    "    train_loss, train_correct =  0, 0\n",
    "    model.train()\n",
    "    for data in train_dl:\n",
    "\n",
    "        # forward pass\n",
    "        pred = model(data.x, data.edge_index, data.batch)\n",
    "\n",
    "        # metrics\n",
    "        loss = loss_fn(pred, data.y)\n",
    "        train_loss += loss\n",
    "        train_correct += int((pred.argmax(dim=1) == data.y).sum())\n",
    "        train_acc = train_correct/len(train_dl.dataset)\n",
    "\n",
    "        # backprop\n",
    "        optimizer.zero_grad()\n",
    "        loss.backward()\n",
    "        optimizer.step()\n",
    "\n",
    "    # print metrics\n",
    "    train_loss /= len(train_dl)\n",
    "    train_losses.append(train_loss.item())\n",
    "    train_accs.append(train_acc)\n",
    "    print(f\"Train Loss: {train_loss:.4f}, Train Accuracy: {train_acc:.2f}\")\n",
    "\n",
    "\n",
    "    # TESTING\n",
    "    test_loss, test_correct = 0, 0\n",
    "    model.eval()\n",
    "    with torch.inference_mode():\n",
    "        for data in test_dl:\n",
    "\n",
    "            # forward pass\n",
    "            pred = model(data.x, data.edge_index, data.batch)\n",
    "\n",
    "            # metrics\n",
    "            loss = loss_fn(pred, data.y)\n",
    "            test_loss += loss\n",
    "            test_correct += int((pred.argmax(dim=1) == data.y).sum())\n",
    "            test_acc = test_correct/len(test_dl.dataset)\n",
    "\n",
    "        # print metrics\n",
    "        test_loss /= len(test_dl)\n",
    "        test_losses.append(test_loss.item())\n",
    "        test_accs.append(test_acc)\n",
    "        print(f\"Test Loss: {test_loss:.4f}, Test Accuracy: {test_acc:.2f}\")"
   ]
  },
  {
   "cell_type": "markdown",
   "metadata": {},
   "source": [
    "### Model Evaluation"
   ]
  },
  {
   "cell_type": "code",
   "execution_count": 18,
   "metadata": {},
   "outputs": [
    {
     "data": {
      "text/plain": [
       "Text(0, 0.5, 'Accuracy')"
      ]
     },
     "execution_count": 18,
     "metadata": {},
     "output_type": "execute_result"
    },
    {
     "data": {
      "image/png": "[encoded data removed]",
      "text/plain": [
       "<Figure size 1500x600 with 2 Axes>"
      ]
     },
     "metadata": {},
     "output_type": "display_data"
    }
   ],
   "source": [
    "plt.figure(figsize=(15, 6))\n",
    "\n",
    "plt.subplot(121)\n",
    "sns.lineplot(x=range(epochs), y=train_losses, label='Train Loss')\n",
    "sns.lineplot(x=range(epochs), y=test_losses, label='Test Loss')\n",
    "\n",
    "plt.xlabel('Epochs')\n",
    "plt.ylabel('Loss')\n",
    "\n",
    "plt.subplot(122)\n",
    "sns.lineplot(x=range(epochs), y=train_accs, label='Train Accuracy')\n",
    "sns.lineplot(x=range(epochs), y=test_accs, label='Test Accuracy')\n",
    "\n",
    "plt.xlabel('Epochs')\n",
    "plt.ylabel('Accuracy')"
   ]
  },
  {
   "cell_type": "code",
   "execution_count": 19,
   "metadata": {},
   "outputs": [],
   "source": [
    "joblib.dump(le, 'label_encoder.pkl')\n",
    "save_model(model, 'gnn.safetensors')"
   ]
  }
 ],
 "metadata": {
  "kernelspec": {
   "display_name": "base",
   "language": "python",
   "name": "python3"
  },
  "language_info": {
   "codemirror_mode": {
    "name": "ipython",
    "version": 3
   },
   "file_extension": ".py",
   "mimetype": "text/x-python",
   "name": "python",
   "nbconvert_exporter": "python",
   "pygments_lexer": "ipython3",
   "version": "3.9.21"
  }
 },
 "nbformat": 4,
 "nbformat_minor": 2
}
