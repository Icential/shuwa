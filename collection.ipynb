{
 "cells": [
  {
   "cell_type": "code",
   "execution_count": 104,
   "metadata": {},
   "outputs": [],
   "source": [
    "import cv2\n",
    "import mediapipe as mp\n",
    "import time\n",
    "import numpy as np\n",
    "import pandas as pd"
   ]
  },
  {
   "cell_type": "code",
   "execution_count": 105,
   "metadata": {},
   "outputs": [],
   "source": [
    "# only run this once ever per session\n",
    "# try:\n",
    "#     whole = pd.read_csv(\"signs.csv\")\n",
    "\n",
    "# except:\n",
    "#     print(\"No dataset found\")"
   ]
  },
  {
   "cell_type": "code",
   "execution_count": 106,
   "metadata": {},
   "outputs": [],
   "source": [
    "mp_drawing = mp.solutions.drawing_utils\n",
    "mp_drawing_styles = mp.solutions.drawing_styles\n",
    "mp_hands = mp.solutions.hands"
   ]
  },
  {
   "cell_type": "code",
   "execution_count": 107,
   "metadata": {},
   "outputs": [],
   "source": [
    "cap = cv2.VideoCapture(0)\n",
    "\n",
    "ls = []\n",
    "with mp_hands.Hands(\n",
    "    model_complexity = 0,\n",
    "    min_detection_confidence = 0.5,\n",
    "    min_tracking_confidence = 0.5\n",
    ") as hands:\n",
    "    \n",
    "    while cap.isOpened():\n",
    "\n",
    "        time_start = time.time()\n",
    "\n",
    "        retval, frame = cap.read()\n",
    "\n",
    "        if not retval:\n",
    "            print(\"Camera Error; Exiting\")\n",
    "            break\n",
    "\n",
    "        frame.flags.writeable = False\n",
    "        frame = cv2.cvtColor(frame, cv2.COLOR_BGR2RGB)\n",
    "        results = hands.process(frame)\n",
    "        frame = cv2.cvtColor(frame, cv2.COLOR_RGB2BGR)\n",
    "\n",
    "        if results.multi_hand_landmarks:\n",
    "            for hand_landmarks in results.multi_hand_landmarks:\n",
    "                \n",
    "                ls.append([[lmk.x, lmk.y] for lmk in hand_landmarks.landmark])\n",
    "\n",
    "                mp_drawing.draw_landmarks(\n",
    "                    frame,\n",
    "                    hand_landmarks,\n",
    "                    mp_hands.HAND_CONNECTIONS,\n",
    "                    mp_drawing_styles.get_default_hand_landmarks_style(),\n",
    "                    mp_drawing_styles.get_default_hand_connections_style()\n",
    "                )\n",
    "\n",
    "        fps = 1 / (time.time() - time_start)\n",
    "\n",
    "        frame = cv2.putText(frame, f\"FPS: {round(fps)}\", (10,30), cv2.FONT_HERSHEY_SIMPLEX, 1, (255, 0, 0), 3)\n",
    "\n",
    "        cv2.imshow(\"Hand Landmarks\", frame)\n",
    "\n",
    "        if cv2.waitKey(1) == ord('q'):\n",
    "            break\n",
    "\n",
    "cap.release()\n",
    "cv2.destroyAllWindows()"
   ]
  },
  {
   "cell_type": "code",
   "execution_count": 108,
   "metadata": {},
   "outputs": [
    {
     "data": {
      "text/plain": [
       "array([[[0.        , 0.        ],\n",
       "        [0.43936503, 0.82883239],\n",
       "        [0.47370803, 0.80524611],\n",
       "        ...,\n",
       "        [0.41144747, 0.69201577],\n",
       "        [0.43396145, 0.69289559],\n",
       "        [0.44878817, 0.70648545]],\n",
       "\n",
       "       [[0.        , 0.        ],\n",
       "        [0.43625173, 0.83216006],\n",
       "        [0.47266185, 0.80426019],\n",
       "        ...,\n",
       "        [0.40938911, 0.69327873],\n",
       "        [0.4333992 , 0.69432598],\n",
       "        [0.44820988, 0.70900691]],\n",
       "\n",
       "       [[0.        , 0.        ],\n",
       "        [0.43648052, 0.83321702],\n",
       "        [0.47388488, 0.80534774],\n",
       "        ...,\n",
       "        [0.41070062, 0.68811047],\n",
       "        [0.43496194, 0.69194508],\n",
       "        [0.44990349, 0.71053588]],\n",
       "\n",
       "       ...,\n",
       "\n",
       "       [[0.        , 0.        ],\n",
       "        [0.42554864, 0.7270484 ],\n",
       "        [0.46000299, 0.71205157],\n",
       "        ...,\n",
       "        [0.42556474, 0.5838092 ],\n",
       "        [0.4449338 , 0.58564758],\n",
       "        [0.45561346, 0.60274297]],\n",
       "\n",
       "       [[0.        , 0.        ],\n",
       "        [0.44829559, 0.61614323],\n",
       "        [0.46606603, 0.59842378],\n",
       "        ...,\n",
       "        [0.44495973, 0.57893759],\n",
       "        [0.45547324, 0.59153724],\n",
       "        [0.46139997, 0.60229594]],\n",
       "\n",
       "       [[0.        , 0.        ],\n",
       "        [0.42490387, 0.72699761],\n",
       "        [0.45980349, 0.71176124],\n",
       "        ...,\n",
       "        [0.4252848 , 0.58406216],\n",
       "        [0.44467673, 0.58560711],\n",
       "        [0.45572555, 0.60245687]]])"
      ]
     },
     "execution_count": 108,
     "metadata": {},
     "output_type": "execute_result"
    }
   ],
   "source": [
    "# normalize coordinates to be relative centered at landmark 0\n",
    "ls = np.array(ls)\n",
    "\n",
    "for l in ls:\n",
    "    for i in range(21):\n",
    "        l[i][0] = l[i][0] - l[0][0]\n",
    "        l[i][1] = l[i][1] - l[0][1]\n",
    "\n",
    "ls"
   ]
  },
  {
   "cell_type": "code",
   "execution_count": 109,
   "metadata": {},
   "outputs": [
    {
     "data": {
      "text/plain": [
       "(1305, 42)"
      ]
     },
     "execution_count": 109,
     "metadata": {},
     "output_type": "execute_result"
    }
   ],
   "source": [
    "reshaped_ls = ls.copy()\n",
    "reshaped_ls = reshaped_ls.reshape(-1, 42)\n",
    "reshaped_ls.shape"
   ]
  },
  {
   "cell_type": "code",
   "execution_count": 110,
   "metadata": {},
   "outputs": [],
   "source": [
    "df_columns = []\n",
    "for i in range(21):\n",
    "    df_columns.append(f\"Landmark {i} x\")\n",
    "    df_columns.append(f\"Landmark {i} y\")"
   ]
  },
  {
   "cell_type": "code",
   "execution_count": 111,
   "metadata": {},
   "outputs": [
    {
     "data": {
      "text/plain": [
       "(1305, 40)"
      ]
     },
     "execution_count": 111,
     "metadata": {},
     "output_type": "execute_result"
    }
   ],
   "source": [
    "# create dataframe where rows are frames and columns are coordinates of all 21 landmarks (x, y have distinct columns)\n",
    "df = pd.DataFrame(reshaped_ls, columns=df_columns)\n",
    "df.shape"
   ]
  },
  {
   "cell_type": "code",
   "execution_count": 112,
   "metadata": {},
   "outputs": [],
   "source": [
    "# add label for handpose (DO NOT USE EMOJIS LOL)\n",
    "df[\"Label\"] = \"c\""
   ]
  },
  {
   "cell_type": "code",
   "execution_count": 113,
   "metadata": {},
   "outputs": [
    {
     "data": {
      "text/plain": [
       "(3644, 42)"
      ]
     },
     "execution_count": 113,
     "metadata": {},
     "output_type": "execute_result"
    }
   ],
   "source": [
    "try:\n",
    "    whole = pd.concat([whole, df], axis=0)\n",
    "except:\n",
    "    whole = df\n",
    "\n",
    "whole.shape"
   ]
  },
  {
   "cell_type": "code",
   "execution_count": 122,
   "metadata": {},
   "outputs": [
    {
     "data": {
      "text/plain": [
       "c           1305\n",
       "okay         664\n",
       "b            642\n",
       "a            457\n",
       "good         329\n",
       "not good     247\n",
       "Name: Label, dtype: int64"
      ]
     },
     "execution_count": 122,
     "metadata": {},
     "output_type": "execute_result"
    }
   ],
   "source": [
    "whole[\"Label\"].value_counts()"
   ]
  },
  {
   "cell_type": "code",
   "execution_count": 123,
   "metadata": {},
   "outputs": [
    {
     "data": {
      "text/plain": [
       "(3644, 42)"
      ]
     },
     "execution_count": 123,
     "metadata": {},
     "output_type": "execute_result"
    }
   ],
   "source": [
    "whole.shape"
   ]
  },
  {
   "cell_type": "code",
   "execution_count": 55,
   "metadata": {},
   "outputs": [
    {
     "data": {
      "text/plain": [
       "(1240, 42)"
      ]
     },
     "execution_count": 55,
     "metadata": {},
     "output_type": "execute_result"
    }
   ],
   "source": [
    "# just in case of bad data\n",
    "def delete_label(df, label):\n",
    "    return df[df[\"Label\"] != label]\n",
    "\n",
    "# whole = delete_label(whole, \"c\")"
   ]
  },
  {
   "cell_type": "code",
   "execution_count": 124,
   "metadata": {},
   "outputs": [],
   "source": [
    "whole.to_csv(\"signs_en.csv\")"
   ]
  }
 ],
 "metadata": {
  "kernelspec": {
   "display_name": "base",
   "language": "python",
   "name": "python3"
  },
  "language_info": {
   "codemirror_mode": {
    "name": "ipython",
    "version": 3
   },
   "file_extension": ".py",
   "mimetype": "text/x-python",
   "name": "python",
   "nbconvert_exporter": "python",
   "pygments_lexer": "ipython3",
   "version": "3.9.19"
  }
 },
 "nbformat": 4,
 "nbformat_minor": 2
}
